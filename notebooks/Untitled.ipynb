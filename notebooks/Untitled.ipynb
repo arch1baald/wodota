{
 "cells": [
  {
   "cell_type": "code",
   "execution_count": 36,
   "id": "9ea6151d-07a2-4de6-aaeb-dace2341b3aa",
   "metadata": {},
   "outputs": [],
   "source": [
    "import os\n",
    "import sys\n",
    "import json\n",
    "from datetime import datetime\n",
    "\n",
    "import pandas as pd\n",
    "import matplotlib.pyplot as plt\n",
    "\n",
    "sys.path.append('../src')\n",
    "from settings import YOUTUBE_DIR, TIMESTAMPS_DIR\n",
    "from youtube import (\n",
    "    get_nearest_matches, get_video_metadata, generate_team_pairs, generate_team_tournaments,\n",
    "    search_team_tournament_pairs\n",
    ")\n",
    "from search import search, search_top1, get_text_embeddings, get_distilbert_hidden_state"
   ]
  },
  {
   "cell_type": "code",
   "execution_count": 12,
   "id": "9780a902-7282-4cfd-9e35-673e49a5adff",
   "metadata": {},
   "outputs": [
    {
     "name": "stderr",
     "output_type": "stream",
     "text": [
      "2022-08-18 16:06:01.558 | DEBUG    | utils:query_opendota:28 - \n",
      "    SELECT\n",
      "        match_id,\n",
      "        start_time,\n",
      "        matches.leagueid,\n",
      "        leagues.name as league,\n",
      "        radiant_team_id,\n",
      "        radiant_team.name as radiant_name,\n",
      "        radiant_team.tag as radiant_tag,\n",
      "        dire_team_id,\n",
      "        dire_team.name as dire_name,\n",
      "        dire_team.tag as dire_tag\n",
      "    FROM\n",
      "        matches\n",
      "        join teams as dire_team on matches.dire_team_id = dire_team.team_id\n",
      "        join teams as radiant_team on matches.radiant_team_id = radiant_team.team_id\n",
      "        join leagues on matches.leagueid = leagues.leagueid\n",
      "    WHERE\n",
      "        start_time >= extract(epoch from timestamp '07-22-2022')\n",
      "        and start_time < extract(epoch from timestamp '07-25-2022')\n",
      "    ORDER BY\n",
      "        start_time desc\n",
      "    LIMIT\n",
      "        500\n",
      "    \n"
     ]
    },
    {
     "name": "stdout",
     "output_type": "stream",
     "text": [
      "288\n"
     ]
    }
   ],
   "source": [
    "url = 'https://www.youtube.com/watch?v=cXA5Hw2boLA&ab_channel=DotADigest'\n",
    "video_id, metadata = get_video_metadata(url)\n",
    "upload_date = metadata['upload_date']\n",
    "upload_date = datetime.strptime(upload_date, '%Y%m%d')\n",
    "matches = get_nearest_matches(upload_date)\n",
    "print(len(matches))"
   ]
  },
  {
   "cell_type": "code",
   "execution_count": null,
   "id": "e8f3bef8-3993-419b-9eda-09076c4aaab2",
   "metadata": {},
   "outputs": [],
   "source": [
    "title = \"SECRET vs TEAM SPIRIT - RAMPAGE! SEMI FINAL - RIYADH MASTERS 2022 Dota 2 Highlights\""
   ]
  },
  {
   "cell_type": "code",
   "execution_count": 17,
   "id": "79fc6fe1-1e64-4b3d-8498-ee053248f120",
   "metadata": {},
   "outputs": [
    {
     "data": {
      "text/plain": [
       "torch.Size([1, 12, 768])"
      ]
     },
     "execution_count": 19,
     "metadata": {},
     "output_type": "execute_result"
    }
   ],
   "source": [
    "hidden_states = get_distilbert_hidden_state([\n",
    "    'SECRET vs TEAM SPIRIT - RAMPAGE! SEMI FINAL - RIYADH MASTERS 2022 Dota 2 Highlights',\n",
    "])\n",
    "hidden_states.shape"
   ]
  },
  {
   "cell_type": "code",
   "execution_count": 18,
   "id": "3f45425e-4805-4ecf-a29a-b080f1c4fa62",
   "metadata": {},
   "outputs": [
    {
     "data": {
      "text/plain": [
       "torch.Size([2, 22, 768])"
      ]
     },
     "execution_count": 18,
     "metadata": {},
     "output_type": "execute_result"
    }
   ],
   "source": [
    "hidden_states = get_distilbert_hidden_state([\n",
    "    'SECRET vs TEAM SPIRIT - RAMPAGE! SEMI FINAL - RIYADH MASTERS 2022 Dota 2 Highlights',\n",
    "    'SECRET vs SPIRIT - RIYADH MASTERS 2022',\n",
    "])\n",
    "hidden_states.shape"
   ]
  },
  {
   "cell_type": "code",
   "execution_count": null,
   "id": "6d52d31b-eab1-42ff-b8c6-b4bae9c6c4bc",
   "metadata": {},
   "outputs": [],
   "source": []
  },
  {
   "cell_type": "code",
   "execution_count": null,
   "id": "f87b9172-0cb0-4678-96fe-5b41cce708d9",
   "metadata": {},
   "outputs": [],
   "source": []
  },
  {
   "cell_type": "code",
   "execution_count": 20,
   "id": "a8b265e1-a683-4627-ab87-d964686e17af",
   "metadata": {},
   "outputs": [],
   "source": [
    "embedding = get_text_embeddings(title)"
   ]
  },
  {
   "cell_type": "code",
   "execution_count": 25,
   "id": "68204044-9ab7-44d2-b114-e03d29060a52",
   "metadata": {},
   "outputs": [
    {
     "data": {
      "text/plain": [
       "[(2, 'SECRET vs SPIRIT - RIYADH MASTERS 2022'),\n",
       " (0, 'NAVI vs Aliance - The International 2013'),\n",
       " (1, 'LGD Pushat'),\n",
       " (3, 'Net drug, ya ne opravdidaus')]"
      ]
     },
     "execution_count": 25,
     "metadata": {},
     "output_type": "execute_result"
    }
   ],
   "source": [
    "search(\n",
    "    'SECRET vs TEAM SPIRIT - RAMPAGE! SEMI FINAL - RIYADH MASTERS 2022 Dota 2 Highlights',\n",
    "    [\n",
    "        'NAVI vs Aliance - The International 2013',\n",
    "        'LGD Pushat',\n",
    "        'SECRET vs SPIRIT - RIYADH MASTERS 2022',  \n",
    "        'Net drug, ya ne opravdidaus',\n",
    "    ],\n",
    "    top=4\n",
    ")"
   ]
  },
  {
   "cell_type": "code",
   "execution_count": null,
   "id": "75e69837-579f-4097-b8f8-ad80f607b04a",
   "metadata": {},
   "outputs": [],
   "source": [
    "{\n",
    "    \"match_id\": 6676488286,\n",
    "    \"start_time\": 1658692615,\n",
    "    \"leagueid\": 14391,\n",
    "    \"league\": \"Riyadh Masters by Gamers8\",\n",
    "    \"radiant_team_id\": 7119388,\n",
    "    \"radiant_name\": \"Team Spirit\",\n",
    "    \"radiant_tag\": \"TSpirit\",\n",
    "    \"dire_team_id\": 15,\n",
    "    \"dire_name\": \"PSG.LGD\",\n",
    "    \"dire_tag\": \"PSG.LGD\"\n",
    "}"
   ]
  },
  {
   "cell_type": "code",
   "execution_count": 28,
   "id": "dc7f07b2-6d49-47df-a379-b81ff7fb4459",
   "metadata": {},
   "outputs": [
    {
     "data": {
      "text/plain": [
       "{'Team Spirit vs PSG.LGD': 6676488286,\n",
       " 'PSG.LGD vs Team Spirit': 6676488286,\n",
       " 'TSpirit vs PSG.LGD': 6676488286,\n",
       " 'PSG.LGD vs TSpirit': 6676488286}"
      ]
     },
     "execution_count": 28,
     "metadata": {},
     "output_type": "execute_result"
    }
   ],
   "source": [
    "generate_team_pairs([{\n",
    "    \"match_id\": 6676488286,\n",
    "    \"start_time\": 1658692615,\n",
    "    \"leagueid\": 14391,\n",
    "    \"league\": \"Riyadh Masters by Gamers8\",\n",
    "    \"radiant_team_id\": 7119388,\n",
    "    \"radiant_name\": \"Team Spirit\",\n",
    "    \"radiant_tag\": \"TSpirit\",\n",
    "    \"dire_team_id\": 15,\n",
    "    \"dire_name\": \"PSG.LGD\",\n",
    "    \"dire_tag\": \"PSG.LGD\"\n",
    "}])"
   ]
  },
  {
   "cell_type": "code",
   "execution_count": 34,
   "id": "50abd98c-dcfb-40ea-9874-eabb755a730c",
   "metadata": {},
   "outputs": [
    {
     "name": "stdout",
     "output_type": "stream",
     "text": [
      "{\n",
      "    \"Team Spirit vs PSG.LGD | Riyadh Masters by Gamers8\": 6676488286,\n",
      "    \"PSG.LGD vs Team Spirit | Riyadh Masters by Gamers8\": 6676488286,\n",
      "    \"TSpirit vs PSG.LGD | Riyadh Masters by Gamers8\": 6676488286,\n",
      "    \"PSG.LGD vs TSpirit | Riyadh Masters by Gamers8\": 6676488286\n",
      "}\n"
     ]
    }
   ],
   "source": [
    "print(json.dumps({'Team Spirit vs PSG.LGD | Riyadh Masters by Gamers8': 6676488286,\n",
    " 'PSG.LGD vs Team Spirit | Riyadh Masters by Gamers8': 6676488286,\n",
    " 'TSpirit vs PSG.LGD | Riyadh Masters by Gamers8': 6676488286,\n",
    " 'PSG.LGD vs TSpirit | Riyadh Masters by Gamers8': 6676488286}, indent=4))"
   ]
  },
  {
   "cell_type": "code",
   "execution_count": 33,
   "id": "cd51ba1b-7484-44c1-9b57-7745572c1b23",
   "metadata": {},
   "outputs": [
    {
     "data": {
      "text/plain": [
       "{'Team Spirit vs PSG.LGD | Riyadh Masters by Gamers8': 6676488286,\n",
       " 'PSG.LGD vs Team Spirit | Riyadh Masters by Gamers8': 6676488286,\n",
       " 'TSpirit vs PSG.LGD | Riyadh Masters by Gamers8': 6676488286,\n",
       " 'PSG.LGD vs TSpirit | Riyadh Masters by Gamers8': 6676488286}"
      ]
     },
     "execution_count": 33,
     "metadata": {},
     "output_type": "execute_result"
    }
   ],
   "source": [
    "generate_team_tournaments([{\n",
    "    \"match_id\": 6676488286,\n",
    "    \"start_time\": 1658692615,\n",
    "    \"leagueid\": 14391,\n",
    "    \"league\": \"Riyadh Masters by Gamers8\",\n",
    "    \"radiant_team_id\": 7119388,\n",
    "    \"radiant_name\": \"Team Spirit\",\n",
    "    \"radiant_tag\": \"TSpirit\",\n",
    "    \"dire_team_id\": 15,\n",
    "    \"dire_name\": \"PSG.LGD\",\n",
    "    \"dire_tag\": \"PSG.LGD\"\n",
    "}])"
   ]
  },
  {
   "cell_type": "code",
   "execution_count": 35,
   "id": "9988c4d1-84f1-40c3-a6ac-3b373e23e068",
   "metadata": {},
   "outputs": [
    {
     "name": "stdout",
     "output_type": "stream",
     "text": [
      "SECRET vs TEAM SPIRIT | RIYADH MASTERS 2022 \n"
     ]
    }
   ],
   "source": [
    "title = 'SECRET vs TEAM SPIRIT - RAMPAGE! SEMI FINAL - RIYADH MASTERS 2022 Dota 2 Highlights'\n",
    "teams_pair, _, tournament = [t.strip() for t in title.split('-')]\n",
    "tournament = tournament.replace('Dota 2 Highlights', '')\n",
    "title = f'{teams_pair} | {tournament}'\n",
    "print(title)"
   ]
  },
  {
   "cell_type": "code",
   "execution_count": null,
   "id": "2569fea0-70a6-41a8-8d15-599974b6b5b2",
   "metadata": {},
   "outputs": [],
   "source": []
  },
  {
   "cell_type": "code",
   "execution_count": 38,
   "id": "75c7298e-87b6-4d56-8321-675fc4fe3a6e",
   "metadata": {},
   "outputs": [
    {
     "data": {
      "text/plain": [
       "6673204572"
      ]
     },
     "execution_count": 38,
     "metadata": {},
     "output_type": "execute_result"
    }
   ],
   "source": [
    "match_id = search_team_tournament_pairs(teams_pair, tournament, matches)\n",
    "[m for m in matches if m['match_id'] == 6673204572]"
   ]
  },
  {
   "cell_type": "code",
   "execution_count": 41,
   "id": "35027bcc-2284-405c-a7fc-a38a96e541b6",
   "metadata": {},
   "outputs": [
    {
     "name": "stdout",
     "output_type": "stream",
     "text": [
      "[\n",
      "    {\n",
      "        \"match_id\": 6673204572,\n",
      "        \"start_time\": 1658513208,\n",
      "        \"leagueid\": 14391,\n",
      "        \"league\": \"Riyadh Masters by Gamers8\",\n",
      "        \"radiant_team_id\": 1838315,\n",
      "        \"radiant_name\": \"Team Secret\",\n",
      "        \"radiant_tag\": \"Secret\",\n",
      "        \"dire_team_id\": 7119388,\n",
      "        \"dire_name\": \"Team Spirit\",\n",
      "        \"dire_tag\": \"TSpirit\"\n",
      "    }\n",
      "]\n"
     ]
    }
   ],
   "source": [
    "print(json.dumps([{'match_id': 6673204572,\n",
    "  'start_time': 1658513208,\n",
    "  'leagueid': 14391,\n",
    "  'league': 'Riyadh Masters by Gamers8',\n",
    "  'radiant_team_id': 1838315,\n",
    "  'radiant_name': 'Team Secret',\n",
    "  'radiant_tag': 'Secret',\n",
    "  'dire_team_id': 7119388,\n",
    "  'dire_name': 'Team Spirit',\n",
    "  'dire_tag': 'TSpirit'}], indent=4))"
   ]
  },
  {
   "cell_type": "code",
   "execution_count": null,
   "id": "101e960e-aed9-44f3-8a24-3bcf03014257",
   "metadata": {},
   "outputs": [],
   "source": []
  }
 ],
 "metadata": {
  "kernelspec": {
   "display_name": "Python 3 (ipykernel)",
   "language": "python",
   "name": "python3"
  },
  "language_info": {
   "codemirror_mode": {
    "name": "ipython",
    "version": 3
   },
   "file_extension": ".py",
   "mimetype": "text/x-python",
   "name": "python",
   "nbconvert_exporter": "python",
   "pygments_lexer": "ipython3",
   "version": "3.10.6"
  }
 },
 "nbformat": 4,
 "nbformat_minor": 5
}
