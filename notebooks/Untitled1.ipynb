{
 "cells": [
  {
   "cell_type": "code",
   "execution_count": 5,
   "id": "f9322948-44e3-4787-b2e4-f7f1c329a597",
   "metadata": {},
   "outputs": [],
   "source": [
    "import os\n",
    "import sys\n",
    "import json\n",
    "from pathlib import Path\n",
    "\n",
    "import numpy as np\n",
    "import pandas as pd\n",
    "import matplotlib.pyplot as plt\n",
    "\n",
    "sys.path.append('../src')\n",
    "from settings import REPLAY_DIR, YOUTUBE_DIR, TIMESTAMPS_DIR"
   ]
  },
  {
   "cell_type": "code",
   "execution_count": 8,
   "id": "79e6f019-a2e7-4185-82b7-d82d56e3abb3",
   "metadata": {},
   "outputs": [],
   "source": [
    "df = []\n",
    "with open(Path(REPLAY_DIR) / '6676393091.jsonlines', 'r') as fin:\n",
    "    for line in fin:\n",
    "        e = json.loads(line)\n",
    "        df.append(e)\n",
    "df = pd.DataFrame(df)"
   ]
  },
  {
   "cell_type": "code",
   "execution_count": 21,
   "id": "ff7f1303-059d-404a-b624-1f64865ac607",
   "metadata": {},
   "outputs": [
    {
     "data": {
      "text/plain": [
       "Index(['time', 'type', 'key', 'value', 'slot', 'gold', 'lh', 'xp', 'stuns',\n",
       "       'level', 'kills', 'deaths', 'assists', 'denies', 'obs_placed',\n",
       "       'sen_placed', 'creeps_stacked', 'camps_stacked', 'rune_pickups',\n",
       "       'randomed', 'pred_vict', 'firstblood_claimed',\n",
       "       'teamfight_participation', 'towers_killed', 'roshans_killed',\n",
       "       'observers_placed', 'hero_id', 'draft_order', 'pick',\n",
       "       'draft_active_team', 'draft_extime0', 'draft_extime1', 'attackername',\n",
       "       'targetname', 'sourcename', 'targetsourcename', 'attackerhero',\n",
       "       'targethero', 'attackerillusion', 'targetillusion', 'inflictor',\n",
       "       'player1', 'player2', 'gold_reason', 'abilitylevel', 'valuename',\n",
       "       'unit', 'x', 'y', 'life_state', 'charges', 'z', 'entityleft', 'ehandle',\n",
       "       'slow_duration', 'xp_reason', 'itemslot', 'secondary_charges',\n",
       "       'stun_duration'],\n",
       "      dtype='object')"
      ]
     },
     "execution_count": 21,
     "metadata": {},
     "output_type": "execute_result"
    }
   ],
   "source": [
    "df_pint = df[(df['slot'] == 1) & (df['type'] == 'interval')]\n",
    "df_pint.columns"
   ]
  },
  {
   "cell_type": "code",
   "execution_count": 22,
   "id": "2fec08e7-8151-46da-901d-29d3ea34b39d",
   "metadata": {},
   "outputs": [
    {
     "data": {
      "text/plain": [
       "<AxesSubplot:>"
      ]
     },
     "execution_count": 22,
     "metadata": {},
     "output_type": "execute_result"
    },
    {
     "data": {
      "image/png": "[encoded data removed]",
      "text/plain": [
       "<Figure size 432x288 with 1 Axes>"
      ]
     },
     "metadata": {
      "needs_background": "light"
     },
     "output_type": "display_data"
    }
   ],
   "source": [
    "df_pint['deaths'].plot()"
   ]
  },
  {
   "cell_type": "code",
   "execution_count": 17,
   "id": "d1051964-346d-42d9-b1cb-9980c248a7b1",
   "metadata": {},
   "outputs": [
    {
     "data": {
      "text/plain": [
       "array(['draft_start', 'player_slot', 'interval', 'draft_timings',\n",
       "       'chatwheel', 'DOTA_COMBATLOG_GAME_STATE', 'actions',\n",
       "       'CHAT_MESSAGE_ITEM_PURCHASE', 'DOTA_COMBATLOG_GOLD',\n",
       "       'DOTA_COMBATLOG_MODIFIER_ADD', 'DOTA_ABILITY_LEVEL',\n",
       "       'DOTA_COMBATLOG_PURCHASE', 'DOTA_COMBATLOG_MODIFIER_REMOVE',\n",
       "       'DOTA_COMBATLOG_ITEM', 'DOTA_COMBATLOG_ABILITY', 'pings', 'chat',\n",
       "       'obs', 'DOTA_COMBATLOG_PLAYERSTATS', 'DOTA_COMBATLOG_DAMAGE',\n",
       "       'CHAT_MESSAGE_HERO_KILL', 'CHAT_MESSAGE_FIRSTBLOOD',\n",
       "       'DOTA_COMBATLOG_FIRST_BLOOD', 'DOTA_COMBATLOG_XP',\n",
       "       'DOTA_COMBATLOG_DEATH', 'STARTING_ITEM',\n",
       "       'CHAT_MESSAGE_RUNE_PICKUP', 'DOTA_COMBATLOG_HEAL', 'sen',\n",
       "       'CHAT_MESSAGE_RUNE_BOTTLE', 'CHAT_MESSAGE_SENTRY_WARD_KILLED',\n",
       "       'sen_left', 'CHAT_MESSAGE_STREAK_KILL', 'DOTA_COMBATLOG_MULTIKILL',\n",
       "       'CHAT_MESSAGE_GLYPH_USED', 'obs_left', 'CHAT_MESSAGE_SCAN_USED',\n",
       "       'DOTA_COMBATLOG_KILLSTREAK', 'CHAT_MESSAGE_TOWER_KILL',\n",
       "       'DOTA_COMBATLOG_TEAM_BUILDING_KILL',\n",
       "       'CHAT_MESSAGE_OBSERVER_WARD_KILLED', 'CHAT_MESSAGE_ROSHAN_KILL',\n",
       "       'CHAT_MESSAGE_AEGIS', 'CHAT_MESSAGE_BUYBACK',\n",
       "       'DOTA_COMBATLOG_BUYBACK', 'CHAT_MESSAGE_COURIER_LOST',\n",
       "       'CHAT_MESSAGE_BARRACKS_KILL', 'CHAT_MESSAGE_COURIER_RESPAWNED',\n",
       "       'CHAT_MESSAGE_SUPER_CREEPS', 'CHAT_MESSAGE_EFFIGY_KILL',\n",
       "       'CHAT_MESSAGE_DISCONNECT', 'cosmetics', 'dotaplus', 'epilogue'],\n",
       "      dtype=object)"
      ]
     },
     "execution_count": 17,
     "metadata": {},
     "output_type": "execute_result"
    }
   ],
   "source": [
    "df['type'].unique()"
   ]
  },
  {
   "cell_type": "code",
   "execution_count": null,
   "id": "da347889-b14c-4e92-8ca0-2bbca8eb1fcf",
   "metadata": {},
   "outputs": [],
   "source": []
  }
 ],
 "metadata": {
  "kernelspec": {
   "display_name": "Python 3 (ipykernel)",
   "language": "python",
   "name": "python3"
  },
  "language_info": {
   "codemirror_mode": {
    "name": "ipython",
    "version": 3
   },
   "file_extension": ".py",
   "mimetype": "text/x-python",
   "name": "python",
   "nbconvert_exporter": "python",
   "pygments_lexer": "ipython3",
   "version": "3.10.6"
  }
 },
 "nbformat": 4,
 "nbformat_minor": 5
}
