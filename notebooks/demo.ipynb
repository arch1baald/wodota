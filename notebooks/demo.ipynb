{
 "cells": [
  {
   "cell_type": "code",
   "execution_count": 4,
   "id": "bb76d2ce-2d0c-4e40-8a1f-664335aba070",
   "metadata": {},
   "outputs": [
    {
     "name": "stdout",
     "output_type": "stream",
     "text": [
      "The autoreload extension is already loaded. To reload it, use:\n",
      "  %reload_ext autoreload\n"
     ]
    }
   ],
   "source": [
    "%load_ext autoreload\n",
    "%autoreload 2\n",
    "\n",
    "import sys\n",
    "\n",
    "sys.path.append('../src')\n",
    "from dota import Match"
   ]
  },
  {
   "cell_type": "code",
   "execution_count": 5,
   "id": "e11ccbe2-a0ab-4742-a7a8-969ae8006d41",
   "metadata": {},
   "outputs": [],
   "source": [
    "match = Match.from_id(6676393091)\n",
    "match.parse()"
   ]
  },
  {
   "cell_type": "code",
   "execution_count": 6,
   "id": "bf04c643-a260-4e00-af85-660dae6c238b",
   "metadata": {},
   "outputs": [
    {
     "data": {
      "text/plain": [
       "[{'start': -8, 'end': -1, 'clock_start': '-1:52', 'clock_end': '-1:59'},\n",
       " {'start': 53, 'end': 78, 'clock_start': '00:53', 'clock_end': '01:18'},\n",
       " {'start': 100, 'end': 107, 'clock_start': '01:40', 'clock_end': '01:47'},\n",
       " {'start': 133, 'end': 143, 'clock_start': '02:13', 'clock_end': '02:23'},\n",
       " {'start': 163, 'end': 191, 'clock_start': '02:43', 'clock_end': '03:11'},\n",
       " {'start': 210, 'end': 228, 'clock_start': '03:30', 'clock_end': '03:48'},\n",
       " {'start': 243, 'end': 268, 'clock_start': '04:03', 'clock_end': '04:28'},\n",
       " {'start': 279, 'end': 291, 'clock_start': '04:39', 'clock_end': '04:51'},\n",
       " {'start': 305, 'end': 337, 'clock_start': '05:05', 'clock_end': '05:37'},\n",
       " {'start': 380, 'end': 401, 'clock_start': '06:20', 'clock_end': '06:41'},\n",
       " {'start': 418, 'end': 424, 'clock_start': '06:58', 'clock_end': '07:04'},\n",
       " {'start': 456, 'end': 503, 'clock_start': '07:36', 'clock_end': '08:23'},\n",
       " {'start': 517, 'end': 527, 'clock_start': '08:37', 'clock_end': '08:47'},\n",
       " {'start': 552, 'end': 559, 'clock_start': '09:12', 'clock_end': '09:19'},\n",
       " {'start': 582, 'end': 592, 'clock_start': '09:42', 'clock_end': '09:52'},\n",
       " {'start': 649, 'end': 698, 'clock_start': '10:49', 'clock_end': '11:38'},\n",
       " {'start': 825, 'end': 836, 'clock_start': '13:45', 'clock_end': '13:56'},\n",
       " {'start': 921, 'end': 927, 'clock_start': '15:21', 'clock_end': '15:27'},\n",
       " {'start': 951, 'end': 980, 'clock_start': '15:51', 'clock_end': '16:20'},\n",
       " {'start': 990, 'end': 1005, 'clock_start': '16:30', 'clock_end': '16:45'},\n",
       " {'start': 1064, 'end': 1068, 'clock_start': '17:44', 'clock_end': '17:48'},\n",
       " {'start': 1261, 'end': 1272, 'clock_start': '21:01', 'clock_end': '21:12'},\n",
       " {'start': 1410, 'end': 1447, 'clock_start': '23:30', 'clock_end': '24:07'},\n",
       " {'start': 1504, 'end': 1509, 'clock_start': '25:04', 'clock_end': '25:09'},\n",
       " {'start': 1629, 'end': 1649, 'clock_start': '27:09', 'clock_end': '27:29'},\n",
       " {'start': 1689, 'end': 1693, 'clock_start': '28:09', 'clock_end': '28:13'},\n",
       " {'start': 1768, 'end': 1792, 'clock_start': '29:28', 'clock_end': '29:52'},\n",
       " {'start': 2010, 'end': 2037, 'clock_start': '33:30', 'clock_end': '33:57'},\n",
       " {'start': 2047, 'end': 2055, 'clock_start': '34:07', 'clock_end': '34:15'},\n",
       " {'start': 2067, 'end': 2080, 'clock_start': '34:27', 'clock_end': '34:40'}]"
      ]
     },
     "execution_count": 6,
     "metadata": {},
     "output_type": "execute_result"
    }
   ],
   "source": [
    "match.get_action_moments()"
   ]
  },
  {
   "cell_type": "code",
   "execution_count": null,
   "id": "ab370fd7-1592-40ca-a576-7d2146dd38d3",
   "metadata": {},
   "outputs": [],
   "source": []
  }
 ],
 "metadata": {
  "kernelspec": {
   "display_name": "Python 3 (ipykernel)",
   "language": "python",
   "name": "python3"
  },
  "language_info": {
   "codemirror_mode": {
    "name": "ipython",
    "version": 3
   },
   "file_extension": ".py",
   "mimetype": "text/x-python",
   "name": "python",
   "nbconvert_exporter": "python",
   "pygments_lexer": "ipython3",
   "version": "3.10.6"
  }
 },
 "nbformat": 4,
 "nbformat_minor": 5
}
