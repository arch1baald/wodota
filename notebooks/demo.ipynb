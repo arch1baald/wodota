{
 "cells": [
  {
   "cell_type": "code",
   "execution_count": null,
   "id": "bb76d2ce-2d0c-4e40-8a1f-664335aba070",
   "metadata": {},
   "outputs": [],
   "source": [
    "%load_ext autoreload\n",
    "%autoreload 2\n",
    "\n",
    "import sys\n",
    "import os\n",
    "from datetime import datetime\n",
    "\n",
    "import numpy as np\n",
    "import pandas as pd\n",
    "import matplotlib.pyplot as plt\n",
    "from PIL import Image\n",
    "\n",
    "sys.path.append('../src')\n",
    "from dota import Match\n",
    "from youtube import (\n",
    "    analyze_video, crop_frame, extract_text, convert_to_timestamp, get_video_metadata,\n",
    "    get_nearest_matches, generate_team_pairs, search_team_pairs\n",
    ")\n",
    "from utils import plot_player_signals, TimeTable, calculate_iou\n",
    "from settings import FRAMES_DIR, YOUTUBE_DIR"
   ]
  },
  {
   "cell_type": "markdown",
   "id": "3d58f04c-f464-4c8c-b4f1-d892de60474a",
   "metadata": {},
   "source": [
    "# Quick Start"
   ]
  },
  {
   "cell_type": "code",
   "execution_count": null,
   "id": "e11ccbe2-a0ab-4742-a7a8-969ae8006d41",
   "metadata": {},
   "outputs": [],
   "source": [
    "match = Match.from_id(6676393091)\n",
    "match"
   ]
  },
  {
   "cell_type": "code",
   "execution_count": null,
   "id": "51f9e501-2193-49ac-afd4-633bcd364e7e",
   "metadata": {},
   "outputs": [],
   "source": [
    "match.parse()"
   ]
  },
  {
   "cell_type": "code",
   "execution_count": null,
   "id": "bf04c643-a260-4e00-af85-660dae6c238b",
   "metadata": {},
   "outputs": [],
   "source": [
    "match.get_action_moments()"
   ]
  },
  {
   "cell_type": "markdown",
   "id": "7c21376f-2b8e-489d-9550-9fcb131faedb",
   "metadata": {},
   "source": [
    "# Details\n",
    "## Highlights Detector"
   ]
  },
  {
   "cell_type": "code",
   "execution_count": null,
   "id": "ab370fd7-1592-40ca-a576-7d2146dd38d3",
   "metadata": {},
   "outputs": [],
   "source": [
    "player = match.players[1]\n",
    "player"
   ]
  },
  {
   "cell_type": "code",
   "execution_count": null,
   "id": "5d9031e4-7fd1-412c-be0f-8da6c687d6d5",
   "metadata": {},
   "outputs": [],
   "source": [
    "fig, ax = plt.subplots(nrows=1, ncols=3, figsize=(15, 5))\n",
    "plot_player_signals(\n",
    "    player,\n",
    "    ax=ax[0],\n",
    "    hp=True,\n",
    ")\n",
    "\n",
    "plot_player_signals(\n",
    "    player,\n",
    "    ax=ax[1],\n",
    "    dhp=True\n",
    ")\n",
    "\n",
    "plot_player_signals(\n",
    "    player,\n",
    "    ax=ax[2],\n",
    "    sdhp=True\n",
    ")\n",
    "\n",
    "zoom_start, zoom_end = 600, 800\n",
    "fig, ax = plt.subplots(figsize=(15, 5))\n",
    "plot_player_signals(\n",
    "    player,\n",
    "    ax=ax,\n",
    "    zoom_start=zoom_start,\n",
    "    zoom_end=zoom_end,\n",
    "    hp=True,\n",
    "    sdhp=True,\n",
    ")\n",
    "\n",
    "plt.grid(True)\n",
    "plt.show()"
   ]
  },
  {
   "cell_type": "code",
   "execution_count": null,
   "id": "ce3557aa-8528-45a1-a22d-7233a420cbee",
   "metadata": {},
   "outputs": [],
   "source": [
    "zoom_start, zoom_end = 600, 800\n",
    "fig, ax = plt.subplots(figsize=(15, 5))\n",
    "plot_player_signals(\n",
    "    player,\n",
    "    ax=ax,\n",
    "    zoom_start=zoom_start,\n",
    "    zoom_end=zoom_end,\n",
    "    # use_minutes=True,\n",
    "    hp=True,\n",
    "    # max_hp=True,\n",
    "    # dhp=True,\n",
    "    sdhp=True,\n",
    "    signal_hp_decreasing=True,\n",
    "    signal_hp_low=True,\n",
    "    # deaths=True,\n",
    "    # as_target=True,\n",
    "    as_target_escaped=True,\n",
    "    # as_attacker=True,\n",
    "    # as_attacker_kill=True,\n",
    "    action_moments=True,\n",
    ")\n",
    "\n",
    "plt.grid(True)\n",
    "plt.show()"
   ]
  },
  {
   "cell_type": "code",
   "execution_count": null,
   "id": "88030f85-6be6-4cce-9689-0cd7102cbb6a",
   "metadata": {},
   "outputs": [],
   "source": [
    "fig, ax = plt.subplots(figsize=(15, 5))\n",
    "plot_player_signals(\n",
    "    player,\n",
    "    ax=ax,\n",
    "    use_minutes=True,\n",
    "    hp=True,\n",
    "    # max_hp=True,\n",
    "    # dhp=True,\n",
    "    # sdhp=True,\n",
    "    signal_hp_decreasing=True,\n",
    "    signal_hp_low=True,\n",
    "    # deaths=True,\n",
    "    as_target=True,\n",
    "    as_target_line_level=-150,\n",
    "    # as_target_escaped=True,\n",
    "    as_attacker=True,\n",
    "    as_attacker_line_level=-300,\n",
    "    # as_attacker_kill=True,\n",
    "    action_moments=True,\n",
    "    action_moments_line_level=-450,\n",
    ")\n",
    "\n",
    "plt.grid(True)\n",
    "plt.show()"
   ]
  },
  {
   "cell_type": "markdown",
   "id": "f3076278-3afa-4d8f-a10c-7632a23d3633",
   "metadata": {},
   "source": [
    "Problems:\n",
    "- The laning phase is usually boring\n",
    "- What moments are interesting?\n",
    "\n",
    "Hueristics:\n",
    "- 1x1\n",
    "- Mass Fights\n",
    "- Skip Laning Phase\n",
    "- Calculate Damage\n",
    "- Check for epic abilities: Black Hole, Reverse Polarity\n",
    "..."
   ]
  },
  {
   "cell_type": "markdown",
   "id": "c6a50923-e96c-45f7-967f-405e10c59767",
   "metadata": {},
   "source": [
    "## YouTube"
   ]
  },
  {
   "cell_type": "code",
   "execution_count": null,
   "id": "0e2d7cb6-9251-4285-8b8b-9f5efe5a7158",
   "metadata": {},
   "outputs": [],
   "source": [
    "url = 'https://www.youtube.com/watch?v=XTngObUROMo&ab_channel=DotADigest'"
   ]
  },
  {
   "cell_type": "code",
   "execution_count": null,
   "id": "80a2af43-8361-4b86-9d12-2a0a5d9e10b4",
   "metadata": {},
   "outputs": [],
   "source": [
    "analyze_video(\n",
    "    url=url,\n",
    "    keep_video=True,\n",
    "    keep_frames=True,\n",
    "    force_process=True,\n",
    "    frames_limit=30,\n",
    "    min_confidence=0,\n",
    ")"
   ]
  },
  {
   "cell_type": "code",
   "execution_count": null,
   "id": "a161b25a-b9cb-4e44-babb-9b62cd202d67",
   "metadata": {},
   "outputs": [],
   "source": [
    "os.listdir(FRAMES_DIR)[:10]"
   ]
  },
  {
   "cell_type": "code",
   "execution_count": null,
   "id": "d97207da-7fce-4a88-82d4-e8bc1f5892cf",
   "metadata": {},
   "outputs": [],
   "source": [
    "frame_path = FRAMES_DIR / 'XTngObUROMo__539.bmp'\n",
    "Image.open(frame_path)"
   ]
  },
  {
   "cell_type": "code",
   "execution_count": null,
   "id": "c0da6c6d-c6e4-4022-ab25-1607fcd693e1",
   "metadata": {},
   "outputs": [],
   "source": [
    "crop = crop_frame(frame_path)\n",
    "crop[:1]"
   ]
  },
  {
   "cell_type": "code",
   "execution_count": null,
   "id": "8208d39a-c75b-498a-b208-c44a20fc6bce",
   "metadata": {},
   "outputs": [],
   "source": [
    "Image.fromarray(crop)"
   ]
  },
  {
   "cell_type": "code",
   "execution_count": null,
   "id": "9637dfe9-9d60-47ab-82b7-824407d9956b",
   "metadata": {},
   "outputs": [],
   "source": [
    "frame_text = extract_text(crop)\n",
    "frame_text"
   ]
  },
  {
   "cell_type": "code",
   "execution_count": null,
   "id": "2f75c5cc-c5a0-46e2-9136-2d612a6bae6d",
   "metadata": {},
   "outputs": [],
   "source": [
    "convert_to_timestamp(frame_text)"
   ]
  },
  {
   "cell_type": "code",
   "execution_count": null,
   "id": "24535e68-e7af-4060-a90f-bf321f6168f9",
   "metadata": {},
   "outputs": [],
   "source": [
    "video_id, metadata = get_video_metadata(url)\n",
    "title = metadata['fulltitle']\n",
    "upload_date = datetime.strptime(metadata['upload_date'], '%Y%m%d')\n",
    "print(title, '\\n')\n",
    "print(upload_date)"
   ]
  },
  {
   "cell_type": "code",
   "execution_count": null,
   "id": "242be7c5-2649-4730-b18a-828e33f9a3bf",
   "metadata": {},
   "outputs": [],
   "source": [
    "matches = get_nearest_matches(upload_date)\n",
    "print(len(matches))\n",
    "matches[120]"
   ]
  },
  {
   "cell_type": "code",
   "execution_count": null,
   "id": "18ffb767-aab6-44fc-8405-5d918fa11c88",
   "metadata": {},
   "outputs": [],
   "source": [
    "team_pairs = generate_team_pairs(matches)\n",
    "list(team_pairs.items())[7:15]"
   ]
  },
  {
   "cell_type": "code",
   "execution_count": null,
   "id": "2b46abec-25a8-44ba-9d48-947795ca617e",
   "metadata": {},
   "outputs": [],
   "source": [
    "search_team_pairs('TEAM SPIRIT vs PSG LGD', matches)"
   ]
  },
  {
   "cell_type": "markdown",
   "id": "04c316b1-a0a5-4cc5-a1ed-98f37a51b1ff",
   "metadata": {},
   "source": [
    "## IoU"
   ]
  },
  {
   "cell_type": "code",
   "execution_count": null,
   "id": "37ac9d7d-bbf9-4eb1-a4a1-efa59d2c77fb",
   "metadata": {},
   "outputs": [],
   "source": [
    "df_youtube = pd.read_csv(YOUTUBE_DIR / 'XTngObUROMo.csv')\n",
    "df_youtube.columns = ['video_id', 'cluster', 'clock_start', 'clock_end', 'start', 'end']\n",
    "df_youtube['time'] = df_youtube['start'] \n",
    "df_youtube = TimeTable(df_youtube)\n",
    "df_youtube"
   ]
  },
  {
   "cell_type": "markdown",
   "id": "baac45d6-1246-4497-9cdc-3b4308c07031",
   "metadata": {},
   "source": [
    "player_action_moments vs youtube"
   ]
  },
  {
   "cell_type": "code",
   "execution_count": null,
   "id": "9678e0f9-7a21-4150-a2f5-83efb7c4e543",
   "metadata": {},
   "outputs": [],
   "source": [
    "fig, ax = plt.subplots(figsize=(15, 5))\n",
    "plot_player_signals(\n",
    "    player,\n",
    "    ax=ax,\n",
    "    use_minutes=True,\n",
    "    hp=True,\n",
    "    action_moments=True,\n",
    "    action_moments_line_level=0,\n",
    "    df_youtube=df_youtube,\n",
    "    youtube_line_level=-150,\n",
    ")\n",
    "\n",
    "plt.grid(True)\n",
    "plt.show()"
   ]
  },
  {
   "cell_type": "markdown",
   "id": "05e757f7-2092-466a-9b8b-e54eb351653e",
   "metadata": {},
   "source": [
    "match_action_moments vs youtube"
   ]
  },
  {
   "cell_type": "code",
   "execution_count": null,
   "id": "34e877a9-c8c8-4992-924d-66f163d78ae8",
   "metadata": {},
   "outputs": [],
   "source": [
    "fig, ax = plt.subplots(figsize=(15, 5))\n",
    "plot_player_signals(\n",
    "    player,\n",
    "    ax=ax,\n",
    "    use_minutes=True,\n",
    "    df_youtube=df_youtube,\n",
    "    youtube_line_level=-1,\n",
    "    match_action_moments=True,\n",
    "    match_action_moments_line_level=0,\n",
    ")\n",
    "\n",
    "ax.set_ylim(-10, 10)\n",
    "plt.grid(True)\n",
    "plt.show()"
   ]
  },
  {
   "cell_type": "code",
   "execution_count": null,
   "id": "3ad1bff4-1638-42b0-94b9-a2c77423866f",
   "metadata": {},
   "outputs": [],
   "source": [
    "youtube_moments = (\n",
    "    df_youtube[['start', 'end']]\n",
    "    .to_dict('records')\n",
    ")\n",
    "youtube_moments"
   ]
  },
  {
   "cell_type": "code",
   "execution_count": null,
   "id": "42264c0d-3e00-4898-97e7-6fe5a8802518",
   "metadata": {},
   "outputs": [],
   "source": [
    "match_moments = match.action_moments[['start', 'end']].to_dict('records')"
   ]
  },
  {
   "cell_type": "code",
   "execution_count": null,
   "id": "f0f82ccd-e9e6-4682-8bd3-a557b3919202",
   "metadata": {},
   "outputs": [],
   "source": [
    "calculate_iou(match_moments, youtube_moments)"
   ]
  },
  {
   "cell_type": "code",
   "execution_count": null,
   "id": "dff5434b-d12a-4630-aab8-d966282b0b3a",
   "metadata": {},
   "outputs": [],
   "source": []
  }
 ],
 "metadata": {
  "kernelspec": {
   "display_name": "Python 3 (ipykernel)",
   "language": "python",
   "name": "python3"
  },
  "language_info": {
   "codemirror_mode": {
    "name": "ipython",
    "version": 3
   },
   "file_extension": ".py",
   "mimetype": "text/x-python",
   "name": "python",
   "nbconvert_exporter": "python",
   "pygments_lexer": "ipython3",
   "version": "3.10.6"
  }
 },
 "nbformat": 4,
 "nbformat_minor": 5
}
