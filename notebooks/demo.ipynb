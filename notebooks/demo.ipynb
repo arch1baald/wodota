{
 "cells": [
  {
   "cell_type": "code",
   "execution_count": 1,
   "id": "bb76d2ce-2d0c-4e40-8a1f-664335aba070",
   "metadata": {},
   "outputs": [
    {
     "name": "stderr",
     "output_type": "stream",
     "text": [
      "2022-10-11 15:37:04.040 | INFO     | settings:<module>:10 - .env file exists: True\n",
      "2022-10-11 15:37:04.040 | INFO     | settings:<module>:13 - ROOT_DIR='/Users/dsavostianov/proj/woodota'\n",
      "2022-10-11 15:37:04.040 | INFO     | settings:<module>:19 - REPLAY_DIR='/Users/dsavostianov/proj/woodota/replays'\n",
      "2022-10-11 15:37:04.040 | INFO     | settings:<module>:22 - REDIS_URL='redis://localhost'\n",
      "2022-10-11 15:37:04.041 | INFO     | settings:<module>:26 - CLARITY_HOST='localhost', CLARITY_PORT=5600\n"
     ]
    }
   ],
   "source": [
    "%load_ext autoreload\n",
    "%autoreload 2\n",
    "\n",
    "import sys\n",
    "\n",
    "import numpy as np\n",
    "import pandas as pd\n",
    "import matplotlib.pyplot as plt\n",
    "\n",
    "sys.path.append('../src')\n",
    "from dota import Match\n",
    "from utils import plot_player_signals"
   ]
  },
  {
   "cell_type": "code",
   "execution_count": 2,
   "id": "e11ccbe2-a0ab-4742-a7a8-969ae8006d41",
   "metadata": {},
   "outputs": [],
   "source": [
    "match = Match.from_id(6676393091)\n",
    "match.parse()"
   ]
  },
  {
   "cell_type": "code",
   "execution_count": 3,
   "id": "bf04c643-a260-4e00-af85-660dae6c238b",
   "metadata": {},
   "outputs": [
    {
     "data": {
      "text/plain": [
       "[{'start': -11, 'end': -4, 'clock_start': '-1:49', 'clock_end': '-1:56'},\n",
       " {'start': 50, 'end': 75, 'clock_start': '00:50', 'clock_end': '01:15'},\n",
       " {'start': 97, 'end': 104, 'clock_start': '01:37', 'clock_end': '01:44'},\n",
       " {'start': 130, 'end': 140, 'clock_start': '02:10', 'clock_end': '02:20'},\n",
       " {'start': 160, 'end': 188, 'clock_start': '02:40', 'clock_end': '03:08'},\n",
       " {'start': 207, 'end': 225, 'clock_start': '03:27', 'clock_end': '03:45'},\n",
       " {'start': 240, 'end': 265, 'clock_start': '04:00', 'clock_end': '04:25'},\n",
       " {'start': 276, 'end': 288, 'clock_start': '04:36', 'clock_end': '04:48'},\n",
       " {'start': 302, 'end': 334, 'clock_start': '05:02', 'clock_end': '05:34'},\n",
       " {'start': 377, 'end': 398, 'clock_start': '06:17', 'clock_end': '06:38'},\n",
       " {'start': 415, 'end': 421, 'clock_start': '06:55', 'clock_end': '07:01'},\n",
       " {'start': 453, 'end': 500, 'clock_start': '07:33', 'clock_end': '08:20'},\n",
       " {'start': 514, 'end': 524, 'clock_start': '08:34', 'clock_end': '08:44'},\n",
       " {'start': 549, 'end': 556, 'clock_start': '09:09', 'clock_end': '09:16'},\n",
       " {'start': 579, 'end': 589, 'clock_start': '09:39', 'clock_end': '09:49'},\n",
       " {'start': 646, 'end': 695, 'clock_start': '10:46', 'clock_end': '11:35'},\n",
       " {'start': 822, 'end': 833, 'clock_start': '13:42', 'clock_end': '13:53'},\n",
       " {'start': 918, 'end': 924, 'clock_start': '15:18', 'clock_end': '15:24'},\n",
       " {'start': 948, 'end': 977, 'clock_start': '15:48', 'clock_end': '16:17'},\n",
       " {'start': 987, 'end': 1002, 'clock_start': '16:27', 'clock_end': '16:42'},\n",
       " {'start': 1061, 'end': 1065, 'clock_start': '17:41', 'clock_end': '17:45'},\n",
       " {'start': 1258, 'end': 1269, 'clock_start': '20:58', 'clock_end': '21:09'},\n",
       " {'start': 1407, 'end': 1444, 'clock_start': '23:27', 'clock_end': '24:04'},\n",
       " {'start': 1501, 'end': 1506, 'clock_start': '25:01', 'clock_end': '25:06'},\n",
       " {'start': 1626, 'end': 1646, 'clock_start': '27:06', 'clock_end': '27:26'},\n",
       " {'start': 1686, 'end': 1690, 'clock_start': '28:06', 'clock_end': '28:10'},\n",
       " {'start': 1765, 'end': 1789, 'clock_start': '29:25', 'clock_end': '29:49'},\n",
       " {'start': 2007, 'end': 2034, 'clock_start': '33:27', 'clock_end': '33:54'},\n",
       " {'start': 2044, 'end': 2052, 'clock_start': '34:04', 'clock_end': '34:12'},\n",
       " {'start': 2064, 'end': 2077, 'clock_start': '34:24', 'clock_end': '34:37'}]"
      ]
     },
     "execution_count": 3,
     "metadata": {},
     "output_type": "execute_result"
    }
   ],
   "source": [
    "match.get_action_moments()"
   ]
  },
  {
   "cell_type": "code",
   "execution_count": 4,
   "id": "ab370fd7-1592-40ca-a576-7d2146dd38d3",
   "metadata": {},
   "outputs": [
    {
     "data": {
      "text/plain": [
       "MatchPlayer at match: 6676393091, slot: 1, hero_name: npc_dota_hero_pangolier, steam_id: 76561198134243802"
      ]
     },
     "execution_count": 4,
     "metadata": {},
     "output_type": "execute_result"
    }
   ],
   "source": [
    "player = match.players[1]\n",
    "player"
   ]
  },
  {
   "cell_type": "code",
   "execution_count": null,
   "id": "b975d55e-fb23-42a9-97ba-df33a1593fe0",
   "metadata": {},
   "outputs": [],
   "source": [
    "    # player: 'dota.MatchPlayer',\n",
    "    # ax: Any = None,\n",
    "    # zoom_start: int = None,\n",
    "    # zoom_end: int = None,\n",
    "    # use_minutes: bool = False,\n",
    "    # hp: bool = False,\n",
    "    # max_hp: bool = False,\n",
    "    # dhp: bool = False,\n",
    "    # sdhp: bool = False,\n",
    "    # signal_hp_decreasing: bool = False,\n",
    "    # signal_hp_low: bool = False,\n",
    "    # deaths: bool = False,\n",
    "    # as_target: bool = False,\n",
    "    # as_target_escaped: bool = False,\n",
    "    # as_attacker: bool = False,\n",
    "    # as_attacker_kill: bool = False,"
   ]
  },
  {
   "cell_type": "code",
   "execution_count": 60,
   "id": "5d9031e4-7fd1-412c-be0f-8da6c687d6d5",
   "metadata": {},
   "outputs": [
    {
     "ename": "TypeError",
     "evalue": "no numeric data to plot",
     "output_type": "error",
     "traceback": [
      "\u001b[0;31m---------------------------------------------------------------------------\u001b[0m",
      "\u001b[0;31mTypeError\u001b[0m                                 Traceback (most recent call last)",
      "Input \u001b[0;32mIn [60]\u001b[0m, in \u001b[0;36m<cell line: 2>\u001b[0;34m()\u001b[0m\n\u001b[1;32m      1\u001b[0m fig, ax \u001b[38;5;241m=\u001b[39m plt\u001b[38;5;241m.\u001b[39msubplots(nrows\u001b[38;5;241m=\u001b[39m\u001b[38;5;241m1\u001b[39m, ncols\u001b[38;5;241m=\u001b[39m\u001b[38;5;241m3\u001b[39m, figsize\u001b[38;5;241m=\u001b[39m(\u001b[38;5;241m15\u001b[39m, \u001b[38;5;241m5\u001b[39m))\n\u001b[0;32m----> 2\u001b[0m \u001b[43mplot_player_signals\u001b[49m\u001b[43m(\u001b[49m\n\u001b[1;32m      3\u001b[0m \u001b[43m    \u001b[49m\u001b[43mplayer\u001b[49m\u001b[43m,\u001b[49m\n\u001b[1;32m      4\u001b[0m \u001b[43m    \u001b[49m\u001b[43max\u001b[49m\u001b[38;5;241;43m=\u001b[39;49m\u001b[43max\u001b[49m\u001b[43m[\u001b[49m\u001b[38;5;241;43m0\u001b[39;49m\u001b[43m]\u001b[49m\u001b[43m,\u001b[49m\n\u001b[1;32m      5\u001b[0m \u001b[43m    \u001b[49m\u001b[43mhp\u001b[49m\u001b[38;5;241;43m=\u001b[39;49m\u001b[38;5;28;43;01mTrue\u001b[39;49;00m\u001b[43m,\u001b[49m\n\u001b[1;32m      6\u001b[0m \u001b[43m)\u001b[49m\n\u001b[1;32m      8\u001b[0m plot_player_signals(\n\u001b[1;32m      9\u001b[0m     player,\n\u001b[1;32m     10\u001b[0m     ax\u001b[38;5;241m=\u001b[39max[\u001b[38;5;241m1\u001b[39m],\n\u001b[1;32m     11\u001b[0m     dhp\u001b[38;5;241m=\u001b[39m\u001b[38;5;28;01mTrue\u001b[39;00m\n\u001b[1;32m     12\u001b[0m )\n\u001b[1;32m     14\u001b[0m plot_player_signals(\n\u001b[1;32m     15\u001b[0m     player,\n\u001b[1;32m     16\u001b[0m     ax\u001b[38;5;241m=\u001b[39max[\u001b[38;5;241m2\u001b[39m],\n\u001b[1;32m     17\u001b[0m     sdhp\u001b[38;5;241m=\u001b[39m\u001b[38;5;28;01mTrue\u001b[39;00m\n\u001b[1;32m     18\u001b[0m )\n",
      "File \u001b[0;32m~/proj/woodota/notebooks/../src/utils.py:200\u001b[0m, in \u001b[0;36mplot_player_signals\u001b[0;34m(player, ax, zoom_start, zoom_end, use_minutes, hp, max_hp, dhp, sdhp, signal_hp_decreasing, signal_hp_low, deaths, as_target, as_target_escaped, as_attacker, as_attacker_kill)\u001b[0m\n\u001b[1;32m    179\u001b[0m     secs = str(seconds % 60).zfill(2)\n\u001b[1;32m    180\u001b[0m     return f'{minutes}:{secs}'\n\u001b[1;32m    183\u001b[0m def plot_player_signals(\n\u001b[1;32m    184\u001b[0m     player: 'dota.MatchPlayer',\n\u001b[1;32m    185\u001b[0m     ax: AxesSubplot = None,\n\u001b[1;32m    186\u001b[0m     zoom_start=None,\n\u001b[1;32m    187\u001b[0m     zoom_end=None,\n\u001b[1;32m    188\u001b[0m     use_minutes=False,\n\u001b[1;32m    189\u001b[0m     hp=False,\n\u001b[1;32m    190\u001b[0m     max_hp=False,\n\u001b[1;32m    191\u001b[0m     dhp=False,\n\u001b[1;32m    192\u001b[0m     sdhp=False,\n\u001b[1;32m    193\u001b[0m     signal_hp_decreasing=False,\n\u001b[1;32m    194\u001b[0m     signal_hp_low=False,\n\u001b[1;32m    195\u001b[0m     deaths=False,\n\u001b[1;32m    196\u001b[0m     as_target=False,\n\u001b[1;32m    197\u001b[0m     as_target_escaped=False,\n\u001b[1;32m    198\u001b[0m     as_attacker=False,\n\u001b[1;32m    199\u001b[0m     as_attacker_kill=False,\n\u001b[0;32m--> 200\u001b[0m ):\n\u001b[1;32m    201\u001b[0m     pd.DataFrame().plot()\n\u001b[1;32m    202\u001b[0m     denominator = 60 if use_minutes else 1\n",
      "File \u001b[0;32m~/proj/woodota/env/lib/python3.10/site-packages/pandas/plotting/_core.py:972\u001b[0m, in \u001b[0;36mPlotAccessor.__call__\u001b[0;34m(self, *args, **kwargs)\u001b[0m\n\u001b[1;32m    969\u001b[0m             label_name \u001b[38;5;241m=\u001b[39m label_kw \u001b[38;5;129;01mor\u001b[39;00m data\u001b[38;5;241m.\u001b[39mcolumns\n\u001b[1;32m    970\u001b[0m             data\u001b[38;5;241m.\u001b[39mcolumns \u001b[38;5;241m=\u001b[39m label_name\n\u001b[0;32m--> 972\u001b[0m \u001b[38;5;28;01mreturn\u001b[39;00m \u001b[43mplot_backend\u001b[49m\u001b[38;5;241;43m.\u001b[39;49m\u001b[43mplot\u001b[49m\u001b[43m(\u001b[49m\u001b[43mdata\u001b[49m\u001b[43m,\u001b[49m\u001b[43m \u001b[49m\u001b[43mkind\u001b[49m\u001b[38;5;241;43m=\u001b[39;49m\u001b[43mkind\u001b[49m\u001b[43m,\u001b[49m\u001b[43m \u001b[49m\u001b[38;5;241;43m*\u001b[39;49m\u001b[38;5;241;43m*\u001b[39;49m\u001b[43mkwargs\u001b[49m\u001b[43m)\u001b[49m\n",
      "File \u001b[0;32m~/proj/woodota/env/lib/python3.10/site-packages/pandas/plotting/_matplotlib/__init__.py:71\u001b[0m, in \u001b[0;36mplot\u001b[0;34m(data, kind, **kwargs)\u001b[0m\n\u001b[1;32m     69\u001b[0m         kwargs[\u001b[38;5;124m\"\u001b[39m\u001b[38;5;124max\u001b[39m\u001b[38;5;124m\"\u001b[39m] \u001b[38;5;241m=\u001b[39m \u001b[38;5;28mgetattr\u001b[39m(ax, \u001b[38;5;124m\"\u001b[39m\u001b[38;5;124mleft_ax\u001b[39m\u001b[38;5;124m\"\u001b[39m, ax)\n\u001b[1;32m     70\u001b[0m plot_obj \u001b[38;5;241m=\u001b[39m PLOT_CLASSES[kind](data, \u001b[38;5;241m*\u001b[39m\u001b[38;5;241m*\u001b[39mkwargs)\n\u001b[0;32m---> 71\u001b[0m \u001b[43mplot_obj\u001b[49m\u001b[38;5;241;43m.\u001b[39;49m\u001b[43mgenerate\u001b[49m\u001b[43m(\u001b[49m\u001b[43m)\u001b[49m\n\u001b[1;32m     72\u001b[0m plot_obj\u001b[38;5;241m.\u001b[39mdraw()\n\u001b[1;32m     73\u001b[0m \u001b[38;5;28;01mreturn\u001b[39;00m plot_obj\u001b[38;5;241m.\u001b[39mresult\n",
      "File \u001b[0;32m~/proj/woodota/env/lib/python3.10/site-packages/pandas/plotting/_matplotlib/core.py:327\u001b[0m, in \u001b[0;36mMPLPlot.generate\u001b[0;34m(self)\u001b[0m\n\u001b[1;32m    325\u001b[0m \u001b[38;5;28;01mdef\u001b[39;00m \u001b[38;5;21mgenerate\u001b[39m(\u001b[38;5;28mself\u001b[39m):\n\u001b[1;32m    326\u001b[0m     \u001b[38;5;28mself\u001b[39m\u001b[38;5;241m.\u001b[39m_args_adjust()\n\u001b[0;32m--> 327\u001b[0m     \u001b[38;5;28;43mself\u001b[39;49m\u001b[38;5;241;43m.\u001b[39;49m\u001b[43m_compute_plot_data\u001b[49m\u001b[43m(\u001b[49m\u001b[43m)\u001b[49m\n\u001b[1;32m    328\u001b[0m     \u001b[38;5;28mself\u001b[39m\u001b[38;5;241m.\u001b[39m_setup_subplots()\n\u001b[1;32m    329\u001b[0m     \u001b[38;5;28mself\u001b[39m\u001b[38;5;241m.\u001b[39m_make_plot()\n",
      "File \u001b[0;32m~/proj/woodota/env/lib/python3.10/site-packages/pandas/plotting/_matplotlib/core.py:506\u001b[0m, in \u001b[0;36mMPLPlot._compute_plot_data\u001b[0;34m(self)\u001b[0m\n\u001b[1;32m    504\u001b[0m \u001b[38;5;66;03m# no non-numeric frames or series allowed\u001b[39;00m\n\u001b[1;32m    505\u001b[0m \u001b[38;5;28;01mif\u001b[39;00m is_empty:\n\u001b[0;32m--> 506\u001b[0m     \u001b[38;5;28;01mraise\u001b[39;00m \u001b[38;5;167;01mTypeError\u001b[39;00m(\u001b[38;5;124m\"\u001b[39m\u001b[38;5;124mno numeric data to plot\u001b[39m\u001b[38;5;124m\"\u001b[39m)\n\u001b[1;32m    508\u001b[0m \u001b[38;5;28mself\u001b[39m\u001b[38;5;241m.\u001b[39mdata \u001b[38;5;241m=\u001b[39m numeric_data\u001b[38;5;241m.\u001b[39mapply(\u001b[38;5;28mself\u001b[39m\u001b[38;5;241m.\u001b[39m_convert_to_ndarray)\n",
      "\u001b[0;31mTypeError\u001b[0m: no numeric data to plot"
     ]
    },
    {
     "data": {
      "image/png": "[encoded data removed]",
      "text/plain": [
       "<Figure size 1080x360 with 3 Axes>"
      ]
     },
     "metadata": {
      "needs_background": "light"
     },
     "output_type": "display_data"
    }
   ],
   "source": [
    "fig, ax = plt.subplots(nrows=1, ncols=3, figsize=(15, 5))\n",
    "plot_player_signals(\n",
    "    player,\n",
    "    ax=ax[0],\n",
    "    hp=True,\n",
    ")\n",
    "\n",
    "plot_player_signals(\n",
    "    player,\n",
    "    ax=ax[1],\n",
    "    dhp=True\n",
    ")\n",
    "\n",
    "plot_player_signals(\n",
    "    player,\n",
    "    ax=ax[2],\n",
    "    sdhp=True\n",
    ")\n",
    "\n",
    "zoom_start, zoom_end = 600, 800\n",
    "fig, ax = plt.subplots(figsize=(15, 5))\n",
    "plot_player_signals(\n",
    "    player,\n",
    "    ax=ax,\n",
    "    zoom_start=zoom_start,\n",
    "    zoom_end=zoom_end,\n",
    "    # use_minutes=True,\n",
    "    hp=True,\n",
    "    # max_hp=True,\n",
    "    # dhp=True,\n",
    "    # sdhp=True,\n",
    "    signal_hp_decreasing=True,\n",
    "    signal_hp_low=True,\n",
    "    deaths=True,\n",
    "    # as_target=True,\n",
    "    as_target_escaped=True,\n",
    "    # as_attacker=True,\n",
    "    # as_attacker_kill=True,\n",
    ")\n",
    "\n",
    "plt.show()"
   ]
  },
  {
   "cell_type": "code",
   "execution_count": 57,
   "id": "938a78ff-0e3a-49d5-a0bc-67b9267dde96",
   "metadata": {},
   "outputs": [
    {
     "name": "stderr",
     "output_type": "stream",
     "text": [
      "[autoreload of utils failed: Traceback (most recent call last):\n",
      "  File \"/Users/dsavostianov/proj/woodota/env/lib/python3.10/site-packages/IPython/extensions/autoreload.py\", line 257, in check\n",
      "    superreload(m, reload, self.old_objects)\n",
      "  File \"/Users/dsavostianov/proj/woodota/env/lib/python3.10/site-packages/IPython/extensions/autoreload.py\", line 455, in superreload\n",
      "    module = reload(module)\n",
      "  File \"/opt/homebrew/Cellar/python@3.10/3.10.6_2/Frameworks/Python.framework/Versions/3.10/lib/python3.10/importlib/__init__.py\", line 169, in reload\n",
      "    _bootstrap._exec(spec, module)\n",
      "  File \"<frozen importlib._bootstrap>\", line 619, in _exec\n",
      "  File \"<frozen importlib._bootstrap_external>\", line 879, in exec_module\n",
      "  File \"<frozen importlib._bootstrap_external>\", line 1017, in get_code\n",
      "  File \"<frozen importlib._bootstrap_external>\", line 947, in source_to_code\n",
      "  File \"<frozen importlib._bootstrap>\", line 241, in _call_with_frames_removed\n",
      "  File \"/Users/dsavostianov/proj/woodota/notebooks/../src/utils.py\", line 183\n",
      "    ax: =None,\n",
      "        ^\n",
      "SyntaxError: invalid syntax\n",
      "]\n"
     ]
    },
    {
     "data": {
      "text/plain": [
       "matplotlib.axes._subplots.AxesSubplot"
      ]
     },
     "execution_count": 57,
     "metadata": {},
     "output_type": "execute_result"
    }
   ],
   "source": [
    "type(ax)"
   ]
  },
  {
   "cell_type": "code",
   "execution_count": null,
   "id": "ce3557aa-8528-45a1-a22d-7233a420cbee",
   "metadata": {},
   "outputs": [],
   "source": []
  }
 ],
 "metadata": {
  "kernelspec": {
   "display_name": "Python 3 (ipykernel)",
   "language": "python",
   "name": "python3"
  },
  "language_info": {
   "codemirror_mode": {
    "name": "ipython",
    "version": 3
   },
   "file_extension": ".py",
   "mimetype": "text/x-python",
   "name": "python",
   "nbconvert_exporter": "python",
   "pygments_lexer": "ipython3",
   "version": "3.10.6"
  }
 },
 "nbformat": 4,
 "nbformat_minor": 5
}
