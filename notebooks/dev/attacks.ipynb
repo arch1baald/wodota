{
 "cells": [
  {
   "cell_type": "code",
   "execution_count": 1,
   "id": "23ce7523-3151-4835-9cd9-1bdc5d22b77a",
   "metadata": {},
   "outputs": [
    {
     "name": "stderr",
     "output_type": "stream",
     "text": [
      "2022-09-07 20:34:40.831 | INFO     | settings:<module>:10 - .env file exists: True\n",
      "2022-09-07 20:34:40.832 | INFO     | settings:<module>:13 - ROOT_DIR='/home/gosu/dota-highlights'\n",
      "2022-09-07 20:34:40.832 | INFO     | settings:<module>:19 - REPLAY_DIR='/home/gosu/dota-highlights/replays'\n",
      "2022-09-07 20:34:40.833 | INFO     | settings:<module>:22 - REDIS_URL='redis://localhost'\n"
     ]
    }
   ],
   "source": [
    "%load_ext autoreload\n",
    "%autoreload 2\n",
    "\n",
    "import os\n",
    "import sys\n",
    "import json\n",
    "from pathlib import Path\n",
    "\n",
    "import requests\n",
    "import numpy as np\n",
    "import pandas as pd\n",
    "import matplotlib.pyplot as plt\n",
    "\n",
    "sys.path.append('../src')\n",
    "from settings import REPLAY_DIR, YOUTUBE_DIR, TIMESTAMPS_DIR\n",
    "from youtube import convert_to_timestamp\n",
    "from dota import Match\n",
    "from attacks import find_hp_decreasing_intervals, find_low_hp_intervals, find_low_and_decreasing_hp_intervals\n",
    "\n",
    "pd.options.display.max_columns = 60"
   ]
  },
  {
   "cell_type": "code",
   "execution_count": 2,
   "id": "6eb3dcb5-683b-4ca3-9eb3-8fbe75eea6e0",
   "metadata": {},
   "outputs": [
    {
     "data": {
      "text/plain": [
       "Match: 6676393091, parsed: True"
      ]
     },
     "execution_count": 2,
     "metadata": {},
     "output_type": "execute_result"
    }
   ],
   "source": [
    "match = Match(6676393091, Path(REPLAY_DIR) / '6676393091.jsonlines')\n",
    "match.parse()\n",
    "match"
   ]
  },
  {
   "cell_type": "code",
   "execution_count": 3,
   "id": "e12f1146-4b17-4803-922b-15b3c6663903",
   "metadata": {},
   "outputs": [
    {
     "data": {
      "text/plain": [
       "MatchPlayer at match: 6676393091, slot: 1, hero_name: npc_dota_hero_pangolier, steam_id: 76561198134243802"
      ]
     },
     "execution_count": 3,
     "metadata": {},
     "output_type": "execute_result"
    }
   ],
   "source": [
    "player = match.players[1]\n",
    "player"
   ]
  },
  {
   "cell_type": "code",
   "execution_count": 4,
   "id": "1f287033-7672-40be-aa7a-456364323c89",
   "metadata": {},
   "outputs": [
    {
     "data": {
      "text/plain": [
       "-89       580\n",
       "-88       580\n",
       "-87       580\n",
       "-86       580\n",
       "-85       580\n",
       "         ... \n",
       " 2076    2413\n",
       " 2077    2430\n",
       " 2078    2515\n",
       " 2079    2512\n",
       " 2080    2490\n",
       "Name: hp, Length: 2170, dtype: int64"
      ]
     },
     "execution_count": 4,
     "metadata": {},
     "output_type": "execute_result"
    }
   ],
   "source": [
    "player.hp"
   ]
  },
  {
   "cell_type": "code",
   "execution_count": 5,
   "id": "53f66c4b-5cbb-4568-8438-54953dedce29",
   "metadata": {},
   "outputs": [
    {
     "data": {
      "text/plain": [
       "900    1250\n",
       "901    1250\n",
       "902    1238\n",
       "903    1239\n",
       "904    1278\n",
       "       ... \n",
       "956    1290\n",
       "957    1290\n",
       "958    1290\n",
       "959    1258\n",
       "960    1138\n",
       "Name: hp, Length: 61, dtype: int64"
      ]
     },
     "execution_count": 5,
     "metadata": {},
     "output_type": "execute_result"
    }
   ],
   "source": [
    "player.hp.t(15 * 60, 16 * 60)"
   ]
  },
  {
   "cell_type": "code",
   "execution_count": 6,
   "id": "9af4b88f-aa1d-4cc0-969e-78a27cb86d59",
   "metadata": {},
   "outputs": [
    {
     "data": {
      "text/plain": [
       "[<matplotlib.lines.Line2D at 0x7f0fbafd7820>]"
      ]
     },
     "execution_count": 6,
     "metadata": {},
     "output_type": "execute_result"
    },
    {
     "data": {
      "image/png": "[encoded data removed]",
      "text/plain": [
       "<Figure size 432x288 with 1 Axes>"
      ]
     },
     "metadata": {
      "needs_background": "light"
     },
     "output_type": "display_data"
    }
   ],
   "source": [
    "plt.plot(player.hp.index / 60, player.hp)"
   ]
  },
  {
   "cell_type": "markdown",
   "id": "b6a92d0d-3abb-4b35-981b-a422199ece5a",
   "metadata": {},
   "source": [
    "## Deaths"
   ]
  },
  {
   "cell_type": "code",
   "execution_count": 7,
   "id": "2250bb38-c1d5-4852-82dc-a910e951f864",
   "metadata": {},
   "outputs": [
    {
     "data": {
      "text/html": [
       "<div>\n",
       "<style scoped>\n",
       "    .dataframe tbody tr th:only-of-type {\n",
       "        vertical-align: middle;\n",
       "    }\n",
       "\n",
       "    .dataframe tbody tr th {\n",
       "        vertical-align: top;\n",
       "    }\n",
       "\n",
       "    .dataframe thead th {\n",
       "        text-align: right;\n",
       "    }\n",
       "</style>\n",
       "<table border=\"1\" class=\"dataframe\">\n",
       "  <thead>\n",
       "    <tr style=\"text-align: right;\">\n",
       "      <th></th>\n",
       "      <th>time</th>\n",
       "      <th>type</th>\n",
       "      <th>value</th>\n",
       "      <th>attackername</th>\n",
       "      <th>targetname</th>\n",
       "      <th>sourcename</th>\n",
       "      <th>targetsourcename</th>\n",
       "      <th>attackerhero</th>\n",
       "      <th>targethero</th>\n",
       "      <th>attackerillusion</th>\n",
       "      <th>targetillusion</th>\n",
       "      <th>inflictor</th>\n",
       "    </tr>\n",
       "  </thead>\n",
       "  <tbody>\n",
       "    <tr>\n",
       "      <th>0</th>\n",
       "      <td>487</td>\n",
       "      <td>DOTA_COMBATLOG_DEATH</td>\n",
       "      <td>131</td>\n",
       "      <td>npc_dota_hero_ember_spirit</td>\n",
       "      <td>npc_dota_hero_pangolier</td>\n",
       "      <td>npc_dota_hero_ember_spirit</td>\n",
       "      <td>npc_dota_hero_pangolier</td>\n",
       "      <td>True</td>\n",
       "      <td>True</td>\n",
       "      <td>False</td>\n",
       "      <td>False</td>\n",
       "      <td>dota_unknown</td>\n",
       "    </tr>\n",
       "    <tr>\n",
       "      <th>1</th>\n",
       "      <td>1263</td>\n",
       "      <td>DOTA_COMBATLOG_DEATH</td>\n",
       "      <td>22</td>\n",
       "      <td>npc_dota_hero_skywrath_mage</td>\n",
       "      <td>npc_dota_hero_pangolier</td>\n",
       "      <td>npc_dota_hero_skywrath_mage</td>\n",
       "      <td>npc_dota_hero_pangolier</td>\n",
       "      <td>True</td>\n",
       "      <td>True</td>\n",
       "      <td>False</td>\n",
       "      <td>False</td>\n",
       "      <td>skywrath_mage_mystic_flare</td>\n",
       "    </tr>\n",
       "    <tr>\n",
       "      <th>2</th>\n",
       "      <td>1412</td>\n",
       "      <td>DOTA_COMBATLOG_DEATH</td>\n",
       "      <td>237</td>\n",
       "      <td>npc_dota_hero_luna</td>\n",
       "      <td>npc_dota_hero_pangolier</td>\n",
       "      <td>npc_dota_hero_luna</td>\n",
       "      <td>npc_dota_hero_pangolier</td>\n",
       "      <td>True</td>\n",
       "      <td>True</td>\n",
       "      <td>False</td>\n",
       "      <td>False</td>\n",
       "      <td>luna_lucent_beam</td>\n",
       "    </tr>\n",
       "  </tbody>\n",
       "</table>\n",
       "</div>"
      ],
      "text/plain": [
       "   time                  type  value                 attackername  \\\n",
       "0   487  DOTA_COMBATLOG_DEATH    131   npc_dota_hero_ember_spirit   \n",
       "1  1263  DOTA_COMBATLOG_DEATH     22  npc_dota_hero_skywrath_mage   \n",
       "2  1412  DOTA_COMBATLOG_DEATH    237           npc_dota_hero_luna   \n",
       "\n",
       "                targetname                   sourcename  \\\n",
       "0  npc_dota_hero_pangolier   npc_dota_hero_ember_spirit   \n",
       "1  npc_dota_hero_pangolier  npc_dota_hero_skywrath_mage   \n",
       "2  npc_dota_hero_pangolier           npc_dota_hero_luna   \n",
       "\n",
       "          targetsourcename  attackerhero  targethero  attackerillusion  \\\n",
       "0  npc_dota_hero_pangolier          True        True             False   \n",
       "1  npc_dota_hero_pangolier          True        True             False   \n",
       "2  npc_dota_hero_pangolier          True        True             False   \n",
       "\n",
       "   targetillusion                   inflictor  \n",
       "0           False                dota_unknown  \n",
       "1           False  skywrath_mage_mystic_flare  \n",
       "2           False            luna_lucent_beam  "
      ]
     },
     "execution_count": 7,
     "metadata": {},
     "output_type": "execute_result"
    }
   ],
   "source": [
    "player.deaths"
   ]
  },
  {
   "cell_type": "code",
   "execution_count": 8,
   "id": "e83e5136-9ade-41b1-b611-2646bd635e5f",
   "metadata": {},
   "outputs": [
    {
     "data": {
      "image/png": "[encoded data removed]",
      "text/plain": [
       "<Figure size 432x288 with 1 Axes>"
      ]
     },
     "metadata": {
      "needs_background": "light"
     },
     "output_type": "display_data"
    }
   ],
   "source": [
    "fig, ax = plt.subplots()\n",
    "ax.plot(player.hp.index / 60, player.hp)\n",
    "ax.scatter(x=player.deaths['time'] / 60, y=np.full(player.deaths.shape[0], 0), color='r', marker='v', s=100)\n",
    "plt.show()"
   ]
  },
  {
   "cell_type": "markdown",
   "id": "5cf328fa-dd43-442b-8edb-3c618116a6a2",
   "metadata": {},
   "source": [
    "## YouTube"
   ]
  },
  {
   "cell_type": "code",
   "execution_count": 9,
   "id": "17c9a93b-8f8c-44b7-873b-efe268be0a53",
   "metadata": {},
   "outputs": [
    {
     "data": {
      "text/html": [
       "<div>\n",
       "<style scoped>\n",
       "    .dataframe tbody tr th:only-of-type {\n",
       "        vertical-align: middle;\n",
       "    }\n",
       "\n",
       "    .dataframe tbody tr th {\n",
       "        vertical-align: top;\n",
       "    }\n",
       "\n",
       "    .dataframe thead th {\n",
       "        text-align: right;\n",
       "    }\n",
       "</style>\n",
       "<table border=\"1\" class=\"dataframe\">\n",
       "  <thead>\n",
       "    <tr style=\"text-align: right;\">\n",
       "      <th></th>\n",
       "      <th>video_id</th>\n",
       "      <th>cluster</th>\n",
       "      <th>start</th>\n",
       "      <th>end</th>\n",
       "      <th>start_time</th>\n",
       "      <th>end_time</th>\n",
       "    </tr>\n",
       "  </thead>\n",
       "  <tbody>\n",
       "    <tr>\n",
       "      <th>0</th>\n",
       "      <td>XTngObUROMo</td>\n",
       "      <td>0</td>\n",
       "      <td>00:19</td>\n",
       "      <td>00:02</td>\n",
       "      <td>19</td>\n",
       "      <td>2</td>\n",
       "    </tr>\n",
       "    <tr>\n",
       "      <th>1</th>\n",
       "      <td>XTngObUROMo</td>\n",
       "      <td>1</td>\n",
       "      <td>01:00</td>\n",
       "      <td>01:19</td>\n",
       "      <td>60</td>\n",
       "      <td>79</td>\n",
       "    </tr>\n",
       "    <tr>\n",
       "      <th>2</th>\n",
       "      <td>XTngObUROMo</td>\n",
       "      <td>2</td>\n",
       "      <td>02:38</td>\n",
       "      <td>03:14</td>\n",
       "      <td>158</td>\n",
       "      <td>194</td>\n",
       "    </tr>\n",
       "    <tr>\n",
       "      <th>3</th>\n",
       "      <td>XTngObUROMo</td>\n",
       "      <td>3</td>\n",
       "      <td>04:30</td>\n",
       "      <td>05:35</td>\n",
       "      <td>270</td>\n",
       "      <td>335</td>\n",
       "    </tr>\n",
       "    <tr>\n",
       "      <th>4</th>\n",
       "      <td>XTngObUROMo</td>\n",
       "      <td>4</td>\n",
       "      <td>14:19</td>\n",
       "      <td>14:56</td>\n",
       "      <td>859</td>\n",
       "      <td>896</td>\n",
       "    </tr>\n",
       "    <tr>\n",
       "      <th>5</th>\n",
       "      <td>XTngObUROMo</td>\n",
       "      <td>5</td>\n",
       "      <td>15:53</td>\n",
       "      <td>16:13</td>\n",
       "      <td>953</td>\n",
       "      <td>973</td>\n",
       "    </tr>\n",
       "    <tr>\n",
       "      <th>6</th>\n",
       "      <td>XTngObUROMo</td>\n",
       "      <td>6</td>\n",
       "      <td>18:06</td>\n",
       "      <td>18:13</td>\n",
       "      <td>1086</td>\n",
       "      <td>1093</td>\n",
       "    </tr>\n",
       "    <tr>\n",
       "      <th>7</th>\n",
       "      <td>XTngObUROMo</td>\n",
       "      <td>7</td>\n",
       "      <td>18:47</td>\n",
       "      <td>18:56</td>\n",
       "      <td>1127</td>\n",
       "      <td>1136</td>\n",
       "    </tr>\n",
       "    <tr>\n",
       "      <th>8</th>\n",
       "      <td>XTngObUROMo</td>\n",
       "      <td>8</td>\n",
       "      <td>21:11</td>\n",
       "      <td>21:47</td>\n",
       "      <td>1271</td>\n",
       "      <td>1307</td>\n",
       "    </tr>\n",
       "    <tr>\n",
       "      <th>9</th>\n",
       "      <td>XTngObUROMo</td>\n",
       "      <td>9</td>\n",
       "      <td>22:34</td>\n",
       "      <td>24:25</td>\n",
       "      <td>1354</td>\n",
       "      <td>1465</td>\n",
       "    </tr>\n",
       "    <tr>\n",
       "      <th>10</th>\n",
       "      <td>XTngObUROMo</td>\n",
       "      <td>10</td>\n",
       "      <td>25:52</td>\n",
       "      <td>26:36</td>\n",
       "      <td>1552</td>\n",
       "      <td>1596</td>\n",
       "    </tr>\n",
       "    <tr>\n",
       "      <th>11</th>\n",
       "      <td>XTngObUROMo</td>\n",
       "      <td>11</td>\n",
       "      <td>27:26</td>\n",
       "      <td>27:59</td>\n",
       "      <td>1646</td>\n",
       "      <td>1679</td>\n",
       "    </tr>\n",
       "    <tr>\n",
       "      <th>12</th>\n",
       "      <td>XTngObUROMo</td>\n",
       "      <td>12</td>\n",
       "      <td>28:12</td>\n",
       "      <td>30:24</td>\n",
       "      <td>1692</td>\n",
       "      <td>1824</td>\n",
       "    </tr>\n",
       "  </tbody>\n",
       "</table>\n",
       "</div>"
      ],
      "text/plain": [
       "       video_id  cluster  start    end  start_time  end_time\n",
       "0   XTngObUROMo        0  00:19  00:02          19         2\n",
       "1   XTngObUROMo        1  01:00  01:19          60        79\n",
       "2   XTngObUROMo        2  02:38  03:14         158       194\n",
       "3   XTngObUROMo        3  04:30  05:35         270       335\n",
       "4   XTngObUROMo        4  14:19  14:56         859       896\n",
       "5   XTngObUROMo        5  15:53  16:13         953       973\n",
       "6   XTngObUROMo        6  18:06  18:13        1086      1093\n",
       "7   XTngObUROMo        7  18:47  18:56        1127      1136\n",
       "8   XTngObUROMo        8  21:11  21:47        1271      1307\n",
       "9   XTngObUROMo        9  22:34  24:25        1354      1465\n",
       "10  XTngObUROMo       10  25:52  26:36        1552      1596\n",
       "11  XTngObUROMo       11  27:26  27:59        1646      1679\n",
       "12  XTngObUROMo       12  28:12  30:24        1692      1824"
      ]
     },
     "execution_count": 9,
     "metadata": {},
     "output_type": "execute_result"
    }
   ],
   "source": [
    "df_youtube = pd.read_csv(YOUTUBE_DIR / 'XTngObUROMo.csv')\n",
    "df_youtube"
   ]
  },
  {
   "cell_type": "code",
   "execution_count": 10,
   "id": "370c7031-ff17-48ab-8ffe-f7fe74bc35db",
   "metadata": {},
   "outputs": [
    {
     "data": {
      "image/png": "[encoded data removed]",
      "text/plain": [
       "<Figure size 432x288 with 1 Axes>"
      ]
     },
     "metadata": {
      "needs_background": "light"
     },
     "output_type": "display_data"
    }
   ],
   "source": [
    "fig, ax = plt.subplots()\n",
    "ax.plot(player.hp.index / 60, player.hp)\n",
    "ax.scatter(x=player.deaths['time'] / 60, y=np.full(player.deaths.shape[0], 0), color='r', marker='v', s=100)\n",
    "ax.scatter(x=df_youtube['start_time'] / 60, y=np.full(df_youtube.shape[0], 0), color='g', marker='$[$', s=100)\n",
    "ax.scatter(x=df_youtube['end_time'] / 60, y=np.full(df_youtube.shape[0], 0), color='g', marker='$]$', s=100)\n",
    "plt.show()"
   ]
  },
  {
   "cell_type": "markdown",
   "id": "880dc938-385d-4a6c-abe0-ceb682ad3e9f",
   "metadata": {},
   "source": [
    "## Remove trend"
   ]
  },
  {
   "cell_type": "code",
   "execution_count": 11,
   "id": "c0a91677-5e97-4cd2-b4d7-863b66ff5e4c",
   "metadata": {},
   "outputs": [
    {
     "data": {
      "image/png": "[encoded data removed]",
      "text/plain": [
       "<Figure size 432x288 with 1 Axes>"
      ]
     },
     "metadata": {
      "needs_background": "light"
     },
     "output_type": "display_data"
    }
   ],
   "source": [
    "fig, ax = plt.subplots()\n",
    "# ax.plot(player.hp.index / 60, player.hp)\n",
    "ax.plot(player.dhp.index / 60, player.dhp)\n",
    "ax.scatter(x=player.deaths['time'] / 60, y=np.full(player.deaths.shape[0], -500), color='r', marker='v', s=100)\n",
    "ax.scatter(x=df_youtube['start_time'] / 60, y=np.full(df_youtube.shape[0], -500), color='g', marker='$[$', s=100)\n",
    "ax.scatter(x=df_youtube['end_time'] / 60, y=np.full(df_youtube.shape[0], -500), color='g', marker='$]$', s=100)\n",
    "plt.show()"
   ]
  },
  {
   "cell_type": "markdown",
   "id": "b4947884-8dbf-4b6f-bda6-fa88d9e78da7",
   "metadata": {},
   "source": [
    "## Zoom"
   ]
  },
  {
   "cell_type": "code",
   "execution_count": 12,
   "id": "c19fd496-b2c9-4e25-80db-210d81ddffcf",
   "metadata": {},
   "outputs": [],
   "source": [
    "# 11:09 - 11:30"
   ]
  },
  {
   "cell_type": "code",
   "execution_count": 13,
   "id": "3f149e7b-374d-4b2b-bfc5-2b7c53e23871",
   "metadata": {},
   "outputs": [],
   "source": [
    "zoom_start = 10.5 * 60\n",
    "zoom_end = 12 * 60\n",
    "df_youtube_slice = df_youtube[(df_youtube['start_time'] >= zoom_start) & (df_youtube['end_time'] <= zoom_end)]"
   ]
  },
  {
   "cell_type": "code",
   "execution_count": 14,
   "id": "122f8446-919d-4611-accf-b0e1e2e4ea8e",
   "metadata": {},
   "outputs": [
    {
     "data": {
      "image/png": "[encoded data removed]",
      "text/plain": [
       "<Figure size 432x288 with 1 Axes>"
      ]
     },
     "metadata": {
      "needs_background": "light"
     },
     "output_type": "display_data"
    }
   ],
   "source": [
    "fig, ax = plt.subplots()\n",
    "ax.plot(player.hp.t(zoom_start, zoom_end).index / 60, player.hp.t(zoom_start, zoom_end))\n",
    "ax.plot(player.sdhp.t(zoom_start, zoom_end).index / 60, player.sdhp.t(zoom_start, zoom_end))\n",
    "ax.scatter(\n",
    "    x=player.deaths.t(zoom_start, zoom_end)['time'] / 60, \n",
    "    y=np.full(player.deaths.t(zoom_start, zoom_end).shape[0], -500),\n",
    "    color='r', marker='v', s=100)\n",
    "ax.scatter(x=df_youtube_slice['start_time'] / 60, y=np.full(df_youtube_slice.shape[0], -500), color='g', marker='$[$', s=100)\n",
    "ax.scatter(x=df_youtube_slice['end_time'] / 60, y=np.full(df_youtube_slice.shape[0], -500), color='g', marker='$]$', s=100)\n",
    "plt.show()"
   ]
  },
  {
   "cell_type": "markdown",
   "id": "a2c96149-6b6b-43a0-8480-1c8dafcc6fa2",
   "metadata": {},
   "source": [
    "Начало\n",
    "\n",
    "- Отрицательная скорость (Может медленно убывать)\n",
    "- Абсолютное значение хп < 30%\n",
    "\n",
    "Конец\n",
    "- Конец падения хп"
   ]
  },
  {
   "cell_type": "code",
   "execution_count": 15,
   "id": "66ccb3cd-62d4-44f8-b58e-505b688c5dfc",
   "metadata": {},
   "outputs": [],
   "source": [
    "from utils import TimeSeries"
   ]
  },
  {
   "cell_type": "code",
   "execution_count": 16,
   "id": "3d2beba0-6dc6-426e-939b-d9f6cc904d8b",
   "metadata": {},
   "outputs": [
    {
     "data": {
      "text/plain": [
       "-89      1.000000\n",
       "-88      1.000000\n",
       "-87      1.000000\n",
       "-86      1.000000\n",
       "-85      1.000000\n",
       "           ...   \n",
       " 2076    0.993004\n",
       " 2077    1.000000\n",
       " 2078    1.000000\n",
       " 2079    0.998807\n",
       " 2080    0.990060\n",
       "Name: hp, Length: 2170, dtype: float64"
      ]
     },
     "execution_count": 16,
     "metadata": {},
     "output_type": "execute_result"
    }
   ],
   "source": [
    "player.hp / player.max_hp"
   ]
  },
  {
   "cell_type": "code",
   "execution_count": 17,
   "id": "55f6db12-5f80-4902-b41b-750b155f02bb",
   "metadata": {},
   "outputs": [
    {
     "data": {
      "text/plain": [
       "[<matplotlib.lines.Line2D at 0x7f0fb8bb5ed0>]"
      ]
     },
     "execution_count": 17,
     "metadata": {},
     "output_type": "execute_result"
    },
    {
     "data": {
      "image/png": "[encoded data removed]",
      "text/plain": [
       "<Figure size 432x288 with 1 Axes>"
      ]
     },
     "metadata": {
      "needs_background": "light"
     },
     "output_type": "display_data"
    }
   ],
   "source": [
    "plt.plot(player.hp.rolling(120).max())"
   ]
  },
  {
   "cell_type": "code",
   "execution_count": 18,
   "id": "91f77b58-34c0-47c7-a695-8eace3924a28",
   "metadata": {},
   "outputs": [],
   "source": [
    "signal_sdhp = player.sdhp < -20\n",
    "signal_sdhp = TimeSeries(signal_sdhp)"
   ]
  },
  {
   "cell_type": "code",
   "execution_count": 19,
   "id": "06ccb63e-c9bd-4895-a0d1-3cbac1521ea3",
   "metadata": {},
   "outputs": [
    {
     "data": {
      "image/png": "[encoded data removed]",
      "text/plain": [
       "<Figure size 432x288 with 1 Axes>"
      ]
     },
     "metadata": {
      "needs_background": "light"
     },
     "output_type": "display_data"
    }
   ],
   "source": [
    "fig, ax = plt.subplots()\n",
    "ax.plot(player.hp.t(zoom_start, zoom_end).index / 60, player.hp.t(zoom_start, zoom_end))\n",
    "ax.plot(player.sdhp.t(zoom_start, zoom_end).index / 60, player.sdhp.t(zoom_start, zoom_end))\n",
    "ax.scatter(\n",
    "    x=player.deaths.t(zoom_start, zoom_end)['time'] / 60, \n",
    "    y=np.full(player.deaths.t(zoom_start, zoom_end).shape[0], -500),\n",
    "    color='r', marker='v', s=100)\n",
    "ax.scatter(x=df_youtube_slice['start_time'] / 60, y=np.full(df_youtube_slice.shape[0], -500), color='g', marker='$[$', s=100)\n",
    "ax.scatter(x=df_youtube_slice['end_time'] / 60, y=np.full(df_youtube_slice.shape[0], -500), color='g', marker='$]$', s=100)\n",
    "ax.scatter(x=signal_sdhp.t(zoom_start, zoom_end).index / 60, y=signal_sdhp.t(zoom_start, zoom_end) * 50, color='r', marker='$*$', s=5)\n",
    "ax.scatter(x=signal_sdhp.t(zoom_start, zoom_end).index / 60, y=signal_sdhp.t(zoom_start, zoom_end))\n",
    "plt.show()"
   ]
  },
  {
   "cell_type": "markdown",
   "id": "0c3a0c8c-2a78-4216-b691-6e8116120b64",
   "metadata": {},
   "source": [
    "# Detector"
   ]
  },
  {
   "cell_type": "code",
   "execution_count": 20,
   "id": "cdcf0859-a4aa-4f68-b217-8b3573c67a87",
   "metadata": {},
   "outputs": [
    {
     "data": {
      "text/html": [
       "<div>\n",
       "<style scoped>\n",
       "    .dataframe tbody tr th:only-of-type {\n",
       "        vertical-align: middle;\n",
       "    }\n",
       "\n",
       "    .dataframe tbody tr th {\n",
       "        vertical-align: top;\n",
       "    }\n",
       "\n",
       "    .dataframe thead th {\n",
       "        text-align: right;\n",
       "    }\n",
       "</style>\n",
       "<table border=\"1\" class=\"dataframe\">\n",
       "  <thead>\n",
       "    <tr style=\"text-align: right;\">\n",
       "      <th></th>\n",
       "      <th>start</th>\n",
       "      <th>end</th>\n",
       "      <th>target_dead</th>\n",
       "      <th>attacker_heroes</th>\n",
       "      <th>target</th>\n",
       "    </tr>\n",
       "  </thead>\n",
       "  <tbody>\n",
       "    <tr>\n",
       "      <th>0</th>\n",
       "      <td>305</td>\n",
       "      <td>321</td>\n",
       "      <td>True</td>\n",
       "      <td>[MatchPlayer at match: 6676393091, slot: 3, he...</td>\n",
       "      <td>MatchPlayer at match: 6676393091, slot: 7, her...</td>\n",
       "    </tr>\n",
       "    <tr>\n",
       "      <th>5</th>\n",
       "      <td>380</td>\n",
       "      <td>390</td>\n",
       "      <td>True</td>\n",
       "      <td>[MatchPlayer at match: 6676393091, slot: 3, he...</td>\n",
       "      <td>MatchPlayer at match: 6676393091, slot: 6, her...</td>\n",
       "    </tr>\n",
       "    <tr>\n",
       "      <th>4</th>\n",
       "      <td>418</td>\n",
       "      <td>424</td>\n",
       "      <td>True</td>\n",
       "      <td>[MatchPlayer at match: 6676393091, slot: 1, he...</td>\n",
       "      <td>MatchPlayer at match: 6676393091, slot: 5, her...</td>\n",
       "    </tr>\n",
       "    <tr>\n",
       "      <th>2</th>\n",
       "      <td>552</td>\n",
       "      <td>559</td>\n",
       "      <td>True</td>\n",
       "      <td>[MatchPlayer at match: 6676393091, slot: 2, he...</td>\n",
       "      <td>MatchPlayer at match: 6676393091, slot: 7, her...</td>\n",
       "    </tr>\n",
       "    <tr>\n",
       "      <th>6</th>\n",
       "      <td>582</td>\n",
       "      <td>592</td>\n",
       "      <td>True</td>\n",
       "      <td>[MatchPlayer at match: 6676393091, slot: 2, he...</td>\n",
       "      <td>MatchPlayer at match: 6676393091, slot: 5, her...</td>\n",
       "    </tr>\n",
       "    <tr>\n",
       "      <th>3</th>\n",
       "      <td>582</td>\n",
       "      <td>588</td>\n",
       "      <td>True</td>\n",
       "      <td>[MatchPlayer at match: 6676393091, slot: 1, he...</td>\n",
       "      <td>MatchPlayer at match: 6676393091, slot: 8, her...</td>\n",
       "    </tr>\n",
       "    <tr>\n",
       "      <th>1</th>\n",
       "      <td>662</td>\n",
       "      <td>690</td>\n",
       "      <td>True</td>\n",
       "      <td>[MatchPlayer at match: 6676393091, slot: 1, he...</td>\n",
       "      <td>MatchPlayer at match: 6676393091, slot: 9, her...</td>\n",
       "    </tr>\n",
       "    <tr>\n",
       "      <th>4</th>\n",
       "      <td>676</td>\n",
       "      <td>693</td>\n",
       "      <td>True</td>\n",
       "      <td>[MatchPlayer at match: 6676393091, slot: 1, he...</td>\n",
       "      <td>MatchPlayer at match: 6676393091, slot: 8, her...</td>\n",
       "    </tr>\n",
       "    <tr>\n",
       "      <th>2</th>\n",
       "      <td>825</td>\n",
       "      <td>836</td>\n",
       "      <td>True</td>\n",
       "      <td>[MatchPlayer at match: 6676393091, slot: 3, he...</td>\n",
       "      <td>MatchPlayer at match: 6676393091, slot: 9, her...</td>\n",
       "    </tr>\n",
       "    <tr>\n",
       "      <th>7</th>\n",
       "      <td>951</td>\n",
       "      <td>955</td>\n",
       "      <td>False</td>\n",
       "      <td>[MatchPlayer at match: 6676393091, slot: 1, he...</td>\n",
       "      <td>MatchPlayer at match: 6676393091, slot: 5, her...</td>\n",
       "    </tr>\n",
       "    <tr>\n",
       "      <th>8</th>\n",
       "      <td>973</td>\n",
       "      <td>980</td>\n",
       "      <td>True</td>\n",
       "      <td>[MatchPlayer at match: 6676393091, slot: 1, he...</td>\n",
       "      <td>MatchPlayer at match: 6676393091, slot: 5, her...</td>\n",
       "    </tr>\n",
       "    <tr>\n",
       "      <th>9</th>\n",
       "      <td>1064</td>\n",
       "      <td>1068</td>\n",
       "      <td>True</td>\n",
       "      <td>[MatchPlayer at match: 6676393091, slot: 1, he...</td>\n",
       "      <td>MatchPlayer at match: 6676393091, slot: 5, her...</td>\n",
       "    </tr>\n",
       "    <tr>\n",
       "      <th>4</th>\n",
       "      <td>1636</td>\n",
       "      <td>1649</td>\n",
       "      <td>True</td>\n",
       "      <td>[MatchPlayer at match: 6676393091, slot: 1, he...</td>\n",
       "      <td>MatchPlayer at match: 6676393091, slot: 7, her...</td>\n",
       "    </tr>\n",
       "    <tr>\n",
       "      <th>7</th>\n",
       "      <td>1781</td>\n",
       "      <td>1792</td>\n",
       "      <td>True</td>\n",
       "      <td>[MatchPlayer at match: 6676393091, slot: 3, he...</td>\n",
       "      <td>MatchPlayer at match: 6676393091, slot: 8, her...</td>\n",
       "    </tr>\n",
       "    <tr>\n",
       "      <th>4</th>\n",
       "      <td>2010</td>\n",
       "      <td>2037</td>\n",
       "      <td>False</td>\n",
       "      <td>[MatchPlayer at match: 6676393091, slot: 1, he...</td>\n",
       "      <td>MatchPlayer at match: 6676393091, slot: 9, her...</td>\n",
       "    </tr>\n",
       "    <tr>\n",
       "      <th>8</th>\n",
       "      <td>2025</td>\n",
       "      <td>2031</td>\n",
       "      <td>True</td>\n",
       "      <td>[MatchPlayer at match: 6676393091, slot: 1, he...</td>\n",
       "      <td>MatchPlayer at match: 6676393091, slot: 8, her...</td>\n",
       "    </tr>\n",
       "    <tr>\n",
       "      <th>9</th>\n",
       "      <td>2047</td>\n",
       "      <td>2055</td>\n",
       "      <td>False</td>\n",
       "      <td>[MatchPlayer at match: 6676393091, slot: 5, he...</td>\n",
       "      <td>MatchPlayer at match: 6676393091, slot: 8, her...</td>\n",
       "    </tr>\n",
       "    <tr>\n",
       "      <th>10</th>\n",
       "      <td>2067</td>\n",
       "      <td>2080</td>\n",
       "      <td>True</td>\n",
       "      <td>[MatchPlayer at match: 6676393091, slot: 1, he...</td>\n",
       "      <td>MatchPlayer at match: 6676393091, slot: 8, her...</td>\n",
       "    </tr>\n",
       "  </tbody>\n",
       "</table>\n",
       "</div>"
      ],
      "text/plain": [
       "    start   end  target_dead  \\\n",
       "0     305   321         True   \n",
       "5     380   390         True   \n",
       "4     418   424         True   \n",
       "2     552   559         True   \n",
       "6     582   592         True   \n",
       "3     582   588         True   \n",
       "1     662   690         True   \n",
       "4     676   693         True   \n",
       "2     825   836         True   \n",
       "7     951   955        False   \n",
       "8     973   980         True   \n",
       "9    1064  1068         True   \n",
       "4    1636  1649         True   \n",
       "7    1781  1792         True   \n",
       "4    2010  2037        False   \n",
       "8    2025  2031         True   \n",
       "9    2047  2055        False   \n",
       "10   2067  2080         True   \n",
       "\n",
       "                                      attacker_heroes  \\\n",
       "0   [MatchPlayer at match: 6676393091, slot: 3, he...   \n",
       "5   [MatchPlayer at match: 6676393091, slot: 3, he...   \n",
       "4   [MatchPlayer at match: 6676393091, slot: 1, he...   \n",
       "2   [MatchPlayer at match: 6676393091, slot: 2, he...   \n",
       "6   [MatchPlayer at match: 6676393091, slot: 2, he...   \n",
       "3   [MatchPlayer at match: 6676393091, slot: 1, he...   \n",
       "1   [MatchPlayer at match: 6676393091, slot: 1, he...   \n",
       "4   [MatchPlayer at match: 6676393091, slot: 1, he...   \n",
       "2   [MatchPlayer at match: 6676393091, slot: 3, he...   \n",
       "7   [MatchPlayer at match: 6676393091, slot: 1, he...   \n",
       "8   [MatchPlayer at match: 6676393091, slot: 1, he...   \n",
       "9   [MatchPlayer at match: 6676393091, slot: 1, he...   \n",
       "4   [MatchPlayer at match: 6676393091, slot: 1, he...   \n",
       "7   [MatchPlayer at match: 6676393091, slot: 3, he...   \n",
       "4   [MatchPlayer at match: 6676393091, slot: 1, he...   \n",
       "8   [MatchPlayer at match: 6676393091, slot: 1, he...   \n",
       "9   [MatchPlayer at match: 6676393091, slot: 5, he...   \n",
       "10  [MatchPlayer at match: 6676393091, slot: 1, he...   \n",
       "\n",
       "                                               target  \n",
       "0   MatchPlayer at match: 6676393091, slot: 7, her...  \n",
       "5   MatchPlayer at match: 6676393091, slot: 6, her...  \n",
       "4   MatchPlayer at match: 6676393091, slot: 5, her...  \n",
       "2   MatchPlayer at match: 6676393091, slot: 7, her...  \n",
       "6   MatchPlayer at match: 6676393091, slot: 5, her...  \n",
       "3   MatchPlayer at match: 6676393091, slot: 8, her...  \n",
       "1   MatchPlayer at match: 6676393091, slot: 9, her...  \n",
       "4   MatchPlayer at match: 6676393091, slot: 8, her...  \n",
       "2   MatchPlayer at match: 6676393091, slot: 9, her...  \n",
       "7   MatchPlayer at match: 6676393091, slot: 5, her...  \n",
       "8   MatchPlayer at match: 6676393091, slot: 5, her...  \n",
       "9   MatchPlayer at match: 6676393091, slot: 5, her...  \n",
       "4   MatchPlayer at match: 6676393091, slot: 7, her...  \n",
       "7   MatchPlayer at match: 6676393091, slot: 8, her...  \n",
       "4   MatchPlayer at match: 6676393091, slot: 9, her...  \n",
       "8   MatchPlayer at match: 6676393091, slot: 8, her...  \n",
       "9   MatchPlayer at match: 6676393091, slot: 8, her...  \n",
       "10  MatchPlayer at match: 6676393091, slot: 8, her...  "
      ]
     },
     "execution_count": 20,
     "metadata": {},
     "output_type": "execute_result"
    }
   ],
   "source": [
    "df_attacks = player.as_attacker\n",
    "df_attacks"
   ]
  },
  {
   "cell_type": "code",
   "execution_count": 21,
   "id": "a0d097da-6759-4c8d-9f85-40de5b7c49c7",
   "metadata": {},
   "outputs": [
    {
     "data": {
      "image/png": "[encoded data removed]",
      "text/plain": [
       "<Figure size 432x288 with 1 Axes>"
      ]
     },
     "metadata": {
      "needs_background": "light"
     },
     "output_type": "display_data"
    }
   ],
   "source": [
    "fig, ax = plt.subplots()\n",
    "ax.plot(player.hp.index / 60, player.hp)\n",
    "ax.scatter(x=player.deaths['time'] / 60, y=np.full(player.deaths.shape[0], 0), color='r', marker='v', s=100)\n",
    "ax.scatter(x=df_attacks['start'] / 60, y=np.full(df_attacks.shape[0], 0), color='black', marker='$($', s=100)\n",
    "ax.scatter(x=df_attacks['end'] / 60, y=np.full(df_attacks.shape[0], 0), color='black', marker='$)$', s=100)\n",
    "ax.scatter(x=df_youtube['start_time'] / 60, y=np.full(df_youtube.shape[0], 0), color='green', marker='$[$', s=200)\n",
    "ax.scatter(x=df_youtube['end_time'] / 60, y=np.full(df_youtube.shape[0], 0), color='green', marker='$]$', s=200)\n",
    "plt.show()"
   ]
  },
  {
   "cell_type": "code",
   "execution_count": 22,
   "id": "9651a7e7-f30b-4095-bfaf-287f96ca1025",
   "metadata": {},
   "outputs": [
    {
     "data": {
      "text/plain": [
       "15"
      ]
     },
     "execution_count": 22,
     "metadata": {},
     "output_type": "execute_result"
    }
   ],
   "source": [
    "player.as_attacker.target_dead.sum()"
   ]
  },
  {
   "cell_type": "code",
   "execution_count": 23,
   "id": "027a71fa-a23a-49e1-acba-bc6d8b607449",
   "metadata": {},
   "outputs": [
    {
     "data": {
      "text/plain": [
       "[3, 3, 1, 4, 7, 7, 4, 4, 9, 3]"
      ]
     },
     "execution_count": 23,
     "metadata": {},
     "output_type": "execute_result"
    }
   ],
   "source": [
    "[p.as_target.target_dead.sum() for p in match.players]"
   ]
  },
  {
   "cell_type": "markdown",
   "id": "b265f66e-e6a1-40eb-b2b0-1040e959f75e",
   "metadata": {},
   "source": [
    "- Merge as_target (alive) and as_attacker (killed)\n",
    "- Calculate IoU with YouTube"
   ]
  },
  {
   "cell_type": "code",
   "execution_count": 24,
   "id": "26e2e351-49b5-4efb-84a0-cde5c95c4502",
   "metadata": {},
   "outputs": [],
   "source": [
    "# player.action_moments"
   ]
  },
  {
   "cell_type": "code",
   "execution_count": 25,
   "id": "eb30da34-821b-477a-a477-d40f0aef3144",
   "metadata": {},
   "outputs": [],
   "source": [
    "# df_youtube"
   ]
  },
  {
   "cell_type": "code",
   "execution_count": 26,
   "id": "9b33a491-9a3b-481e-8404-7e995c12132e",
   "metadata": {},
   "outputs": [],
   "source": [
    "# match.action_moments"
   ]
  },
  {
   "cell_type": "code",
   "execution_count": 27,
   "id": "ffe63b0f-e757-49d6-8353-8e24d8413703",
   "metadata": {},
   "outputs": [
    {
     "data": {
      "text/html": [
       "<div>\n",
       "<style scoped>\n",
       "    .dataframe tbody tr th:only-of-type {\n",
       "        vertical-align: middle;\n",
       "    }\n",
       "\n",
       "    .dataframe tbody tr th {\n",
       "        vertical-align: top;\n",
       "    }\n",
       "\n",
       "    .dataframe thead th {\n",
       "        text-align: right;\n",
       "    }\n",
       "</style>\n",
       "<table border=\"1\" class=\"dataframe\">\n",
       "  <thead>\n",
       "    <tr style=\"text-align: right;\">\n",
       "      <th></th>\n",
       "      <th>start</th>\n",
       "      <th>end</th>\n",
       "      <th>time</th>\n",
       "    </tr>\n",
       "  </thead>\n",
       "  <tbody>\n",
       "    <tr>\n",
       "      <th>0</th>\n",
       "      <td>-8</td>\n",
       "      <td>-1</td>\n",
       "      <td>-8</td>\n",
       "    </tr>\n",
       "    <tr>\n",
       "      <th>1</th>\n",
       "      <td>53</td>\n",
       "      <td>78</td>\n",
       "      <td>53</td>\n",
       "    </tr>\n",
       "    <tr>\n",
       "      <th>2</th>\n",
       "      <td>100</td>\n",
       "      <td>107</td>\n",
       "      <td>100</td>\n",
       "    </tr>\n",
       "    <tr>\n",
       "      <th>3</th>\n",
       "      <td>133</td>\n",
       "      <td>143</td>\n",
       "      <td>133</td>\n",
       "    </tr>\n",
       "    <tr>\n",
       "      <th>4</th>\n",
       "      <td>163</td>\n",
       "      <td>191</td>\n",
       "      <td>163</td>\n",
       "    </tr>\n",
       "    <tr>\n",
       "      <th>5</th>\n",
       "      <td>210</td>\n",
       "      <td>228</td>\n",
       "      <td>210</td>\n",
       "    </tr>\n",
       "    <tr>\n",
       "      <th>6</th>\n",
       "      <td>243</td>\n",
       "      <td>268</td>\n",
       "      <td>243</td>\n",
       "    </tr>\n",
       "    <tr>\n",
       "      <th>7</th>\n",
       "      <td>279</td>\n",
       "      <td>291</td>\n",
       "      <td>279</td>\n",
       "    </tr>\n",
       "    <tr>\n",
       "      <th>8</th>\n",
       "      <td>305</td>\n",
       "      <td>337</td>\n",
       "      <td>305</td>\n",
       "    </tr>\n",
       "    <tr>\n",
       "      <th>9</th>\n",
       "      <td>380</td>\n",
       "      <td>401</td>\n",
       "      <td>380</td>\n",
       "    </tr>\n",
       "    <tr>\n",
       "      <th>10</th>\n",
       "      <td>418</td>\n",
       "      <td>424</td>\n",
       "      <td>418</td>\n",
       "    </tr>\n",
       "    <tr>\n",
       "      <th>11</th>\n",
       "      <td>456</td>\n",
       "      <td>503</td>\n",
       "      <td>456</td>\n",
       "    </tr>\n",
       "    <tr>\n",
       "      <th>12</th>\n",
       "      <td>517</td>\n",
       "      <td>527</td>\n",
       "      <td>517</td>\n",
       "    </tr>\n",
       "    <tr>\n",
       "      <th>13</th>\n",
       "      <td>552</td>\n",
       "      <td>559</td>\n",
       "      <td>552</td>\n",
       "    </tr>\n",
       "    <tr>\n",
       "      <th>14</th>\n",
       "      <td>582</td>\n",
       "      <td>592</td>\n",
       "      <td>582</td>\n",
       "    </tr>\n",
       "    <tr>\n",
       "      <th>15</th>\n",
       "      <td>649</td>\n",
       "      <td>698</td>\n",
       "      <td>649</td>\n",
       "    </tr>\n",
       "    <tr>\n",
       "      <th>16</th>\n",
       "      <td>825</td>\n",
       "      <td>836</td>\n",
       "      <td>825</td>\n",
       "    </tr>\n",
       "    <tr>\n",
       "      <th>17</th>\n",
       "      <td>921</td>\n",
       "      <td>927</td>\n",
       "      <td>921</td>\n",
       "    </tr>\n",
       "    <tr>\n",
       "      <th>18</th>\n",
       "      <td>951</td>\n",
       "      <td>980</td>\n",
       "      <td>951</td>\n",
       "    </tr>\n",
       "    <tr>\n",
       "      <th>19</th>\n",
       "      <td>990</td>\n",
       "      <td>1005</td>\n",
       "      <td>990</td>\n",
       "    </tr>\n",
       "    <tr>\n",
       "      <th>20</th>\n",
       "      <td>1064</td>\n",
       "      <td>1068</td>\n",
       "      <td>1064</td>\n",
       "    </tr>\n",
       "    <tr>\n",
       "      <th>21</th>\n",
       "      <td>1261</td>\n",
       "      <td>1272</td>\n",
       "      <td>1261</td>\n",
       "    </tr>\n",
       "    <tr>\n",
       "      <th>22</th>\n",
       "      <td>1410</td>\n",
       "      <td>1447</td>\n",
       "      <td>1410</td>\n",
       "    </tr>\n",
       "    <tr>\n",
       "      <th>23</th>\n",
       "      <td>1504</td>\n",
       "      <td>1509</td>\n",
       "      <td>1504</td>\n",
       "    </tr>\n",
       "    <tr>\n",
       "      <th>24</th>\n",
       "      <td>1629</td>\n",
       "      <td>1649</td>\n",
       "      <td>1629</td>\n",
       "    </tr>\n",
       "    <tr>\n",
       "      <th>25</th>\n",
       "      <td>1689</td>\n",
       "      <td>1693</td>\n",
       "      <td>1689</td>\n",
       "    </tr>\n",
       "    <tr>\n",
       "      <th>26</th>\n",
       "      <td>1768</td>\n",
       "      <td>1792</td>\n",
       "      <td>1768</td>\n",
       "    </tr>\n",
       "    <tr>\n",
       "      <th>27</th>\n",
       "      <td>2010</td>\n",
       "      <td>2037</td>\n",
       "      <td>2010</td>\n",
       "    </tr>\n",
       "    <tr>\n",
       "      <th>28</th>\n",
       "      <td>2047</td>\n",
       "      <td>2055</td>\n",
       "      <td>2047</td>\n",
       "    </tr>\n",
       "    <tr>\n",
       "      <th>29</th>\n",
       "      <td>2067</td>\n",
       "      <td>2080</td>\n",
       "      <td>2067</td>\n",
       "    </tr>\n",
       "  </tbody>\n",
       "</table>\n",
       "</div>"
      ],
      "text/plain": [
       "    start   end  time\n",
       "0      -8    -1    -8\n",
       "1      53    78    53\n",
       "2     100   107   100\n",
       "3     133   143   133\n",
       "4     163   191   163\n",
       "5     210   228   210\n",
       "6     243   268   243\n",
       "7     279   291   279\n",
       "8     305   337   305\n",
       "9     380   401   380\n",
       "10    418   424   418\n",
       "11    456   503   456\n",
       "12    517   527   517\n",
       "13    552   559   552\n",
       "14    582   592   582\n",
       "15    649   698   649\n",
       "16    825   836   825\n",
       "17    921   927   921\n",
       "18    951   980   951\n",
       "19    990  1005   990\n",
       "20   1064  1068  1064\n",
       "21   1261  1272  1261\n",
       "22   1410  1447  1410\n",
       "23   1504  1509  1504\n",
       "24   1629  1649  1629\n",
       "25   1689  1693  1689\n",
       "26   1768  1792  1768\n",
       "27   2010  2037  2010\n",
       "28   2047  2055  2047\n",
       "29   2067  2080  2067"
      ]
     },
     "execution_count": 27,
     "metadata": {},
     "output_type": "execute_result"
    }
   ],
   "source": [
    "match.action_moments"
   ]
  },
  {
   "cell_type": "code",
   "execution_count": 28,
   "id": "5bd59ae4-b30c-400e-b61e-657e2a6fc590",
   "metadata": {},
   "outputs": [
    {
     "data": {
      "image/png": "[encoded data removed]",
      "text/plain": [
       "<Figure size 432x288 with 1 Axes>"
      ]
     },
     "metadata": {
      "needs_background": "light"
     },
     "output_type": "display_data"
    }
   ],
   "source": [
    "fig, ax = plt.subplots()\n",
    "ax.plot(player.hp.index / 60, player.hp)\n",
    "ax.scatter(x=player.deaths['time'] / 60, y=np.full(player.deaths.shape[0], 0), color='r', marker='v', s=100)\n",
    "ax.scatter(x=match.action_moments['start'] / 60, y=np.full(match.action_moments.shape[0], 0), color='black', marker='$($', s=100)\n",
    "ax.scatter(x=match.action_moments['end'] / 60, y=np.full(match.action_moments.shape[0], 0), color='black', marker='$)$', s=100)\n",
    "ax.scatter(x=df_youtube['start_time'] / 60, y=np.full(df_youtube.shape[0], 0), color='green', marker='$[$', s=200)\n",
    "ax.scatter(x=df_youtube['end_time'] / 60, y=np.full(df_youtube.shape[0], 0), color='green', marker='$]$', s=200)\n",
    "plt.show()"
   ]
  },
  {
   "cell_type": "code",
   "execution_count": 35,
   "id": "c7acd427-493e-466e-9375-2b9eff25e5e9",
   "metadata": {},
   "outputs": [],
   "source": [
    "from utils import convert_to_dota_clock_format\n",
    "\n",
    "match_moments = match.action_moments[['start', 'end']].to_dict('records')"
   ]
  },
  {
   "cell_type": "code",
   "execution_count": 30,
   "id": "a057228f-207a-4739-a13d-497b75751323",
   "metadata": {},
   "outputs": [
    {
     "data": {
      "text/plain": [
       "[{'start': 19, 'end': 2},\n",
       " {'start': 60, 'end': 79},\n",
       " {'start': 158, 'end': 194},\n",
       " {'start': 270, 'end': 335},\n",
       " {'start': 859, 'end': 896},\n",
       " {'start': 953, 'end': 973},\n",
       " {'start': 1086, 'end': 1093},\n",
       " {'start': 1127, 'end': 1136},\n",
       " {'start': 1271, 'end': 1307},\n",
       " {'start': 1354, 'end': 1465},\n",
       " {'start': 1552, 'end': 1596},\n",
       " {'start': 1646, 'end': 1679},\n",
       " {'start': 1692, 'end': 1824}]"
      ]
     },
     "execution_count": 30,
     "metadata": {},
     "output_type": "execute_result"
    }
   ],
   "source": [
    "youtube_moments = (\n",
    "    df_youtube[['start_time', 'end_time']]\n",
    "    .rename(columns=dict(start_time='start', end_time='end'))\n",
    "    .to_dict('records')\n",
    ")\n",
    "youtube_moments"
   ]
  },
  {
   "cell_type": "code",
   "execution_count": 31,
   "id": "6ea4aa5a-49cf-40af-8599-005f01486d72",
   "metadata": {},
   "outputs": [
    {
     "data": {
      "text/plain": [
       "[{'start': -8, 'end': -1},\n",
       " {'start': 19, 'end': 2},\n",
       " {'start': 53, 'end': 79},\n",
       " {'start': 100, 'end': 107},\n",
       " {'start': 133, 'end': 143},\n",
       " {'start': 158, 'end': 194},\n",
       " {'start': 210, 'end': 228},\n",
       " {'start': 243, 'end': 268},\n",
       " {'start': 270, 'end': 337},\n",
       " {'start': 380, 'end': 401},\n",
       " {'start': 418, 'end': 424},\n",
       " {'start': 456, 'end': 503},\n",
       " {'start': 517, 'end': 527},\n",
       " {'start': 552, 'end': 559},\n",
       " {'start': 582, 'end': 592},\n",
       " {'start': 649, 'end': 698},\n",
       " {'start': 825, 'end': 836},\n",
       " {'start': 859, 'end': 896},\n",
       " {'start': 921, 'end': 927},\n",
       " {'start': 951, 'end': 980},\n",
       " {'start': 990, 'end': 1005},\n",
       " {'start': 1064, 'end': 1068},\n",
       " {'start': 1086, 'end': 1093},\n",
       " {'start': 1127, 'end': 1136},\n",
       " {'start': 1261, 'end': 1307},\n",
       " {'start': 1354, 'end': 1465},\n",
       " {'start': 1504, 'end': 1509},\n",
       " {'start': 1552, 'end': 1596},\n",
       " {'start': 1629, 'end': 1679},\n",
       " {'start': 1689, 'end': 1824},\n",
       " {'start': 2010, 'end': 2037},\n",
       " {'start': 2047, 'end': 2055},\n",
       " {'start': 2067, 'end': 2080}]"
      ]
     },
     "execution_count": 31,
     "metadata": {},
     "output_type": "execute_result"
    }
   ],
   "source": [
    "from utils import merge_close_intervals\n",
    "\n",
    "merge_close_intervals(youtube_moments + match_moments, gap=0)"
   ]
  },
  {
   "cell_type": "code",
   "execution_count": 32,
   "id": "e7348ea5-1e04-456c-9719-3c74528f25a0",
   "metadata": {},
   "outputs": [
    {
     "data": {
      "text/plain": [
       "[{'start': 60, 'end': 78},\n",
       " {'start': 163, 'end': 191},\n",
       " {'start': 279, 'end': 291},\n",
       " {'start': 305, 'end': 335},\n",
       " {'start': 953, 'end': 973},\n",
       " {'start': 1271, 'end': 1272},\n",
       " {'start': 1410, 'end': 1447},\n",
       " {'start': 1646, 'end': 1649},\n",
       " {'start': 1692, 'end': 1693},\n",
       " {'start': 1768, 'end': 1792}]"
      ]
     },
     "execution_count": 32,
     "metadata": {},
     "output_type": "execute_result"
    }
   ],
   "source": [
    "from utils import get_intersections, get_intersection\n",
    "\n",
    "get_intersections(youtube_moments, match_moments)"
   ]
  },
  {
   "cell_type": "code",
   "execution_count": 33,
   "id": "b65a6c0a-7f41-4ac3-b2b8-6caa461a74a3",
   "metadata": {},
   "outputs": [
    {
     "data": {
      "text/plain": [
       "0.1963882618510158"
      ]
     },
     "execution_count": 33,
     "metadata": {},
     "output_type": "execute_result"
    }
   ],
   "source": [
    "from utils import calculate_iou\n",
    "\n",
    "calculate_iou(match_moments, youtube_moments)"
   ]
  },
  {
   "cell_type": "code",
   "execution_count": 38,
   "id": "a5f8901f-a409-4077-ad3e-88a9491e855e",
   "metadata": {},
   "outputs": [
    {
     "data": {
      "text/plain": [
       "0.12129760225669958"
      ]
     },
     "execution_count": 38,
     "metadata": {},
     "output_type": "execute_result"
    }
   ],
   "source": [
    "calculate_iou([r for r in match_moments if r['start'] > 10 * 60], youtube_moments)"
   ]
  },
  {
   "cell_type": "code",
   "execution_count": 36,
   "id": "4e439b15-0881-4d82-ae47-5aac0de20300",
   "metadata": {},
   "outputs": [
    {
     "data": {
      "text/plain": [
       "[{'start': '00:19', 'end': '00:02'},\n",
       " {'start': '01:00', 'end': '01:19'},\n",
       " {'start': '02:38', 'end': '03:14'},\n",
       " {'start': '04:30', 'end': '05:35'},\n",
       " {'start': '14:19', 'end': '14:56'},\n",
       " {'start': '15:53', 'end': '16:13'},\n",
       " {'start': '18:06', 'end': '18:13'},\n",
       " {'start': '18:47', 'end': '18:56'},\n",
       " {'start': '21:11', 'end': '21:47'},\n",
       " {'start': '22:34', 'end': '24:25'},\n",
       " {'start': '25:52', 'end': '26:36'},\n",
       " {'start': '27:26', 'end': '27:59'},\n",
       " {'start': '28:12', 'end': '30:24'}]"
      ]
     },
     "execution_count": 36,
     "metadata": {},
     "output_type": "execute_result"
    }
   ],
   "source": [
    "[\n",
    "    dict(\n",
    "        start=convert_to_dota_clock_format(record['start']),\n",
    "        end=convert_to_dota_clock_format(record['end']),\n",
    ") for record in youtube_moments]"
   ]
  },
  {
   "cell_type": "code",
   "execution_count": 34,
   "id": "26713cb7-fae3-46a7-a428-3c4e31f6fc2e",
   "metadata": {},
   "outputs": [
    {
     "data": {
      "text/plain": [
       "[{'start': '-1:52', 'end': '-1:59'},\n",
       " {'start': '00:53', 'end': '01:18'},\n",
       " {'start': '01:40', 'end': '01:47'},\n",
       " {'start': '02:13', 'end': '02:23'},\n",
       " {'start': '02:43', 'end': '03:11'},\n",
       " {'start': '03:30', 'end': '03:48'},\n",
       " {'start': '04:03', 'end': '04:28'},\n",
       " {'start': '04:39', 'end': '04:51'},\n",
       " {'start': '05:05', 'end': '05:37'},\n",
       " {'start': '06:20', 'end': '06:41'},\n",
       " {'start': '06:58', 'end': '07:04'},\n",
       " {'start': '07:36', 'end': '08:23'},\n",
       " {'start': '08:37', 'end': '08:47'},\n",
       " {'start': '09:12', 'end': '09:19'},\n",
       " {'start': '09:42', 'end': '09:52'},\n",
       " {'start': '10:49', 'end': '11:38'},\n",
       " {'start': '13:45', 'end': '13:56'},\n",
       " {'start': '15:21', 'end': '15:27'},\n",
       " {'start': '15:51', 'end': '16:20'},\n",
       " {'start': '16:30', 'end': '16:45'},\n",
       " {'start': '17:44', 'end': '17:48'},\n",
       " {'start': '21:01', 'end': '21:12'},\n",
       " {'start': '23:30', 'end': '24:07'},\n",
       " {'start': '25:04', 'end': '25:09'},\n",
       " {'start': '27:09', 'end': '27:29'},\n",
       " {'start': '28:09', 'end': '28:13'},\n",
       " {'start': '29:28', 'end': '29:52'},\n",
       " {'start': '33:30', 'end': '33:57'},\n",
       " {'start': '34:07', 'end': '34:15'},\n",
       " {'start': '34:27', 'end': '34:40'}]"
      ]
     },
     "execution_count": 34,
     "metadata": {},
     "output_type": "execute_result"
    }
   ],
   "source": [
    "[\n",
    "    dict(\n",
    "        start=convert_to_dota_clock_format(record['start']),\n",
    "        end=convert_to_dota_clock_format(record['end']),\n",
    ") for record in match_moments]"
   ]
  },
  {
   "cell_type": "markdown",
   "id": "5cb07b43-f666-4c4e-a163-10e2bc2ed079",
   "metadata": {},
   "source": [
    "- Вычесть SMOOTH_WINDOW из начал и концов\n",
    "- На лайнинге зачастую моменты скучные\n",
    "- Не хватает информации, где экшен. Куда смотреть?\n",
    "- Не понятно, насколько эпичный момент\n",
    "- После лайнинга все гораздо веселее\n",
    "- Фраги 1х1\n",
    "- Масс-файты\n",
    "- Киллы по матчу распределены в разных участках карты. Причем могут смешиваться в один длинный интересные и скучные моменты {'start': '10:49', 'end': '11:38'},\n",
    "- Одна драка разбилась на 3 хайлайта {'start': '33:30', 'end': '33:57'}, {'start': '34:07', 'end': '34:15'}, {'start': '34:27', 'end': '34:40'}]\n",
    "\n",
    "Плюс-минус интересное\n",
    "- {'start': '10:49', 'end': '11:38'} в конце\n",
    "- {'start': '21:01', 'end': '21:12'},\n",
    "\n",
    "YouTube моменты из других матчей в серии, например\n",
    "- {'start': 1692, 'end': 1824}"
   ]
  },
  {
   "cell_type": "code",
   "execution_count": null,
   "id": "76a0fcd3-c89f-4183-990f-769b2c9b1a96",
   "metadata": {},
   "outputs": [],
   "source": []
  }
 ],
 "metadata": {
  "kernelspec": {
   "display_name": "Python 3 (ipykernel)",
   "language": "python",
   "name": "python3"
  },
  "language_info": {
   "codemirror_mode": {
    "name": "ipython",
    "version": 3
   },
   "file_extension": ".py",
   "mimetype": "text/x-python",
   "name": "python",
   "nbconvert_exporter": "python",
   "pygments_lexer": "ipython3",
   "version": "3.10.6"
  },
  "vscode": {
   "interpreter": {
    "hash": "730085c8eaeb142b8c9df58ccf5c7001fc9a8d8927622c40bbde052705263fca"
   }
  }
 },
 "nbformat": 4,
 "nbformat_minor": 5
}
