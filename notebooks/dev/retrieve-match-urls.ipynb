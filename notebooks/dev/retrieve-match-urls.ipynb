{
 "cells": [
  {
   "cell_type": "code",
   "execution_count": 10,
   "id": "4d764245-dda2-4d12-9cf6-8ebf999d6473",
   "metadata": {},
   "outputs": [],
   "source": [
    "import requests\n",
    "import json\n",
    "import time"
   ]
  },
  {
   "cell_type": "code",
   "execution_count": 3,
   "id": "2c0145f3-1408-4e48-85a5-c1f578186aca",
   "metadata": {},
   "outputs": [],
   "source": [
    "r = requests.get('https://api.opendota.com/api/leagues/13256/matches')\n",
    "data = r.json()"
   ]
  },
  {
   "cell_type": "code",
   "execution_count": 5,
   "id": "4f13395a-4d59-4f92-9fa3-b5095e043048",
   "metadata": {},
   "outputs": [
    {
     "data": {
      "text/plain": [
       "list"
      ]
     },
     "execution_count": 5,
     "metadata": {},
     "output_type": "execute_result"
    }
   ],
   "source": [
    "type(data)"
   ]
  },
  {
   "cell_type": "code",
   "execution_count": 6,
   "id": "1365532f-6bba-42e1-8ca7-681390d38a65",
   "metadata": {},
   "outputs": [
    {
     "data": {
      "text/plain": [
       "487"
      ]
     },
     "execution_count": 6,
     "metadata": {},
     "output_type": "execute_result"
    }
   ],
   "source": [
    "len(data)"
   ]
  },
  {
   "cell_type": "code",
   "execution_count": 8,
   "id": "3765cd4a-584c-4591-a5e9-9563114b2a8c",
   "metadata": {},
   "outputs": [
    {
     "data": {
      "text/plain": [
       "dict_keys(['match_id', 'match_seq_num', 'radiant_win', 'start_time', 'duration', 'tower_status_radiant', 'tower_status_dire', 'barracks_status_radiant', 'barracks_status_dire', 'cluster', 'first_blood_time', 'lobby_type', 'human_players', 'leagueid', 'positive_votes', 'negative_votes', 'game_mode', 'engine', 'picks_bans', 'radiant_team_id', 'dire_team_id', 'radiant_team_name', 'dire_team_name', 'radiant_team_complete', 'dire_team_complete', 'radiant_captain', 'dire_captain', 'chat', 'objectives', 'radiant_gold_adv', 'radiant_xp_adv', 'teamfights', 'version', 'cosmetics', 'radiant_score', 'dire_score', 'draft_timings', 'series_id', 'series_type'])"
      ]
     },
     "execution_count": 8,
     "metadata": {},
     "output_type": "execute_result"
    }
   ],
   "source": [
    "data[0].keys()"
   ]
  },
  {
   "cell_type": "code",
   "execution_count": 19,
   "id": "b712c9eb-b1a1-4e1e-8aa6-d670475c350c",
   "metadata": {},
   "outputs": [
    {
     "ename": "HTTPError",
     "evalue": "429 Client Error: Too Many Requests for url: https://api.opendota.com/api/replays/?match_id=6080181199",
     "output_type": "error",
     "traceback": [
      "\u001b[0;31m---------------------------------------------------------------------------\u001b[0m",
      "\u001b[0;31mHTTPError\u001b[0m                                 Traceback (most recent call last)",
      "Input \u001b[0;32mIn [19]\u001b[0m, in \u001b[0;36m<cell line: 2>\u001b[0;34m()\u001b[0m\n\u001b[1;32m      3\u001b[0m match_id \u001b[38;5;241m=\u001b[39m m[\u001b[38;5;124m'\u001b[39m\u001b[38;5;124mmatch_id\u001b[39m\u001b[38;5;124m'\u001b[39m]\n\u001b[1;32m      4\u001b[0m r \u001b[38;5;241m=\u001b[39m requests\u001b[38;5;241m.\u001b[39mget(\u001b[38;5;124m'\u001b[39m\u001b[38;5;124mhttps://api.opendota.com/api/replays/\u001b[39m\u001b[38;5;124m'\u001b[39m, params\u001b[38;5;241m=\u001b[39m\u001b[38;5;28mdict\u001b[39m(match_id\u001b[38;5;241m=\u001b[39mmatch_id))\n\u001b[0;32m----> 5\u001b[0m \u001b[43mr\u001b[49m\u001b[38;5;241;43m.\u001b[39;49m\u001b[43mraise_for_status\u001b[49m\u001b[43m(\u001b[49m\u001b[43m)\u001b[49m\n\u001b[1;32m      6\u001b[0m replays\u001b[38;5;241m.\u001b[39mappend(r\u001b[38;5;241m.\u001b[39mjson())\n\u001b[1;32m      7\u001b[0m time\u001b[38;5;241m.\u001b[39msleep(\u001b[38;5;241m0.05\u001b[39m)\n",
      "File \u001b[0;32m~/dota-highlights/env/lib/python3.9/site-packages/requests/models.py:1022\u001b[0m, in \u001b[0;36mResponse.raise_for_status\u001b[0;34m(self)\u001b[0m\n\u001b[1;32m   1017\u001b[0m     http_error_msg \u001b[38;5;241m=\u001b[39m (\n\u001b[1;32m   1018\u001b[0m         \u001b[38;5;124mf\u001b[39m\u001b[38;5;124m\"\u001b[39m\u001b[38;5;132;01m{\u001b[39;00m\u001b[38;5;28mself\u001b[39m\u001b[38;5;241m.\u001b[39mstatus_code\u001b[38;5;132;01m}\u001b[39;00m\u001b[38;5;124m Server Error: \u001b[39m\u001b[38;5;132;01m{\u001b[39;00mreason\u001b[38;5;132;01m}\u001b[39;00m\u001b[38;5;124m for url: \u001b[39m\u001b[38;5;132;01m{\u001b[39;00m\u001b[38;5;28mself\u001b[39m\u001b[38;5;241m.\u001b[39murl\u001b[38;5;132;01m}\u001b[39;00m\u001b[38;5;124m\"\u001b[39m\n\u001b[1;32m   1019\u001b[0m     )\n\u001b[1;32m   1021\u001b[0m \u001b[38;5;28;01mif\u001b[39;00m http_error_msg:\n\u001b[0;32m-> 1022\u001b[0m     \u001b[38;5;28;01mraise\u001b[39;00m HTTPError(http_error_msg, response\u001b[38;5;241m=\u001b[39m\u001b[38;5;28mself\u001b[39m)\n",
      "\u001b[0;31mHTTPError\u001b[0m: 429 Client Error: Too Many Requests for url: https://api.opendota.com/api/replays/?match_id=6080181199"
     ]
    }
   ],
   "source": [
    "replays = []\n",
    "for m in data:\n",
    "    match_id = m['match_id']\n",
    "    r = requests.get('https://api.opendota.com/api/replays/', params=dict(match_id=match_id))\n",
    "    r.raise_for_status()\n",
    "    replays.append(r.json())\n",
    "    time.sleep(0.05)"
   ]
  },
  {
   "cell_type": "code",
   "execution_count": 22,
   "id": "09d66773-b0d3-4ca0-9822-aa0fd6079574",
   "metadata": {},
   "outputs": [
    {
     "data": {
      "text/plain": [
       "[[{'match_id': 6056844308, 'cluster': 181, 'replay_salt': 2071703603}],\n",
       " [{'match_id': 6056286110, 'cluster': 187, 'replay_salt': 1627987562}],\n",
       " [{'match_id': 6057040170, 'cluster': 186, 'replay_salt': 840789733}],\n",
       " [{'match_id': 6216665747, 'cluster': 191, 'replay_salt': 89886887}],\n",
       " [{'match_id': 6215346651, 'cluster': 192, 'replay_salt': 640559417}],\n",
       " [{'match_id': 6216545156, 'cluster': 191, 'replay_salt': 471262816}],\n",
       " [{'match_id': 6216526891, 'cluster': 191, 'replay_salt': 2090986347}],\n",
       " [{'match_id': 6079386505, 'cluster': 273, 'replay_salt': 2060490690}],\n",
       " [{'match_id': 6215020578, 'cluster': 191, 'replay_salt': 568182652}],\n",
       " [{'match_id': 6227492909, 'cluster': 273, 'replay_salt': 1934613958}],\n",
       " [{'match_id': 6214179880, 'cluster': 192, 'replay_salt': 223478786}],\n",
       " [{'match_id': 6227203516, 'cluster': 274, 'replay_salt': 564146712}],\n",
       " [{'match_id': 6066863360, 'cluster': 123, 'replay_salt': 46044040}],\n",
       " [{'match_id': 6078908851, 'cluster': 236, 'replay_salt': 908561694}],\n",
       " [{'match_id': 6213194720, 'cluster': 191, 'replay_salt': 1978377592}],\n",
       " [{'match_id': 6227105229, 'cluster': 274, 'replay_salt': 501232527}],\n",
       " [{'match_id': 6216827185, 'cluster': 192, 'replay_salt': 1584982263}],\n",
       " [{'match_id': 6223446359, 'cluster': 273, 'replay_salt': 86922181}],\n",
       " [{'match_id': 6214302529, 'cluster': 191, 'replay_salt': 787971837}],\n",
       " [{'match_id': 6213674858, 'cluster': 191, 'replay_salt': 1535048935}],\n",
       " [{'match_id': 6227305557, 'cluster': 273, 'replay_salt': 490901436}],\n",
       " [{'match_id': 6078222051, 'cluster': 274, 'replay_salt': 793595936}],\n",
       " [{'match_id': 6067666906, 'cluster': 152, 'replay_salt': 742345845}],\n",
       " [{'match_id': 6070412895, 'cluster': 123, 'replay_salt': 1159702756}],\n",
       " [{'match_id': 6058219763, 'cluster': 181, 'replay_salt': 1029572651}],\n",
       " [{'match_id': 6058993154, 'cluster': 202, 'replay_salt': 1669617641}],\n",
       " [{'match_id': 6054960498, 'cluster': 185, 'replay_salt': 429083929}],\n",
       " [{'match_id': 6058696782, 'cluster': 202, 'replay_salt': 1045077688}],\n",
       " [{'match_id': 6067490075, 'cluster': 122, 'replay_salt': 1907173181}],\n",
       " [{'match_id': 6077881639, 'cluster': 274, 'replay_salt': 1152446382}],\n",
       " [{'match_id': 6071803988, 'cluster': 122, 'replay_salt': 489609953}],\n",
       " [{'match_id': 6077315496, 'cluster': 273, 'replay_salt': 798684353}],\n",
       " [{'match_id': 6077316325, 'cluster': 274, 'replay_salt': 1361972212}],\n",
       " [{'match_id': 6080808402, 'cluster': 273, 'replay_salt': 2015913475}],\n",
       " [{'match_id': 6078763173, 'cluster': 274, 'replay_salt': 283819739}],\n",
       " [{'match_id': 6082074457, 'cluster': 273, 'replay_salt': 213812073}],\n",
       " [{'match_id': 6079071958, 'cluster': 274, 'replay_salt': 1920291230}],\n",
       " [{'match_id': 6055590828, 'cluster': 251, 'replay_salt': 461318796}],\n",
       " [{'match_id': 6212985654, 'cluster': 192, 'replay_salt': 436252894}],\n",
       " [{'match_id': 6213136339, 'cluster': 191, 'replay_salt': 1275365284}],\n",
       " [{'match_id': 6213019393, 'cluster': 191, 'replay_salt': 2117284280}],\n",
       " [{'match_id': 6212993517, 'cluster': 191, 'replay_salt': 509610665}],\n",
       " [{'match_id': 6212621657, 'cluster': 192, 'replay_salt': 381204947}],\n",
       " [{'match_id': 6212505466, 'cluster': 191, 'replay_salt': 2095089174}],\n",
       " [{'match_id': 6226873670, 'cluster': 274, 'replay_salt': 1636010613}],\n",
       " [{'match_id': 6227419633, 'cluster': 273, 'replay_salt': 1711071608}],\n",
       " [{'match_id': 6212734584, 'cluster': 191, 'replay_salt': 235819092}],\n",
       " [{'match_id': 6223756939, 'cluster': 273, 'replay_salt': 830695205}],\n",
       " [{'match_id': 6216446594, 'cluster': 192, 'replay_salt': 1725278252}],\n",
       " [{'match_id': 6080337977, 'cluster': 274, 'replay_salt': 1364131578}],\n",
       " [{'match_id': 6070572525, 'cluster': 122, 'replay_salt': 1277005852}],\n",
       " [{'match_id': 6221412840, 'cluster': 273, 'replay_salt': 624202320}],\n",
       " [{'match_id': 6216644781, 'cluster': 191, 'replay_salt': 794051162}],\n",
       " [{'match_id': 6214921308, 'cluster': 192, 'replay_salt': 1671804872}],\n",
       " [{'match_id': 6223390469, 'cluster': 274, 'replay_salt': 348136734}],\n",
       " [{'match_id': 6225461282, 'cluster': 274, 'replay_salt': 265627434}],\n",
       " [{'match_id': 6224010002, 'cluster': 274, 'replay_salt': 1303738236}],\n",
       " [{'match_id': 6080247712, 'cluster': 225, 'replay_salt': 620938730}]]"
      ]
     },
     "execution_count": 22,
     "metadata": {},
     "output_type": "execute_result"
    }
   ],
   "source": [
    "replays"
   ]
  },
  {
   "cell_type": "code",
   "execution_count": 24,
   "id": "94e5198e-3568-49de-836b-6f6fec4bf70c",
   "metadata": {},
   "outputs": [],
   "source": [
    "urls = []\n",
    "for replay in replays:\n",
    "    cluster = replay[0]['cluster']\n",
    "    match_id = replay[0]['match_id']\n",
    "    replay_salt = replay[0]['replay_salt']\n",
    "    url = f'http://replay{cluster}.valve.net/570/{match_id}_{replay_salt}.dem.bz2'\n",
    "    urls.append(url)"
   ]
  },
  {
   "cell_type": "code",
   "execution_count": 38,
   "id": "217fd61f-1548-4c9c-9f3d-625ae4937331",
   "metadata": {},
   "outputs": [
    {
     "data": {
      "text/plain": [
       "58"
      ]
     },
     "execution_count": 38,
     "metadata": {},
     "output_type": "execute_result"
    }
   ],
   "source": [
    "len(urls)"
   ]
  },
  {
   "cell_type": "code",
   "execution_count": 25,
   "id": "4565bf64-8df9-4b5c-b7f8-19a359ad5050",
   "metadata": {},
   "outputs": [
    {
     "data": {
      "text/plain": [
       "['http://replay181.valve.net/570/6056844308_2071703603.dem.bz2',\n",
       " 'http://replay187.valve.net/570/6056286110_1627987562.dem.bz2',\n",
       " 'http://replay186.valve.net/570/6057040170_840789733.dem.bz2',\n",
       " 'http://replay191.valve.net/570/6216665747_89886887.dem.bz2',\n",
       " 'http://replay192.valve.net/570/6215346651_640559417.dem.bz2',\n",
       " 'http://replay191.valve.net/570/6216545156_471262816.dem.bz2',\n",
       " 'http://replay191.valve.net/570/6216526891_2090986347.dem.bz2',\n",
       " 'http://replay273.valve.net/570/6079386505_2060490690.dem.bz2',\n",
       " 'http://replay191.valve.net/570/6215020578_568182652.dem.bz2',\n",
       " 'http://replay273.valve.net/570/6227492909_1934613958.dem.bz2',\n",
       " 'http://replay192.valve.net/570/6214179880_223478786.dem.bz2',\n",
       " 'http://replay274.valve.net/570/6227203516_564146712.dem.bz2',\n",
       " 'http://replay123.valve.net/570/6066863360_46044040.dem.bz2',\n",
       " 'http://replay236.valve.net/570/6078908851_908561694.dem.bz2',\n",
       " 'http://replay191.valve.net/570/6213194720_1978377592.dem.bz2',\n",
       " 'http://replay274.valve.net/570/6227105229_501232527.dem.bz2',\n",
       " 'http://replay192.valve.net/570/6216827185_1584982263.dem.bz2',\n",
       " 'http://replay273.valve.net/570/6223446359_86922181.dem.bz2',\n",
       " 'http://replay191.valve.net/570/6214302529_787971837.dem.bz2',\n",
       " 'http://replay191.valve.net/570/6213674858_1535048935.dem.bz2',\n",
       " 'http://replay273.valve.net/570/6227305557_490901436.dem.bz2',\n",
       " 'http://replay274.valve.net/570/6078222051_793595936.dem.bz2',\n",
       " 'http://replay152.valve.net/570/6067666906_742345845.dem.bz2',\n",
       " 'http://replay123.valve.net/570/6070412895_1159702756.dem.bz2',\n",
       " 'http://replay181.valve.net/570/6058219763_1029572651.dem.bz2',\n",
       " 'http://replay202.valve.net/570/6058993154_1669617641.dem.bz2',\n",
       " 'http://replay185.valve.net/570/6054960498_429083929.dem.bz2',\n",
       " 'http://replay202.valve.net/570/6058696782_1045077688.dem.bz2',\n",
       " 'http://replay122.valve.net/570/6067490075_1907173181.dem.bz2',\n",
       " 'http://replay274.valve.net/570/6077881639_1152446382.dem.bz2',\n",
       " 'http://replay122.valve.net/570/6071803988_489609953.dem.bz2',\n",
       " 'http://replay273.valve.net/570/6077315496_798684353.dem.bz2',\n",
       " 'http://replay274.valve.net/570/6077316325_1361972212.dem.bz2',\n",
       " 'http://replay273.valve.net/570/6080808402_2015913475.dem.bz2',\n",
       " 'http://replay274.valve.net/570/6078763173_283819739.dem.bz2',\n",
       " 'http://replay273.valve.net/570/6082074457_213812073.dem.bz2',\n",
       " 'http://replay274.valve.net/570/6079071958_1920291230.dem.bz2',\n",
       " 'http://replay251.valve.net/570/6055590828_461318796.dem.bz2',\n",
       " 'http://replay192.valve.net/570/6212985654_436252894.dem.bz2',\n",
       " 'http://replay191.valve.net/570/6213136339_1275365284.dem.bz2',\n",
       " 'http://replay191.valve.net/570/6213019393_2117284280.dem.bz2',\n",
       " 'http://replay191.valve.net/570/6212993517_509610665.dem.bz2',\n",
       " 'http://replay192.valve.net/570/6212621657_381204947.dem.bz2',\n",
       " 'http://replay191.valve.net/570/6212505466_2095089174.dem.bz2',\n",
       " 'http://replay274.valve.net/570/6226873670_1636010613.dem.bz2',\n",
       " 'http://replay273.valve.net/570/6227419633_1711071608.dem.bz2',\n",
       " 'http://replay191.valve.net/570/6212734584_235819092.dem.bz2',\n",
       " 'http://replay273.valve.net/570/6223756939_830695205.dem.bz2',\n",
       " 'http://replay192.valve.net/570/6216446594_1725278252.dem.bz2',\n",
       " 'http://replay274.valve.net/570/6080337977_1364131578.dem.bz2',\n",
       " 'http://replay122.valve.net/570/6070572525_1277005852.dem.bz2',\n",
       " 'http://replay273.valve.net/570/6221412840_624202320.dem.bz2',\n",
       " 'http://replay191.valve.net/570/6216644781_794051162.dem.bz2',\n",
       " 'http://replay192.valve.net/570/6214921308_1671804872.dem.bz2',\n",
       " 'http://replay274.valve.net/570/6223390469_348136734.dem.bz2',\n",
       " 'http://replay274.valve.net/570/6225461282_265627434.dem.bz2',\n",
       " 'http://replay274.valve.net/570/6224010002_1303738236.dem.bz2',\n",
       " 'http://replay225.valve.net/570/6080247712_620938730.dem.bz2']"
      ]
     },
     "execution_count": 25,
     "metadata": {},
     "output_type": "execute_result"
    }
   ],
   "source": [
    "urls"
   ]
  },
  {
   "cell_type": "code",
   "execution_count": 46,
   "id": "a95bf90d-3ea6-4e8e-8c13-e6b4e302a179",
   "metadata": {},
   "outputs": [],
   "source": [
    "filtered_urls = []\n",
    "for url in urls:\n",
    "    r = requests.head(url)\n",
    "    if r.status_code == 200:\n",
    "        filtered_urls.append(url)"
   ]
  },
  {
   "cell_type": "code",
   "execution_count": 47,
   "id": "ff4c8207-8191-4734-982b-07700c3cad15",
   "metadata": {},
   "outputs": [
    {
     "data": {
      "text/plain": [
       "['http://replay191.valve.net/570/6216665747_89886887.dem.bz2',\n",
       " 'http://replay192.valve.net/570/6215346651_640559417.dem.bz2',\n",
       " 'http://replay191.valve.net/570/6216545156_471262816.dem.bz2',\n",
       " 'http://replay191.valve.net/570/6216526891_2090986347.dem.bz2',\n",
       " 'http://replay273.valve.net/570/6079386505_2060490690.dem.bz2',\n",
       " 'http://replay191.valve.net/570/6215020578_568182652.dem.bz2',\n",
       " 'http://replay273.valve.net/570/6227492909_1934613958.dem.bz2',\n",
       " 'http://replay192.valve.net/570/6214179880_223478786.dem.bz2',\n",
       " 'http://replay274.valve.net/570/6227203516_564146712.dem.bz2',\n",
       " 'http://replay123.valve.net/570/6066863360_46044040.dem.bz2',\n",
       " 'http://replay191.valve.net/570/6213194720_1978377592.dem.bz2',\n",
       " 'http://replay274.valve.net/570/6227105229_501232527.dem.bz2',\n",
       " 'http://replay192.valve.net/570/6216827185_1584982263.dem.bz2',\n",
       " 'http://replay273.valve.net/570/6223446359_86922181.dem.bz2',\n",
       " 'http://replay191.valve.net/570/6214302529_787971837.dem.bz2',\n",
       " 'http://replay191.valve.net/570/6213674858_1535048935.dem.bz2',\n",
       " 'http://replay273.valve.net/570/6227305557_490901436.dem.bz2',\n",
       " 'http://replay274.valve.net/570/6078222051_793595936.dem.bz2',\n",
       " 'http://replay152.valve.net/570/6067666906_742345845.dem.bz2',\n",
       " 'http://replay123.valve.net/570/6070412895_1159702756.dem.bz2',\n",
       " 'http://replay181.valve.net/570/6058219763_1029572651.dem.bz2',\n",
       " 'http://replay202.valve.net/570/6058993154_1669617641.dem.bz2',\n",
       " 'http://replay185.valve.net/570/6054960498_429083929.dem.bz2',\n",
       " 'http://replay202.valve.net/570/6058696782_1045077688.dem.bz2',\n",
       " 'http://replay122.valve.net/570/6067490075_1907173181.dem.bz2',\n",
       " 'http://replay274.valve.net/570/6077881639_1152446382.dem.bz2',\n",
       " 'http://replay122.valve.net/570/6071803988_489609953.dem.bz2',\n",
       " 'http://replay273.valve.net/570/6077315496_798684353.dem.bz2',\n",
       " 'http://replay274.valve.net/570/6077316325_1361972212.dem.bz2',\n",
       " 'http://replay273.valve.net/570/6080808402_2015913475.dem.bz2',\n",
       " 'http://replay274.valve.net/570/6078763173_283819739.dem.bz2',\n",
       " 'http://replay273.valve.net/570/6082074457_213812073.dem.bz2',\n",
       " 'http://replay274.valve.net/570/6079071958_1920291230.dem.bz2',\n",
       " 'http://replay251.valve.net/570/6055590828_461318796.dem.bz2',\n",
       " 'http://replay192.valve.net/570/6212985654_436252894.dem.bz2',\n",
       " 'http://replay191.valve.net/570/6213136339_1275365284.dem.bz2',\n",
       " 'http://replay191.valve.net/570/6213019393_2117284280.dem.bz2',\n",
       " 'http://replay191.valve.net/570/6212993517_509610665.dem.bz2',\n",
       " 'http://replay192.valve.net/570/6212621657_381204947.dem.bz2',\n",
       " 'http://replay191.valve.net/570/6212505466_2095089174.dem.bz2',\n",
       " 'http://replay274.valve.net/570/6226873670_1636010613.dem.bz2',\n",
       " 'http://replay273.valve.net/570/6227419633_1711071608.dem.bz2',\n",
       " 'http://replay191.valve.net/570/6212734584_235819092.dem.bz2',\n",
       " 'http://replay273.valve.net/570/6223756939_830695205.dem.bz2',\n",
       " 'http://replay192.valve.net/570/6216446594_1725278252.dem.bz2',\n",
       " 'http://replay274.valve.net/570/6080337977_1364131578.dem.bz2',\n",
       " 'http://replay122.valve.net/570/6070572525_1277005852.dem.bz2',\n",
       " 'http://replay273.valve.net/570/6221412840_624202320.dem.bz2',\n",
       " 'http://replay191.valve.net/570/6216644781_794051162.dem.bz2',\n",
       " 'http://replay192.valve.net/570/6214921308_1671804872.dem.bz2',\n",
       " 'http://replay274.valve.net/570/6223390469_348136734.dem.bz2',\n",
       " 'http://replay274.valve.net/570/6225461282_265627434.dem.bz2',\n",
       " 'http://replay274.valve.net/570/6224010002_1303738236.dem.bz2',\n",
       " 'http://replay225.valve.net/570/6080247712_620938730.dem.bz2']"
      ]
     },
     "execution_count": 47,
     "metadata": {},
     "output_type": "execute_result"
    }
   ],
   "source": [
    "filtered_urls"
   ]
  },
  {
   "cell_type": "code",
   "execution_count": 48,
   "id": "60c9a87c-7ab5-4c90-8725-6af94721c1a5",
   "metadata": {},
   "outputs": [
    {
     "data": {
      "text/plain": [
       "54"
      ]
     },
     "execution_count": 48,
     "metadata": {},
     "output_type": "execute_result"
    }
   ],
   "source": [
    "len(filtered_urls)"
   ]
  },
  {
   "cell_type": "code",
   "execution_count": 49,
   "id": "bb761ed6-155b-485e-9ef4-d0dac94184fa",
   "metadata": {},
   "outputs": [],
   "source": [
    "with open('../replays/urls.txt', 'w') as fout:\n",
    "    for url in filtered_urls:\n",
    "        fout.write(url)\n",
    "        fout.write('\\n')"
   ]
  },
  {
   "cell_type": "code",
   "execution_count": null,
   "id": "f4ec50bc-6b5d-4672-8145-151ea4edee8d",
   "metadata": {},
   "outputs": [],
   "source": []
  }
 ],
 "metadata": {
  "kernelspec": {
   "display_name": "Python 3 (ipykernel)",
   "language": "python",
   "name": "python3"
  },
  "language_info": {
   "codemirror_mode": {
    "name": "ipython",
    "version": 3
   },
   "file_extension": ".py",
   "mimetype": "text/x-python",
   "name": "python",
   "nbconvert_exporter": "python",
   "pygments_lexer": "ipython3",
   "version": "3.10.5"
  }
 },
 "nbformat": 4,
 "nbformat_minor": 5
}
