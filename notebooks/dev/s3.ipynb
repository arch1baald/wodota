{
 "cells": [
  {
   "cell_type": "code",
   "execution_count": 4,
   "id": "221ef58d-eb86-4206-b5ac-c617490139c8",
   "metadata": {},
   "outputs": [],
   "source": [
    "import boto3\n",
    "import json"
   ]
  },
  {
   "cell_type": "markdown",
   "id": "251be0fe-47c2-43e2-b8a4-68b184882861",
   "metadata": {},
   "source": [
    "Credentials используются из `aws-cli`<br>\n",
    "https://boto3.amazonaws.com/v1/documentation/api/latest/guide/quickstart.html"
   ]
  },
  {
   "cell_type": "code",
   "execution_count": 5,
   "id": "80b52ca8-6564-4e87-8fc9-fdfec1507756",
   "metadata": {},
   "outputs": [],
   "source": [
    "s3 = boto3.resource('s3')"
   ]
  },
  {
   "cell_type": "code",
   "execution_count": 6,
   "id": "d7890f5c-2917-4891-9612-aeb105fc19d0",
   "metadata": {},
   "outputs": [
    {
     "name": "stdout",
     "output_type": "stream",
     "text": [
      "s3.Bucket(name='arch1baald-dota')\n"
     ]
    }
   ],
   "source": [
    "for bucket in s3.buckets.all():\n",
    "    print(bucket)"
   ]
  },
  {
   "cell_type": "markdown",
   "id": "d9b9e733-b6ad-4600-8e6f-2eb38185afcc",
   "metadata": {},
   "source": [
    "Notice that we use `.client` instead of `.resource`"
   ]
  },
  {
   "cell_type": "code",
   "execution_count": 12,
   "id": "fd883b5c-fd54-4289-a5bf-27e76557ee62",
   "metadata": {},
   "outputs": [],
   "source": [
    "s3 = boto3.client('s3')"
   ]
  },
  {
   "cell_type": "code",
   "execution_count": 16,
   "id": "c76f802e-a293-443f-bb6a-8b7e4f17afce",
   "metadata": {},
   "outputs": [],
   "source": [
    "with open('6227492909-copy.jsonlines', 'wb') as fout:\n",
    "    s3.download_fileobj('arch1baald-dota', '6227492909.jsonlines', fout)"
   ]
  },
  {
   "cell_type": "markdown",
   "id": "32b8484c-3b1e-45ef-aa9a-cbe9d4abd24a",
   "metadata": {},
   "source": [
    "Проблема подхода в том, что мы скачиваем весь файл и сохраняем его локально на диск.\n"
   ]
  },
  {
   "cell_type": "code",
   "execution_count": 32,
   "id": "f5f8ea93-6423-4d58-8835-6fd869647555",
   "metadata": {},
   "outputs": [
    {
     "data": {
      "text/plain": [
       "{'ResponseMetadata': {'RequestId': '2GQ95EF8VV69P5H6',\n",
       "  'HostId': 'vulzqJx+tSwanT40dm0Rms0CYt4SosEZRN/HbT31E/E9x1hiNsj9IdNkFbZ2g1+vdTrVowAP1HE=',\n",
       "  'HTTPStatusCode': 200,\n",
       "  'HTTPHeaders': {'x-amz-id-2': 'vulzqJx+tSwanT40dm0Rms0CYt4SosEZRN/HbT31E/E9x1hiNsj9IdNkFbZ2g1+vdTrVowAP1HE=',\n",
       "   'x-amz-request-id': '2GQ95EF8VV69P5H6',\n",
       "   'date': 'Thu, 23 Jun 2022 20:18:44 GMT',\n",
       "   'last-modified': 'Thu, 23 Jun 2022 19:46:11 GMT',\n",
       "   'etag': '\"74c98cf5b05f6e568ec7cfd8fe13413e-3\"',\n",
       "   'accept-ranges': 'bytes',\n",
       "   'content-type': 'application/x-www-form-urlencoded; charset=utf-8',\n",
       "   'server': 'AmazonS3',\n",
       "   'content-length': '39239892'},\n",
       "  'RetryAttempts': 0},\n",
       " 'AcceptRanges': 'bytes',\n",
       " 'LastModified': datetime.datetime(2022, 6, 23, 19, 46, 11, tzinfo=tzutc()),\n",
       " 'ContentLength': 39239892,\n",
       " 'ETag': '\"74c98cf5b05f6e568ec7cfd8fe13413e-3\"',\n",
       " 'ContentType': 'application/x-www-form-urlencoded; charset=utf-8',\n",
       " 'Metadata': {},\n",
       " 'Body': <botocore.response.StreamingBody at 0x7f3670d5d1c0>}"
      ]
     },
     "execution_count": 32,
     "metadata": {},
     "output_type": "execute_result"
    }
   ],
   "source": [
    "stream = s3.get_object(Bucket='arch1baald-dota', Key='6227492909.jsonlines')\n",
    "stream"
   ]
  },
  {
   "cell_type": "markdown",
   "id": "390f6e1e-b840-4c49-a659-36dafe7e3ef0",
   "metadata": {},
   "source": [
    "Можно стримить файл по строкам в память"
   ]
  },
  {
   "cell_type": "code",
   "execution_count": 35,
   "id": "56409c2c-a468-400a-90aa-692e1e264174",
   "metadata": {},
   "outputs": [],
   "source": [
    "stream = s3.get_object(Bucket='arch1baald-dota', Key='6227492909.jsonlines')\n",
    "for line in stream['Body'].iter_lines():\n",
    "    # line is a b'' string\n",
    "    e = json.loads(line.decode('utf-8'))"
   ]
  },
  {
   "cell_type": "code",
   "execution_count": 43,
   "id": "db45ef04-37db-4019-a839-0cefc82254d8",
   "metadata": {},
   "outputs": [
    {
     "data": {
      "text/plain": [
       "'{\"time\": -864, \"type\": \"epilogue\", \"key\": \"{\\\\\"unkn'"
      ]
     },
     "execution_count": 43,
     "metadata": {},
     "output_type": "execute_result"
    }
   ],
   "source": [
    "json.dumps(e)[:50]"
   ]
  },
  {
   "cell_type": "markdown",
   "id": "9534fb10-941a-42b6-b71a-0630cc3a90ba",
   "metadata": {},
   "source": [
    "Загрузка в бакет"
   ]
  },
  {
   "cell_type": "code",
   "execution_count": 44,
   "id": "b2c45920-e51b-47dd-a5bd-6258ea61abf7",
   "metadata": {},
   "outputs": [],
   "source": [
    "with open('../replays/6054960498.jsonlines', 'rb') as fin:\n",
    "    s3.upload_fileobj(fin, 'arch1baald-dota', '6054960498.jsonlines')"
   ]
  },
  {
   "cell_type": "markdown",
   "id": "3b119e70-50df-47d7-b0e9-fe025b212a16",
   "metadata": {},
   "source": [
    "Проверка на наличие файла в бакете"
   ]
  },
  {
   "cell_type": "code",
   "execution_count": 47,
   "id": "284fc985-ff14-4884-8b5b-86ca41d22d26",
   "metadata": {},
   "outputs": [],
   "source": [
    "from botocore.errorfactory import ClientError\n",
    "\n",
    "try:\n",
    "    s3.head_object(Bucket='arch1baald-dota', Key='fakefile.jsonlines')\n",
    "except ClientError:\n",
    "    pass"
   ]
  },
  {
   "cell_type": "markdown",
   "id": "6d3d721f-2955-42a8-80af-9bb3442b8d50",
   "metadata": {},
   "source": [
    "TODO: save resulting files from worker process to s3"
   ]
  },
  {
   "cell_type": "code",
   "execution_count": null,
   "id": "741db1ad-3de0-4340-9418-c0abefcac5e6",
   "metadata": {},
   "outputs": [],
   "source": []
  }
 ],
 "metadata": {
  "kernelspec": {
   "display_name": "Python 3 (ipykernel)",
   "language": "python",
   "name": "python3"
  },
  "language_info": {
   "codemirror_mode": {
    "name": "ipython",
    "version": 3
   },
   "file_extension": ".py",
   "mimetype": "text/x-python",
   "name": "python",
   "nbconvert_exporter": "python",
   "pygments_lexer": "ipython3",
   "version": "3.9.5"
  }
 },
 "nbformat": 4,
 "nbformat_minor": 5
}
