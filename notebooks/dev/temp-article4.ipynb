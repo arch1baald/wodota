{
 "cells": [
  {
   "cell_type": "code",
   "execution_count": 11,
   "id": "26dee439-c623-4643-8768-866c9e21ae91",
   "metadata": {},
   "outputs": [
    {
     "name": "stdout",
     "output_type": "stream",
     "text": [
      "The autoreload extension is already loaded. To reload it, use:\n",
      "  %reload_ext autoreload\n"
     ]
    }
   ],
   "source": [
    "%load_ext autoreload\n",
    "%autoreload 2\n",
    "\n",
    "import sys\n",
    "import json\n",
    "from datetime import datetime\n",
    "\n",
    "import pandas as pd\n",
    "\n",
    "sys.path.append('../src')\n",
    "from youtube import get_video_metadata, get_nearest_matches"
   ]
  },
  {
   "cell_type": "code",
   "execution_count": 2,
   "id": "11c4c5b3-caab-4191-8bb5-35014258acf6",
   "metadata": {},
   "outputs": [],
   "source": [
    "url = 'https://www.youtube.com/watch?v=cXA5Hw2boLA&ab_channel=DotADigest'\n",
    "video_id, metadata = get_video_metadata(url)"
   ]
  },
  {
   "cell_type": "code",
   "execution_count": 3,
   "id": "3545984b-304e-4651-bf9a-0375edb5961b",
   "metadata": {},
   "outputs": [
    {
     "name": "stderr",
     "output_type": "stream",
     "text": [
      "2022-08-15 11:07:59.229 | DEBUG    | utils:query_opendota:28 - \n",
      "    SELECT\n",
      "        match_id,\n",
      "        start_time,\n",
      "        matches.leagueid,\n",
      "        leagues.name as league,\n",
      "        radiant_team_id,\n",
      "        radiant_team.name as radiant_name,\n",
      "        radiant_team.tag as radiant_tag,\n",
      "        dire_team_id,\n",
      "        dire_team.name as dire_name,\n",
      "        dire_team.tag as dire_tag\n",
      "    FROM\n",
      "        matches\n",
      "        join teams as dire_team on matches.dire_team_id = dire_team.team_id\n",
      "        join teams as radiant_team on matches.radiant_team_id = radiant_team.team_id\n",
      "        join leagues on matches.leagueid = leagues.leagueid\n",
      "    WHERE\n",
      "        start_time >= extract(epoch from timestamp '07-22-2022')\n",
      "        and start_time < extract(epoch from timestamp '07-25-2022')\n",
      "    ORDER BY\n",
      "        start_time desc\n",
      "    LIMIT\n",
      "        500\n",
      "    \n"
     ]
    }
   ],
   "source": [
    "upload_date = metadata['upload_date']\n",
    "upload_date = datetime.strptime(upload_date, '%Y%m%d')\n",
    "matches = get_nearest_matches(upload_date)"
   ]
  },
  {
   "cell_type": "code",
   "execution_count": 5,
   "id": "edbf436b-f2ec-4b4e-b9a0-0bb9c4ad2094",
   "metadata": {},
   "outputs": [
    {
     "data": {
      "text/plain": [
       "288"
      ]
     },
     "execution_count": 5,
     "metadata": {},
     "output_type": "execute_result"
    }
   ],
   "source": [
    "len(matches)"
   ]
  },
  {
   "cell_type": "code",
   "execution_count": 4,
   "id": "81a05924-100e-4c6b-ba3b-458afa54278d",
   "metadata": {},
   "outputs": [
    {
     "data": {
      "text/plain": [
       "[{'match_id': 6676661644,\n",
       "  'start_time': 1658704577,\n",
       "  'leagueid': 14394,\n",
       "  'league': 'TodayPay Dota2 Invitational Season 1',\n",
       "  'radiant_team_id': 8607159,\n",
       "  'radiant_name': '5RATFORCESTAFF',\n",
       "  'radiant_tag': '5RF',\n",
       "  'dire_team_id': 8131728,\n",
       "  'dire_name': 'Hokori',\n",
       "  'dire_tag': 'Hokori'}]"
      ]
     },
     "execution_count": 4,
     "metadata": {},
     "output_type": "execute_result"
    }
   ],
   "source": [
    "matches[:1]"
   ]
  },
  {
   "cell_type": "code",
   "execution_count": 17,
   "id": "10ea4ed2-6aa6-4304-8ea6-85cc4ed6c359",
   "metadata": {},
   "outputs": [
    {
     "name": "stdout",
     "output_type": "stream",
     "text": [
      "[\n",
      "    {\n",
      "        \"match_id\": 6676393091,\n",
      "        \"start_time\": 1658688729,\n",
      "        \"leagueid\": 14391,\n",
      "        \"league\": \"Riyadh Masters by Gamers8\",\n",
      "        \"radiant_team_id\": 15,\n",
      "        \"radiant_name\": \"PSG.LGD\",\n",
      "        \"radiant_tag\": \"PSG.LGD\",\n",
      "        \"dire_team_id\": 7119388,\n",
      "        \"dire_name\": \"Team Spirit\",\n",
      "        \"dire_tag\": \"TSpirit\"\n",
      "    },\n",
      "    {\n",
      "        \"match_id\": 6676261920,\n",
      "        \"start_time\": 1658681522,\n",
      "        \"leagueid\": 14391,\n",
      "        \"league\": \"Riyadh Masters by Gamers8\",\n",
      "        \"radiant_team_id\": 1838315,\n",
      "        \"radiant_name\": \"Team Secret\",\n",
      "        \"radiant_tag\": \"Secret\",\n",
      "        \"dire_team_id\": 7119388,\n",
      "        \"dire_name\": \"Team Spirit\",\n",
      "        \"dire_tag\": \"TSpirit\"\n",
      "    },\n",
      "    {\n",
      "        \"match_id\": 6676170462,\n",
      "        \"start_time\": 1658677621,\n",
      "        \"leagueid\": 14391,\n",
      "        \"league\": \"Riyadh Masters by Gamers8\",\n",
      "        \"radiant_team_id\": 1838315,\n",
      "        \"radiant_name\": \"Team Secret\",\n",
      "        \"radiant_tag\": \"Secret\",\n",
      "        \"dire_team_id\": 7119388,\n",
      "        \"dire_name\": \"Team Spirit\",\n",
      "        \"dire_tag\": \"TSpirit\"\n",
      "    },\n",
      "    {\n",
      "        \"match_id\": 6674937284,\n",
      "        \"start_time\": 1658608266,\n",
      "        \"leagueid\": 14391,\n",
      "        \"league\": \"Riyadh Masters by Gamers8\",\n",
      "        \"radiant_team_id\": 6209804,\n",
      "        \"radiant_name\": \"Royal Never Give Up\",\n",
      "        \"radiant_tag\": \"RNG\",\n",
      "        \"dire_team_id\": 7119388,\n",
      "        \"dire_name\": \"Team Spirit\",\n",
      "        \"dire_tag\": \"TSpirit\"\n",
      "    },\n",
      "    {\n",
      "        \"match_id\": 6674859295,\n",
      "        \"start_time\": 1658604114,\n",
      "        \"leagueid\": 14391,\n",
      "        \"league\": \"Riyadh Masters by Gamers8\",\n",
      "        \"radiant_team_id\": 6209804,\n",
      "        \"radiant_name\": \"Royal Never Give Up\",\n",
      "        \"radiant_tag\": \"RNG\",\n",
      "        \"dire_team_id\": 7119388,\n",
      "        \"dire_name\": \"Team Spirit\",\n",
      "        \"dire_tag\": \"TSpirit\"\n",
      "    },\n",
      "    {\n",
      "        \"match_id\": 6674755794,\n",
      "        \"start_time\": 1658599100,\n",
      "        \"leagueid\": 14391,\n",
      "        \"league\": \"Riyadh Masters by Gamers8\",\n",
      "        \"radiant_team_id\": 6209804,\n",
      "        \"radiant_name\": \"Royal Never Give Up\",\n",
      "        \"radiant_tag\": \"RNG\",\n",
      "        \"dire_team_id\": 7119388,\n",
      "        \"dire_name\": \"Team Spirit\",\n",
      "        \"dire_tag\": \"TSpirit\"\n",
      "    },\n",
      "    {\n",
      "        \"match_id\": 6673294013,\n",
      "        \"start_time\": 1658517129,\n",
      "        \"leagueid\": 14391,\n",
      "        \"league\": \"Riyadh Masters by Gamers8\",\n",
      "        \"radiant_team_id\": 1838315,\n",
      "        \"radiant_name\": \"Team Secret\",\n",
      "        \"radiant_tag\": \"Secret\",\n",
      "        \"dire_team_id\": 7119388,\n",
      "        \"dire_name\": \"Team Spirit\",\n",
      "        \"dire_tag\": \"TSpirit\"\n",
      "    },\n",
      "    {\n",
      "        \"match_id\": 6673204572,\n",
      "        \"start_time\": 1658513208,\n",
      "        \"leagueid\": 14391,\n",
      "        \"league\": \"Riyadh Masters by Gamers8\",\n",
      "        \"radiant_team_id\": 1838315,\n",
      "        \"radiant_name\": \"Team Secret\",\n",
      "        \"radiant_tag\": \"Secret\",\n",
      "        \"dire_team_id\": 7119388,\n",
      "        \"dire_name\": \"Team Spirit\",\n",
      "        \"dire_tag\": \"TSpirit\"\n",
      "    },\n",
      "    {\n",
      "        \"match_id\": 6672801882,\n",
      "        \"start_time\": 1658495945,\n",
      "        \"leagueid\": 14391,\n",
      "        \"league\": \"Riyadh Masters by Gamers8\",\n",
      "        \"radiant_team_id\": 8291895,\n",
      "        \"radiant_name\": \"Tundra Esports\",\n",
      "        \"radiant_tag\": \"Tundra\",\n",
      "        \"dire_team_id\": 7119388,\n",
      "        \"dire_name\": \"Team Spirit\",\n",
      "        \"dire_tag\": \"TSpirit\"\n",
      "    }\n",
      "]\n"
     ]
    }
   ],
   "source": [
    "print(json.dumps([\n",
    "    m for m in matches \n",
    "    if m['dire_name'] == 'Team Spirit' \n",
    "    # or m['dire_name'] == 'Team Spirit'\n",
    "], indent=4))"
   ]
  },
  {
   "cell_type": "code",
   "execution_count": 19,
   "id": "f1306244-82a7-44e4-9c8d-66bc77844929",
   "metadata": {},
   "outputs": [
    {
     "data": {
      "text/plain": [
       "3"
      ]
     },
     "execution_count": 19,
     "metadata": {},
     "output_type": "execute_result"
    }
   ],
   "source": [
    "len([\n",
    "    m for m in matches \n",
    "    if m['radiant_name'] == 'Team Spirit'\n",
    "])"
   ]
  },
  {
   "cell_type": "code",
   "execution_count": null,
   "id": "38e05c5a-a721-4621-a724-87376e3e0f34",
   "metadata": {},
   "outputs": [],
   "source": []
  },
  {
   "cell_type": "code",
   "execution_count": 63,
   "id": "8c0dd8b9-c114-4b18-9c5e-cd3a0165f1e3",
   "metadata": {},
   "outputs": [],
   "source": [
    "from search import get_distilbert_hidden_state, load_text_model, get_text_embeddings, search\n",
    "\n",
    "hidden_states = get_distilbert_hidden_state([\n",
    "    'Hello, World!',\n",
    "    'Calm down and drink some vodka',\n",
    "])\n"
   ]
  },
  {
   "cell_type": "code",
   "execution_count": 51,
   "id": "d33d9bc8-b111-4f5e-a4c6-7d42024eb806",
   "metadata": {},
   "outputs": [
    {
     "data": {
      "text/plain": [
       "torch.Tensor"
      ]
     },
     "execution_count": 51,
     "metadata": {},
     "output_type": "execute_result"
    }
   ],
   "source": [
    "type(hidden_states)"
   ]
  },
  {
   "cell_type": "code",
   "execution_count": 52,
   "id": "95a63104-edc0-43fd-9d52-6a660ca660e9",
   "metadata": {},
   "outputs": [
    {
     "data": {
      "text/plain": [
       "torch.Size([2, 8, 768])"
      ]
     },
     "execution_count": 52,
     "metadata": {},
     "output_type": "execute_result"
    }
   ],
   "source": [
    "hidden_states.shape"
   ]
  },
  {
   "cell_type": "code",
   "execution_count": 47,
   "id": "af7593cc-b36c-4665-a2d5-cb8df632a6f5",
   "metadata": {},
   "outputs": [],
   "source": [
    "tokenizer, _ = load_text_model()"
   ]
  },
  {
   "cell_type": "code",
   "execution_count": 49,
   "id": "8aa75850-f910-4764-bc12-a87388a79189",
   "metadata": {},
   "outputs": [
    {
     "data": {
      "text/plain": [
       "{'input_ids': [[101, 7592, 1010, 2088, 999, 102]], 'attention_mask': [[1, 1, 1, 1, 1, 1]]}"
      ]
     },
     "execution_count": 49,
     "metadata": {},
     "output_type": "execute_result"
    }
   ],
   "source": [
    "tokenizer(['Hello, World!'])"
   ]
  },
  {
   "cell_type": "code",
   "execution_count": 54,
   "id": "7f97b47e-89f4-4cef-8978-196e4894e0c1",
   "metadata": {},
   "outputs": [
    {
     "data": {
      "text/plain": [
       "13"
      ]
     },
     "execution_count": 54,
     "metadata": {},
     "output_type": "execute_result"
    }
   ],
   "source": [
    "len('Hello, World!')"
   ]
  },
  {
   "cell_type": "code",
   "execution_count": 61,
   "id": "a47a4951-85f9-474a-b8b9-e58b2e9ba1a1",
   "metadata": {},
   "outputs": [],
   "source": [
    "embeddings = get_text_embeddings([\n",
    "    'Hello, World!',\n",
    "    'Calm down and drink some vodka',\n",
    "])"
   ]
  },
  {
   "cell_type": "code",
   "execution_count": 62,
   "id": "1b4fa934-d4c4-4358-b75f-bfbcd8fe80cc",
   "metadata": {},
   "outputs": [
    {
     "data": {
      "text/plain": [
       "torch.Size([2, 768])"
      ]
     },
     "execution_count": 62,
     "metadata": {},
     "output_type": "execute_result"
    }
   ],
   "source": [
    "embeddings.shape"
   ]
  },
  {
   "cell_type": "code",
   "execution_count": 103,
   "id": "c46716d1-7429-42b9-aa1d-7c39834cfa47",
   "metadata": {},
   "outputs": [
    {
     "data": {
      "text/plain": [
       "[(0, 'Hello, World!'),\n",
       " (2, 'Lena Golovach'),\n",
       " (1, 'Calm down and drink some vodka')]"
      ]
     },
     "execution_count": 103,
     "metadata": {},
     "output_type": "execute_result"
    }
   ],
   "source": [
    "search(\n",
    "    'Hello, Lena!', \n",
    "    [\n",
    "        'Hello, World!',\n",
    "        'Calm down and drink some vodka',\n",
    "        'Lena Golovach',\n",
    "    ]\n",
    ")"
   ]
  },
  {
   "cell_type": "code",
   "execution_count": 93,
   "id": "8ed37492-ee22-47c3-a91f-d7db0ddb232f",
   "metadata": {},
   "outputs": [],
   "source": [
    "corpus = [\n",
    "    f\"{m['radiant_tag']} vs {m['dire_name']}\"\n",
    "    for m in matches\n",
    "]"
   ]
  },
  {
   "cell_type": "code",
   "execution_count": 94,
   "id": "716bede6-3f76-489f-b888-3925b6d0cb68",
   "metadata": {},
   "outputs": [
    {
     "data": {
      "text/plain": [
       "'SECRET vs TEAM SPIRIT - RAMPAGE! SEMI FINAL - RIYADH MASTERS 2022 Dota 2 Highlights'"
      ]
     },
     "execution_count": 94,
     "metadata": {},
     "output_type": "execute_result"
    }
   ],
   "source": [
    "title = metadata['fulltitle']\n",
    "title"
   ]
  },
  {
   "cell_type": "code",
   "execution_count": 96,
   "id": "0d2cf960-3484-4c97-8eff-caf39e016e6d",
   "metadata": {},
   "outputs": [
    {
     "data": {
      "text/plain": [
       "[(7, 'PSG.LGD vs Team Spirit'),\n",
       " (101, 'KBU.US vs Mad Kings Esports'),\n",
       " (96, 'KBU.US vs Mad Kings Esports'),\n",
       " (163, 'Xerxia vs Crayon Shin-chan'),\n",
       " (208, 'PSG.LGD vs Tundra Esports'),\n",
       " (245, 'Tsunami vs Crayon Shin-chan'),\n",
       " (86, 'Hokori vs Wildcard Gaming'),\n",
       " (177, 'OT.BBH vs Neon Esports'),\n",
       " (133, 'Al-Esports vs Pavaga Gaming'),\n",
       " (239, 'DG vs Atomic Esports'),\n",
       " (231, 'Hh vs Wiser Warriors'),\n",
       " (189, 'RG vs Polaris Esports'),\n",
       " (55, 'NINFAW vs Shinigami Gaming'),\n",
       " (175, 'NINFAW vs Shinigami Gaming'),\n",
       " (13, 'Nemiga vs Hot Headed Gaming'),\n",
       " (20, 'Nemiga vs Hot Headed Gaming'),\n",
       " (174, 'RG vs Team Flamingos'),\n",
       " (8, 'RG vs Team Flamingos'),\n",
       " (14, 'RG vs Team Flamingos'),\n",
       " (50, 'OT.BBH vs Team Tsunami'),\n",
       " (22, 'Secret vs Team Spirit'),\n",
       " (207, 'Secret vs Team Spirit'),\n",
       " (204, 'Secret vs Team Spirit'),\n",
       " (18, 'Secret vs Team Spirit'),\n",
       " (206, 'Eternity vs Mad Kings Esports'),\n",
       " (159, 'Tsunami vs Yangon Galacticos'),\n",
       " (274, 'Eminence vs 5RATFORCESTAFF'),\n",
       " (152, 'BuFi vs 11Monkeyz'),\n",
       " (144, 'BuFi vs 11Monkeyz'),\n",
       " (114, 'RTL vs DGG Esports'),\n",
       " (72, 'RG vs DEEP RAVAGE'),\n",
       " (36, 'PB vs FiliMonka Fighters'),\n",
       " (58, 'TSX vs DEEP RAVAGE'),\n",
       " (237, 'Atomic vs Dota Geniuses'),\n",
       " (243, 'lg vs Neon Esports'),\n",
       " (249, 'lg vs Neon Esports'),\n",
       " (26, 'TSpirit vs Team Secret'),\n",
       " (65, 'TF vs DEEP RAVAGE'),\n",
       " (100, 'LUNA vs goonsquad'),\n",
       " (63, 'DR vs Team Flamingos'),\n",
       " (171, 'KB vs Team Saiyan'),\n",
       " (202, 'SAMBA vs Dreamers Esports'),\n",
       " (201, 'SAMBA vs Dreamers Esports'),\n",
       " (130, '1KMRG vs Steel Phoenix'),\n",
       " (156, 'Polaris vs TEAM M11'),\n",
       " (150, 'M11 vs Polaris Esports'),\n",
       " (105, 'TSX vs Team Flamingos'),\n",
       " (128, 'TSX vs Team Flamingos'),\n",
       " (82, 'Dog vs Mad Kings Esports'),\n",
       " (225, 'Tundra vs Team Spirit'),\n",
       " (217, 'PPARNI vs V-Gaming Reborn'),\n",
       " (143, 'NINFAW vs Team Sphinx'),\n",
       " (141, 'PSG.LGD vs Nigma Galaxy'),\n",
       " (158, 'TF vs Shinigami Gaming'),\n",
       " (256, 'Xerxia vs Yangon Galacticos'),\n",
       " (263, 'Summit vs Team Saiyan'),\n",
       " (268, 'Summit vs Team Saiyan'),\n",
       " (15, 'NINFAW vs Celestials'),\n",
       " (248, 'RG vs Army Geniuses'),\n",
       " (115, 'GoM vs Rune Eaters'),\n",
       " (99, 'F1 vs DGG Esports'),\n",
       " (212, 'V-Gaming R vs Pari Parni'),\n",
       " (209, 'V-Gaming R vs Pari Parni'),\n",
       " (255, 'EYE vs DEEP RAVAGE'),\n",
       " (122, 'Illyrians vs Nemiga Gaming'),\n",
       " (94, 'LUNA vs Nemiga Gaming'),\n",
       " (139, 'TSX vs NINFAW'),\n",
       " (264, 'TSaiyin vs Summit Gaming'),\n",
       " (269, 'LBZS vs Yangon Galacticos'),\n",
       " (266, 'LBZS vs Yangon Galacticos'),\n",
       " (154, 'YG vs Team Tsunami'),\n",
       " (66, 'YG vs Red Flower'),\n",
       " (67, 'RG vs TEAM M11'),\n",
       " (46, 'Tsunami vs OT.BBH'),\n",
       " (220, 'EZ  vs Burning Fire'),\n",
       " (203, 'Tundra vs PSG.LGD'),\n",
       " (12, 'TF vs Raccoon Gangster'),\n",
       " (167, 'TF vs Raccoon Gangster'),\n",
       " (88, '5RF vs 5ManMidas'),\n",
       " (90, '5RF vs 5ManMidas'),\n",
       " (210, 'GG vs TRASHCAN'),\n",
       " (214, 'GG vs TRASHCAN'),\n",
       " (227, 'TSpirit vs Tundra Esports'),\n",
       " (162, 'Shin vs Team Flamingos'),\n",
       " (224, 'BuFi vs EZ KATKA'),\n",
       " (103, 'RNG vs Team Spirit'),\n",
       " (92, 'RNG vs Team Spirit'),\n",
       " (89, 'RNG vs Team Spirit'),\n",
       " (25, 'NINFAW vs Raccoon Gangster'),\n",
       " (21, 'NINFAW vs Raccoon Gangster'),\n",
       " (221, 'PLONE~ vs lightwaves'),\n",
       " (219, 'PLONE~ vs lightwaves'),\n",
       " (213, 'PLONE~ vs lightwaves'),\n",
       " (252, 'DR vs EYE-gaming'),\n",
       " (84, 'ECx vs buff anchovy'),\n",
       " (164, 'KIBA vs NINFAW'),\n",
       " (43, 'KIBA vs NINFAW'),\n",
       " (30, 'RG vs NINFAW'),\n",
       " (165, 'LBZS vs Mist Walker'),\n",
       " (157, 'NINFAW vs KIBA ARMS')]"
      ]
     },
     "execution_count": 96,
     "metadata": {},
     "output_type": "execute_result"
    }
   ],
   "source": [
    "search(title, corpus, top=100)"
   ]
  },
  {
   "cell_type": "code",
   "execution_count": 97,
   "id": "734e8ebc-a8ba-4ab5-bbbb-a0c0b985249a",
   "metadata": {},
   "outputs": [],
   "source": [
    "# corpus"
   ]
  },
  {
   "cell_type": "code",
   "execution_count": null,
   "id": "213508cb-b89e-4039-b93c-79feedfbf1ab",
   "metadata": {},
   "outputs": [],
   "source": []
  },
  {
   "cell_type": "code",
   "execution_count": null,
   "id": "49aa3325-651d-4e74-bcf2-0bad12ff08fa",
   "metadata": {},
   "outputs": [],
   "source": []
  },
  {
   "cell_type": "code",
   "execution_count": null,
   "id": "ad06204a-a85a-4158-95b7-b52a9a54e497",
   "metadata": {},
   "outputs": [],
   "source": []
  },
  {
   "cell_type": "code",
   "execution_count": null,
   "id": "4c98ca3b-0493-4ce7-85b5-f4f0eca6ca38",
   "metadata": {},
   "outputs": [],
   "source": [
    "search()"
   ]
  },
  {
   "cell_type": "code",
   "execution_count": null,
   "id": "51dd1837-fbfc-47f0-8e5c-192fbb472642",
   "metadata": {},
   "outputs": [],
   "source": []
  },
  {
   "cell_type": "code",
   "execution_count": null,
   "id": "7c5eeda0-89d1-4f9d-b013-2f075095b5ce",
   "metadata": {},
   "outputs": [],
   "source": []
  },
  {
   "cell_type": "code",
   "execution_count": null,
   "id": "c23a1914-0635-4f7d-aa28-f0894d365ccf",
   "metadata": {},
   "outputs": [],
   "source": []
  }
 ],
 "metadata": {
  "kernelspec": {
   "display_name": "Python 3 (ipykernel)",
   "language": "python",
   "name": "python3"
  },
  "language_info": {
   "codemirror_mode": {
    "name": "ipython",
    "version": 3
   },
   "file_extension": ".py",
   "mimetype": "text/x-python",
   "name": "python",
   "nbconvert_exporter": "python",
   "pygments_lexer": "ipython3",
   "version": "3.10.6"
  }
 },
 "nbformat": 4,
 "nbformat_minor": 5
}
