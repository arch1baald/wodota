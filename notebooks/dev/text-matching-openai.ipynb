{
 "cells": [
  {
   "cell_type": "code",
   "execution_count": 3,
   "id": "be368131-a8fe-43bc-b934-be4d7e642469",
   "metadata": {},
   "outputs": [],
   "source": [
    "import os\n",
    "import time\n",
    "\n",
    "import openai\n",
    "import pandas as pd\n",
    "import requests\n",
    "from dotenv import load_dotenv\n",
    "from openai.embeddings_utils import cosine_similarity\n",
    "from tqdm import tqdm\n",
    "\n",
    "load_dotenv()\n",
    "openai.api_key = os.environ['OPENAI_API_KEY']"
   ]
  },
  {
   "cell_type": "code",
   "execution_count": 4,
   "id": "5506c6e3-6130-487e-bb6c-b5f8101d02d3",
   "metadata": {},
   "outputs": [],
   "source": [
    "title = 'BOOM vs TALON - SEA QUALIFIER FINAL - ESL ONE MALAYSIA 2022 SEA QUALIFIERS Dota 2 Highlights'"
   ]
  },
  {
   "cell_type": "markdown",
   "id": "71a31850-1fc7-48ec-96bd-3a537fb2a1da",
   "metadata": {},
   "source": [
    "TournamentID не коррелирует с датой начала турнира"
   ]
  },
  {
   "cell_type": "code",
   "execution_count": 10,
   "id": "33861a1a-749d-45ba-b5be-656836b641d1",
   "metadata": {},
   "outputs": [
    {
     "data": {
      "text/plain": [
       "[{'leagueid': 65019,\n",
       "  'ticket': None,\n",
       "  'banner': None,\n",
       "  'tier': 'professional',\n",
       "  'name': 'BanglaGamer Dota 2 Championship'},\n",
       " {'leagueid': 65018,\n",
       "  'ticket': None,\n",
       "  'banner': None,\n",
       "  'tier': 'professional',\n",
       "  'name': 'GameLadders DOTA 2 League '},\n",
       " {'leagueid': 65017,\n",
       "  'ticket': 'econ/leagues/subscriptions_dreamchallenge',\n",
       "  'banner': 'econ/leagues/subscriptions_dreamchallenge_ingame',\n",
       "  'tier': None,\n",
       "  'name': 'Dota 2 Holiday Dream Challenge'},\n",
       " {'leagueid': 65016,\n",
       "  'ticket': 'econ/leagues/subscriptions_ixdlsealeague',\n",
       "  'banner': 'econ/leagues/subscriptions_ixdlsealeague_ingame',\n",
       "  'tier': None,\n",
       "  'name': 'IXDL Southeast Asian Invite League'},\n",
       " {'leagueid': 65015,\n",
       "  'ticket': 'econ/leagues/subscriptions_slcg',\n",
       "  'banner': 'econ/leagues/subscriptions_slcg_ingame',\n",
       "  'tier': None,\n",
       "  'name': 'Sri Lanka Cyber Games 2013'}]"
      ]
     },
     "execution_count": 10,
     "metadata": {},
     "output_type": "execute_result"
    }
   ],
   "source": [
    "r = requests.get('https://api.opendota.com/api/leagues')\n",
    "r.raise_for_status()\n",
    "all_tournaments = r.json()\n",
    "all_tournaments.sort(key=lambda dct: -dct['leagueid'])\n",
    "all_tournaments[:5]"
   ]
  },
  {
   "cell_type": "markdown",
   "id": "676a7528-69f0-4d00-b347-918e40ef6ca6",
   "metadata": {},
   "source": [
    "Teams"
   ]
  },
  {
   "cell_type": "code",
   "execution_count": 13,
   "id": "f63ca323-ab77-407e-9779-5a58c4655d92",
   "metadata": {},
   "outputs": [
    {
     "data": {
      "text/plain": [
       "[{'team_id': 8203841,\n",
       "  'rating': 1107.38,\n",
       "  'wins': 10,\n",
       "  'losses': 3,\n",
       "  'last_match_time': 1659278486,\n",
       "  'name': 'DestroyItems',\n",
       "  'tag': 'DI',\n",
       "  'logo_url': 'https://steamusercontent-a.akamaihd.net/ugc/1680367691784130566/110EDF7E5BDD7D305792871B1FC584B52A5794A8/'},\n",
       " {'team_id': 8469455,\n",
       "  'rating': 1182.68,\n",
       "  'wins': 937,\n",
       "  'losses': 374,\n",
       "  'last_match_time': 1659276451,\n",
       "  'name': 'DEEP RAVAGE',\n",
       "  'tag': 'DR',\n",
       "  'logo_url': 'https://steamusercontent-a.akamaihd.net/ugc/1707410463457648143/58CBD89C985483CDA068FA7A9CFDBA40A81FB245/'},\n",
       " {'team_id': 8750317,\n",
       "  'rating': 1176.45,\n",
       "  'wins': 88,\n",
       "  'losses': 56,\n",
       "  'last_match_time': 1659276451,\n",
       "  'name': 'Team Sphinx',\n",
       "  'tag': 'TSX',\n",
       "  'logo_url': 'https://steamusercontent-a.akamaihd.net/ugc/1861688906825321280/B904083AF403DC27F8DC18EA96E2406AEB64BFDA/'}]"
      ]
     },
     "execution_count": 13,
     "metadata": {},
     "output_type": "execute_result"
    }
   ],
   "source": [
    "r = requests.get('https://api.opendota.com/api/teams')\n",
    "r.raise_for_status()\n",
    "all_teams = r.json()\n",
    "all_teams.sort(key=lambda dct: -dct['last_match_time'])\n",
    "all_teams[:3]"
   ]
  },
  {
   "cell_type": "code",
   "execution_count": 19,
   "id": "2f1170d3-aab4-410a-bb00-afb66026f27c",
   "metadata": {},
   "outputs": [
    {
     "name": "stdout",
     "output_type": "stream",
     "text": [
      "{'team_id': 8597976, 'rating': 1396.52, 'wins': 81, 'losses': 30, 'last_match_time': 1658903414, 'name': 'Talon', 'tag': 'TLN', 'logo_url': 'https://steamusercontent-a.akamaihd.net/ugc/1818886756398782872/1DA3D79899C2200A5B0B9DF361BC278D572CE314/'}\n",
      "{'team_id': 7732977, 'rating': 1473.62, 'wins': 343, 'losses': 206, 'last_match_time': 1658826027, 'name': 'BOOM Esports', 'tag': 'BOOM', 'logo_url': 'https://steamusercontent-a.akamaihd.net/ugc/768365068750604173/EF3216F4B02A0DA2327AC3190A369349C7BF3A24/'}\n",
      "{'team_id': 6120499, 'rating': 1072.77, 'wins': 15, 'losses': 7, 'last_match_time': 1608472089, 'name': 'Flex', 'tag': 'F', 'logo_url': 'https://steamusercontent-a.akamaihd.net/ugc/970976016474225549/49E128B88EF90CC3A774AD65C2F180369805F773/'}\n",
      "{'team_id': 3785359, 'rating': 1152.17, 'wins': 159, 'losses': 134, 'last_match_time': 1581669735, 'name': 'BOOM ID', 'tag': 'BOOM', 'logo_url': 'https://steamusercontent-a.akamaihd.net/ugc/763846429146901501/E85EF58254E8BA84ED8A085512ECA0A6499499FE/'}\n",
      "{'team_id': 7586931, 'rating': 1151.11, 'wins': 14, 'losses': 3, 'last_match_time': 1580630315, 'name': 'Avengers', 'tag': 'A', 'logo_url': 'https://steamusercontent-a.akamaihd.net/ugc/779619985829101396/7AD3F16DB80CC0EB3D429F0B66A85F05D68DF6A7/'}\n",
      "{'team_id': 6355223, 'rating': 1131.65, 'wins': 14, 'losses': 2, 'last_match_time': 1546174383, 'name': 'MalaWarrior', 'tag': 'Mala', 'logo_url': 'https://steamusercontent-a.akamaihd.net/ugc/961974825774130210/8B8443D039374C666BC933E4821FFCBEDC321FC6/'}\n",
      "{'team_id': 4763262, 'rating': 1078.19, 'wins': 19, 'losses': 11, 'last_match_time': 1506582815, 'name': 'Lorem Ipsum', 'tag': 'Li', 'logo_url': 'https://steamusercontent-a.akamaihd.net/ugc/832455491809513021/1D9F3625A69DBA627515B06393A168B88F8508C5/'}\n",
      "{'team_id': 1827850, 'rating': 1094.82, 'wins': 8, 'losses': 2, 'last_match_time': 1440037676, 'name': 'Sua Empresa Aqui', 'tag': 'SEA', 'logo_url': 'https://steamusercontent-a.akamaihd.net/ugc/45354756275085575/A680FF2AC3774C8BA94732BD24FF902243A9BC13/'}\n",
      "{'team_id': 56962, 'rating': 1064.85, 'wins': 4, 'losses': 0, 'last_match_time': 1364113050, 'name': 'RaTtLeSnAkE', 'tag': 'RS', 'logo_url': 'https://steamusercontent-a.akamaihd.net/ugc/1081136488299919533/A4E5FE1424EA66C3D711A92947EC8D8B87DA6398/'}\n"
     ]
    }
   ],
   "source": [
    "for t in all_teams:\n",
    "    if (t['tag'] and t['tag'].upper() in title) or (t['name'] and t['name'].upper() in title):\n",
    "        print(t)"
   ]
  },
  {
   "cell_type": "code",
   "execution_count": null,
   "id": "9319d279-7149-4e42-8ee8-5b66a616d987",
   "metadata": {},
   "outputs": [],
   "source": []
  },
  {
   "cell_type": "code",
   "execution_count": null,
   "id": "e3e311b4-f00c-4a94-b90e-fc574d105a3c",
   "metadata": {},
   "outputs": [],
   "source": []
  },
  {
   "cell_type": "code",
   "execution_count": null,
   "id": "c42b6067-bc3a-4a66-b72e-579b5eb76357",
   "metadata": {},
   "outputs": [],
   "source": []
  },
  {
   "cell_type": "markdown",
   "id": "d9321fdd-d7ec-4d80-8021-3a27ed461e61",
   "metadata": {},
   "source": [
    "Последние матчи"
   ]
  },
  {
   "cell_type": "code",
   "execution_count": 5,
   "id": "e971be7f-661e-41a4-8765-c55e8e52e48a",
   "metadata": {},
   "outputs": [],
   "source": [
    "r = requests.get('https://api.opendota.com/api/proMatches')\n",
    "r.raise_for_status()\n",
    "matches = r.json()"
   ]
  },
  {
   "cell_type": "code",
   "execution_count": 13,
   "id": "cdeeb745-3505-4b60-a3ee-d2abbcc93155",
   "metadata": {},
   "outputs": [
    {
     "name": "stdout",
     "output_type": "stream",
     "text": [
      "Index(['match_id', 'duration', 'start_time', 'radiant_team_id', 'radiant_name',\n",
      "       'dire_team_id', 'dire_name', 'leagueid', 'league_name', 'series_id',\n",
      "       'series_type', 'radiant_score', 'dire_score', 'radiant_win'],\n",
      "      dtype='object')\n"
     ]
    },
    {
     "data": {
      "text/html": [
       "<div>\n",
       "<style scoped>\n",
       "    .dataframe tbody tr th:only-of-type {\n",
       "        vertical-align: middle;\n",
       "    }\n",
       "\n",
       "    .dataframe tbody tr th {\n",
       "        vertical-align: top;\n",
       "    }\n",
       "\n",
       "    .dataframe thead th {\n",
       "        text-align: right;\n",
       "    }\n",
       "</style>\n",
       "<table border=\"1\" class=\"dataframe\">\n",
       "  <thead>\n",
       "    <tr style=\"text-align: right;\">\n",
       "      <th></th>\n",
       "      <th>match_id</th>\n",
       "      <th>duration</th>\n",
       "      <th>start_time</th>\n",
       "      <th>radiant_team_id</th>\n",
       "      <th>radiant_name</th>\n",
       "      <th>dire_team_id</th>\n",
       "      <th>dire_name</th>\n",
       "      <th>leagueid</th>\n",
       "      <th>league_name</th>\n",
       "      <th>series_id</th>\n",
       "      <th>series_type</th>\n",
       "      <th>radiant_score</th>\n",
       "      <th>dire_score</th>\n",
       "      <th>radiant_win</th>\n",
       "    </tr>\n",
       "  </thead>\n",
       "  <tbody>\n",
       "    <tr>\n",
       "      <th>0</th>\n",
       "      <td>6685951110</td>\n",
       "      <td>739</td>\n",
       "      <td>1659260127</td>\n",
       "      <td>8741331</td>\n",
       "      <td>Atomic Esports</td>\n",
       "      <td>8757202</td>\n",
       "      <td>Dream Walker</td>\n",
       "      <td>14426</td>\n",
       "      <td>Victorious Cup</td>\n",
       "      <td>690764</td>\n",
       "      <td>0</td>\n",
       "      <td>19</td>\n",
       "      <td>4</td>\n",
       "      <td>True</td>\n",
       "    </tr>\n",
       "    <tr>\n",
       "      <th>1</th>\n",
       "      <td>6685948246</td>\n",
       "      <td>2129</td>\n",
       "      <td>1659259965</td>\n",
       "      <td>8538804</td>\n",
       "      <td>Atlantis</td>\n",
       "      <td>8750069</td>\n",
       "      <td>Gorilla</td>\n",
       "      <td>14323</td>\n",
       "      <td>Asian Tigers 3</td>\n",
       "      <td>690752</td>\n",
       "      <td>1</td>\n",
       "      <td>43</td>\n",
       "      <td>40</td>\n",
       "      <td>False</td>\n",
       "    </tr>\n",
       "    <tr>\n",
       "      <th>2</th>\n",
       "      <td>6685920449</td>\n",
       "      <td>2299</td>\n",
       "      <td>1659258706</td>\n",
       "      <td>8607589</td>\n",
       "      <td>EYE-gaming</td>\n",
       "      <td>8746180</td>\n",
       "      <td>NINFAW</td>\n",
       "      <td>14200</td>\n",
       "      <td>Ultras Dota Pro League</td>\n",
       "      <td>690759</td>\n",
       "      <td>1</td>\n",
       "      <td>28</td>\n",
       "      <td>39</td>\n",
       "      <td>False</td>\n",
       "    </tr>\n",
       "    <tr>\n",
       "      <th>3</th>\n",
       "      <td>6685919741</td>\n",
       "      <td>2143</td>\n",
       "      <td>1659258645</td>\n",
       "      <td>8765917</td>\n",
       "      <td>Shinigami Gaming</td>\n",
       "      <td>8469455</td>\n",
       "      <td>DEEP RAVAGE</td>\n",
       "      <td>14200</td>\n",
       "      <td>Ultras Dota Pro League</td>\n",
       "      <td>690758</td>\n",
       "      <td>1</td>\n",
       "      <td>27</td>\n",
       "      <td>40</td>\n",
       "      <td>False</td>\n",
       "    </tr>\n",
       "    <tr>\n",
       "      <th>4</th>\n",
       "      <td>6685893938</td>\n",
       "      <td>1414</td>\n",
       "      <td>1659257496</td>\n",
       "      <td>8750069</td>\n",
       "      <td>Gorilla</td>\n",
       "      <td>8538804</td>\n",
       "      <td>Atlantis</td>\n",
       "      <td>14323</td>\n",
       "      <td>Asian Tigers 3</td>\n",
       "      <td>690752</td>\n",
       "      <td>1</td>\n",
       "      <td>25</td>\n",
       "      <td>44</td>\n",
       "      <td>False</td>\n",
       "    </tr>\n",
       "  </tbody>\n",
       "</table>\n",
       "</div>"
      ],
      "text/plain": [
       "     match_id  duration  start_time  radiant_team_id      radiant_name  \\\n",
       "0  6685951110       739  1659260127          8741331    Atomic Esports   \n",
       "1  6685948246      2129  1659259965          8538804          Atlantis   \n",
       "2  6685920449      2299  1659258706          8607589        EYE-gaming   \n",
       "3  6685919741      2143  1659258645          8765917  Shinigami Gaming   \n",
       "4  6685893938      1414  1659257496          8750069           Gorilla   \n",
       "\n",
       "   dire_team_id     dire_name  leagueid              league_name  series_id  \\\n",
       "0       8757202  Dream Walker     14426           Victorious Cup     690764   \n",
       "1       8750069       Gorilla     14323           Asian Tigers 3     690752   \n",
       "2       8746180        NINFAW     14200  Ultras Dota Pro League      690759   \n",
       "3       8469455   DEEP RAVAGE     14200  Ultras Dota Pro League      690758   \n",
       "4       8538804      Atlantis     14323           Asian Tigers 3     690752   \n",
       "\n",
       "   series_type  radiant_score  dire_score  radiant_win  \n",
       "0            0             19           4         True  \n",
       "1            1             43          40        False  \n",
       "2            1             28          39        False  \n",
       "3            1             27          40        False  \n",
       "4            1             25          44        False  "
      ]
     },
     "execution_count": 13,
     "metadata": {},
     "output_type": "execute_result"
    }
   ],
   "source": [
    "df_matches = pd.DataFrame(matches)\n",
    "print(df_matches.columns)\n",
    "df_matches.head()"
   ]
  },
  {
   "cell_type": "code",
   "execution_count": 28,
   "id": "fe04f7e6-262c-4a09-a301-638f8e038fc2",
   "metadata": {},
   "outputs": [
    {
     "name": "stdout",
     "output_type": "stream",
     "text": [
      "['Victorious Cup' 'Asian Tigers 3' 'Ultras Dota Pro League '\n",
      " 'Khaz Modan Cup Series Season 3' 'Asia Battle Arena'\n",
      " 'Titus Colosseum Cup Season 2'\n",
      " 'ESL One Malaysia 2022 Qualifiers powered by Intel'\n",
      " 'TodayPay Dota2 Invitational Season 1' 'Thunderpick Bitcoin Series'\n",
      " 'European Pro League Season 2'\n",
      " 'Соревнования по электронным играм «Е-динство»' 'Destiny league']\n"
     ]
    }
   ],
   "source": [
    "tournaments = df_matches['league_name'].unique()\n",
    "print(tournaments)"
   ]
  },
  {
   "cell_type": "code",
   "execution_count": 29,
   "id": "7385b948-ee26-4ab4-b485-722e9bc20dcd",
   "metadata": {},
   "outputs": [],
   "source": [
    "tournament_embedding = dict()\n",
    "for t in tournaments:\n",
    "    embedding = openai.Embedding.create(\n",
    "        input=t,\n",
    "        engine='text-similarity-davinci-001'\n",
    "    )[\"data\"][0][\"embedding\"]\n",
    "    tournament_embedding[t] = embedding"
   ]
  },
  {
   "cell_type": "code",
   "execution_count": 36,
   "id": "29ce0c0c-60d0-4a2a-85c8-4ac5ed031932",
   "metadata": {},
   "outputs": [],
   "source": [
    "title_embedding = openai.Embedding.create(\n",
    "    input=title.replace(' Dota 2 Highlights', ''),\n",
    "    engine='text-similarity-davinci-001'\n",
    ")[\"data\"][0][\"embedding\"]"
   ]
  },
  {
   "cell_type": "code",
   "execution_count": 54,
   "id": "de8729e0-23fe-4ac4-baff-1a5b7aaef45f",
   "metadata": {},
   "outputs": [
    {
     "data": {
      "text/plain": [
       "[('ESL One Malaysia 2022 Qualifiers powered by Intel', 0.8548940563525276),\n",
       " ('TodayPay Dota2 Invitational Season 1', 0.8271779300503733),\n",
       " ('Titus Colosseum Cup Season 2', 0.7806075820901524),\n",
       " ('Соревнования по электронным играм «Е-динство»', 0.7760129689589339),\n",
       " ('Khaz Modan Cup Series Season 3', 0.7730935420368709),\n",
       " ('European Pro League Season 2', 0.7496516101333087),\n",
       " ('Asia Battle Arena', 0.7305723128544946),\n",
       " ('Ultras Dota Pro League ', 0.7278138448099676),\n",
       " ('Thunderpick Bitcoin Series', 0.7275276065108286),\n",
       " ('Destiny league', 0.6882182843531557),\n",
       " ('Asian Tigers 3', 0.6838774460409356),\n",
       " ('Victorious Cup', 0.6679672853426503)]"
      ]
     },
     "execution_count": 54,
     "metadata": {},
     "output_type": "execute_result"
    }
   ],
   "source": [
    "similarities = [\n",
    "    (t_name, cosine_similarity(title_embedding, t_emb))\n",
    "    for t_name, t_emb in tournament_embedding.items()\n",
    "]\n",
    "similarities.sort(key=lambda tpl: -tpl[1])\n",
    "similarities"
   ]
  },
  {
   "cell_type": "code",
   "execution_count": null,
   "id": "94b15cf5-4ec9-4f37-aa13-7a83cc20bba1",
   "metadata": {},
   "outputs": [],
   "source": []
  },
  {
   "cell_type": "code",
   "execution_count": null,
   "id": "89bca3e0-1426-4ec6-b67d-e8db14ba5ef5",
   "metadata": {},
   "outputs": [],
   "source": []
  },
  {
   "cell_type": "code",
   "execution_count": null,
   "id": "e9427463-8f7e-4fff-9db7-ec40fff5ab77",
   "metadata": {},
   "outputs": [],
   "source": []
  },
  {
   "cell_type": "code",
   "execution_count": 41,
   "id": "566b07af-83ec-4a42-bc51-73565509a27b",
   "metadata": {},
   "outputs": [
    {
     "data": {
      "text/plain": [
       "0      Atomic Esports vs Dream Walker\n",
       "1                 Atlantis vs Gorilla\n",
       "2                EYE-gaming vs NINFAW\n",
       "3     Shinigami Gaming vs DEEP RAVAGE\n",
       "4                 Gorilla vs Atlantis\n",
       "                   ...               \n",
       "95      Sworn Die vs Flawless Goblins\n",
       "96     Raccoon Gangster vs EYE-gaming\n",
       "97      Swift Knights vs Dragon Blood\n",
       "98                       LBZS vs wolf\n",
       "99     EYE-gaming vs Raccoon Gangster\n",
       "Length: 100, dtype: object"
      ]
     },
     "execution_count": 41,
     "metadata": {},
     "output_type": "execute_result"
    }
   ],
   "source": [
    "teams = df_matches['radiant_name'] + ' vs ' + df_matches['dire_name']\n",
    "teams"
   ]
  },
  {
   "cell_type": "code",
   "execution_count": 43,
   "id": "c1e8b059-aeff-43cb-a3fe-fc29bf87ee72",
   "metadata": {},
   "outputs": [
    {
     "data": {
      "text/plain": [
       "0       Atomic Esports vs Dream Walker - Victorious Cup\n",
       "1                  Atlantis vs Gorilla - Asian Tigers 3\n",
       "2        EYE-gaming vs NINFAW - Ultras Dota Pro League \n",
       "3     Shinigami Gaming vs DEEP RAVAGE - Ultras Dota ...\n",
       "4                  Gorilla vs Atlantis - Asian Tigers 3\n",
       "                            ...                        \n",
       "95       Sworn Die vs Flawless Goblins - Destiny league\n",
       "96    Raccoon Gangster vs EYE-gaming - Ultras Dota P...\n",
       "97       Swift Knights vs Dragon Blood - Destiny league\n",
       "98    LBZS vs wolf - ESL One Malaysia 2022 Qualifier...\n",
       "99    EYE-gaming vs Raccoon Gangster - Ultras Dota P...\n",
       "Length: 100, dtype: object"
      ]
     },
     "execution_count": 43,
     "metadata": {},
     "output_type": "execute_result"
    }
   ],
   "source": [
    "team_tournament = teams + ' - ' + df_matches['league_name']\n",
    "team_tournament"
   ]
  },
  {
   "cell_type": "code",
   "execution_count": 50,
   "id": "85edc96f-cae7-48be-a1d4-48989a7f455f",
   "metadata": {},
   "outputs": [],
   "source": [
    "team_tournament_embeddings = dict()\n",
    "for tt in tqdm(team_tournament):\n",
    "    embedding = openai.Embedding.create(\n",
    "        input=tt,\n",
    "        engine='text-similarity-davinci-001'\n",
    "    )[\"data\"][0][\"embedding\"]\n",
    "    team_tournament_embeddings[tt] = embedding\n",
    "    time.sleep(1.05)"
   ]
  },
  {
   "cell_type": "code",
   "execution_count": 53,
   "id": "456ca53a-dae8-413a-8dea-5300cd8d3423",
   "metadata": {},
   "outputs": [
    {
     "data": {
      "text/plain": [
       "[('BetBoom Team vs Gaimin Gladiators - ESL One Malaysia 2022 Qualifiers powered by Intel',\n",
       "  0.9286447179583041),\n",
       " ('Gaimin Gladiators vs BetBoom Team - ESL One Malaysia 2022 Qualifiers powered by Intel',\n",
       "  0.9274933955249376),\n",
       " ('BetBoom Team vs Entity - ESL One Malaysia 2022 Qualifiers powered by Intel',\n",
       "  0.9227010373633419),\n",
       " ('Entity vs BetBoom Team - ESL One Malaysia 2022 Qualifiers powered by Intel',\n",
       "  0.9209996207401326),\n",
       " ('LBZS vs Team Aster - ESL One Malaysia 2022 Qualifiers powered by Intel',\n",
       "  0.9191740334986453)]"
      ]
     },
     "execution_count": 53,
     "metadata": {},
     "output_type": "execute_result"
    }
   ],
   "source": [
    "similarities2 = [\n",
    "    (tt_name, cosine_similarity(title_embedding, tt_emb))\n",
    "    for tt_name, tt_emb in team_tournament_embeddings.items()\n",
    "]\n",
    "similarities2.sort(key=lambda tpl: -tpl[1])\n",
    "similarities2[:5]"
   ]
  },
  {
   "cell_type": "code",
   "execution_count": null,
   "id": "525b1ed8-508a-4675-ab55-a65ebb78acb1",
   "metadata": {},
   "outputs": [],
   "source": []
  }
 ],
 "metadata": {
  "kernelspec": {
   "display_name": "Python 3 (ipykernel)",
   "language": "python",
   "name": "python3"
  },
  "language_info": {
   "codemirror_mode": {
    "name": "ipython",
    "version": 3
   },
   "file_extension": ".py",
   "mimetype": "text/x-python",
   "name": "python",
   "nbconvert_exporter": "python",
   "pygments_lexer": "ipython3",
   "version": "3.9.5"
  }
 },
 "nbformat": 4,
 "nbformat_minor": 5
}
