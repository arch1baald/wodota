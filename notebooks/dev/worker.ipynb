{
 "cells": [
  {
   "cell_type": "markdown",
   "id": "a63cb639-c82d-4e8c-b544-c4b199c1792c",
   "metadata": {},
   "source": [
    "`cat urls.txt | while read f; do curl \"${f}\" -O; done;`"
   ]
  },
  {
   "cell_type": "code",
   "execution_count": 19,
   "id": "55fb54ff-280c-42a2-a8d3-bcfecd34ac88",
   "metadata": {},
   "outputs": [],
   "source": [
    "import time\n",
    "import requests\n",
    "import json\n",
    "import subprocess\n",
    "from bz2 import decompress\n",
    "from datetime import datetime"
   ]
  },
  {
   "cell_type": "code",
   "execution_count": 2,
   "id": "a1827d07-a779-4e66-95da-455e42af80bb",
   "metadata": {},
   "outputs": [
    {
     "name": "stdout",
     "output_type": "stream",
     "text": [
      "54\n",
      "['http://replay191.valve.net/570/6216665747_89886887.dem.bz2', 'http://replay192.valve.net/570/6215346651_640559417.dem.bz2', 'http://replay191.valve.net/570/6216545156_471262816.dem.bz2']\n"
     ]
    }
   ],
   "source": [
    "urls = []\n",
    "with open('../replays/urls.txt', 'r') as fin:\n",
    "    for line in fin.readlines():\n",
    "        urls.append(line.replace('\\n', ''))\n",
    "print(len(urls))\n",
    "print(urls[:3])"
   ]
  },
  {
   "cell_type": "code",
   "execution_count": 3,
   "id": "79c5f5cc-e5ea-4205-b9e4-02e3efb6a3a1",
   "metadata": {},
   "outputs": [],
   "source": [
    "def download(url):\n",
    "    r = requests.get(url)\n",
    "    r.raise_for_status()\n",
    "    compressed_dem = r.content\n",
    "    dem = decompress(compressed_dem)\n",
    "    return dem"
   ]
  },
  {
   "cell_type": "code",
   "execution_count": 4,
   "id": "33f89885-2cbe-49e6-8d23-6be105989ef5",
   "metadata": {},
   "outputs": [],
   "source": [
    "def download_save(url):\n",
    "    right = url.split('/')[-1]\n",
    "    match_salt = right.replace('dem.bz2', '')\n",
    "    file_name = match_salt.split('_')[0]\n",
    "    file_name += '.dem'\n",
    "    \n",
    "    dem = download(url)\n",
    "    path = f'../replays/{file_name}'\n",
    "    with open(path, 'wb') as fout:\n",
    "        fout.write(dem)\n",
    "    return path"
   ]
  },
  {
   "cell_type": "code",
   "execution_count": 5,
   "id": "d42cee17-1c61-426b-97fc-87ff86c13d6b",
   "metadata": {},
   "outputs": [],
   "source": [
    "def download_parse_save(url):\n",
    "    dem_path = download_save(url)\n",
    "    jsonlines_path = dem_path.replace('.dem', '.jsonlines')\n",
    "    cmd = f'curl localhost:5600 --data-binary \"@{dem_path}\" > {jsonlines_path}'\n",
    "    subprocess.run(cmd, shell=True)\n",
    "    return jsonlines_path"
   ]
  },
  {
   "cell_type": "code",
   "execution_count": 22,
   "id": "5ce95d66-862a-4569-ae77-4bfffcbfe1bb",
   "metadata": {},
   "outputs": [
    {
     "name": "stdout",
     "output_type": "stream",
     "text": [
      "http://replay191.valve.net/570/6216665747_89886887.dem.bz2 2022-06-20 13:50:39\n"
     ]
    },
    {
     "name": "stderr",
     "output_type": "stream",
     "text": [
      "  % Total    % Received % Xferd  Average Speed   Time    Time     Time  Current\n",
      "                                 Dload  Upload   Total   Spent    Left  Speed\n",
      " 89  156M    0 24.5M   87  115M  7328k  33.6M  0:00:03  0:00:03 --:--:-- 40.8M"
     ]
    },
    {
     "name": "stdout",
     "output_type": "stream",
     "text": [
      "../replays/6216665747.jsonlines 14.041280269622803\n"
     ]
    },
    {
     "name": "stderr",
     "output_type": "stream",
     "text": [
      "100  163M    0 31.5M  100  132M  7545k  30.8M  0:00:04  0:00:04 --:--:-- 38.1M\n"
     ]
    }
   ],
   "source": [
    "for url in urls:\n",
    "    started_at = time.time()\n",
    "    print(url, str(datetime.now())[:19])\n",
    "    parsed_path = download_parse_save(url)\n",
    "    print(parsed_path, time.time() - started_at)\n",
    "    break"
   ]
  },
  {
   "cell_type": "code",
   "execution_count": null,
   "id": "45472e5f-8f22-4598-946b-251d65c6c937",
   "metadata": {},
   "outputs": [],
   "source": []
  }
 ],
 "metadata": {
  "kernelspec": {
   "display_name": "Python 3 (ipykernel)",
   "language": "python",
   "name": "python3"
  },
  "language_info": {
   "codemirror_mode": {
    "name": "ipython",
    "version": 3
   },
   "file_extension": ".py",
   "mimetype": "text/x-python",
   "name": "python",
   "nbconvert_exporter": "python",
   "pygments_lexer": "ipython3",
   "version": "3.9.5"
  }
 },
 "nbformat": 4,
 "nbformat_minor": 5
}
