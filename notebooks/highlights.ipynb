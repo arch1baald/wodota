{
 "cells": [
  {
   "cell_type": "code",
   "execution_count": 30,
   "id": "23ce7523-3151-4835-9cd9-1bdc5d22b77a",
   "metadata": {},
   "outputs": [
    {
     "name": "stdout",
     "output_type": "stream",
     "text": [
      "The autoreload extension is already loaded. To reload it, use:\n",
      "  %reload_ext autoreload\n"
     ]
    }
   ],
   "source": [
    "%load_ext autoreload\n",
    "%autoreload 2\n",
    "\n",
    "import os\n",
    "import sys\n",
    "import json\n",
    "from pathlib import Path\n",
    "\n",
    "import requests\n",
    "import numpy as np\n",
    "import pandas as pd\n",
    "import matplotlib.pyplot as plt\n",
    "\n",
    "sys.path.append('../src')\n",
    "from settings import REPLAY_DIR, YOUTUBE_DIR, TIMESTAMPS_DIR\n",
    "from youtube import convert_to_timestamp\n",
    "from dota import Match\n",
    "from highlights import find_hp_decreasing_intervals, find_low_hp_intervals, find_low_and_decreasing_hp_intervals\n",
    "\n",
    "pd.options.display.max_columns = 60"
   ]
  },
  {
   "cell_type": "code",
   "execution_count": 2,
   "id": "6eb3dcb5-683b-4ca3-9eb3-8fbe75eea6e0",
   "metadata": {},
   "outputs": [
    {
     "data": {
      "text/plain": [
       "Match: 6676393091, parsed: True"
      ]
     },
     "execution_count": 2,
     "metadata": {},
     "output_type": "execute_result"
    }
   ],
   "source": [
    "match = Match(6676393091, Path(REPLAY_DIR) / '6676393091.jsonlines')\n",
    "match._parse_events()\n",
    "match"
   ]
  },
  {
   "cell_type": "code",
   "execution_count": 3,
   "id": "e12f1146-4b17-4803-922b-15b3c6663903",
   "metadata": {},
   "outputs": [
    {
     "data": {
      "text/plain": [
       "MatchPlayer at match: 6676393091, slot: 1, hero_name: npc_dota_hero_pangolier, steam_id: 76561198134243802"
      ]
     },
     "execution_count": 3,
     "metadata": {},
     "output_type": "execute_result"
    }
   ],
   "source": [
    "player = match.players[1]\n",
    "player"
   ]
  },
  {
   "cell_type": "code",
   "execution_count": 4,
   "id": "1f287033-7672-40be-aa7a-456364323c89",
   "metadata": {},
   "outputs": [
    {
     "data": {
      "text/plain": [
       "-89       580\n",
       "-88       580\n",
       "-87       580\n",
       "-86       580\n",
       "-85       580\n",
       "         ... \n",
       " 2076    2413\n",
       " 2077    2430\n",
       " 2078    2515\n",
       " 2079    2512\n",
       " 2080    2490\n",
       "Name: hp, Length: 2170, dtype: int64"
      ]
     },
     "execution_count": 4,
     "metadata": {},
     "output_type": "execute_result"
    }
   ],
   "source": [
    "player.hp"
   ]
  },
  {
   "cell_type": "code",
   "execution_count": 5,
   "id": "53f66c4b-5cbb-4568-8438-54953dedce29",
   "metadata": {},
   "outputs": [
    {
     "data": {
      "text/plain": [
       "900    1250\n",
       "901    1250\n",
       "902    1238\n",
       "903    1239\n",
       "904    1278\n",
       "       ... \n",
       "956    1290\n",
       "957    1290\n",
       "958    1290\n",
       "959    1258\n",
       "960    1138\n",
       "Name: hp, Length: 61, dtype: int64"
      ]
     },
     "execution_count": 5,
     "metadata": {},
     "output_type": "execute_result"
    }
   ],
   "source": [
    "player.hp.t(15 * 60, 16 * 60)"
   ]
  },
  {
   "cell_type": "code",
   "execution_count": 6,
   "id": "9af4b88f-aa1d-4cc0-969e-78a27cb86d59",
   "metadata": {},
   "outputs": [
    {
     "data": {
      "text/plain": [
       "[<matplotlib.lines.Line2D at 0x28ac149d0>]"
      ]
     },
     "execution_count": 6,
     "metadata": {},
     "output_type": "execute_result"
    },
    {
     "data": {
      "image/png": "[encoded data removed]",
      "text/plain": [
       "<Figure size 432x288 with 1 Axes>"
      ]
     },
     "metadata": {
      "needs_background": "light"
     },
     "output_type": "display_data"
    }
   ],
   "source": [
    "plt.plot(player.hp.index / 60, player.hp)"
   ]
  },
  {
   "cell_type": "markdown",
   "id": "b6a92d0d-3abb-4b35-981b-a422199ece5a",
   "metadata": {},
   "source": [
    "## Deaths"
   ]
  },
  {
   "cell_type": "code",
   "execution_count": 7,
   "id": "2250bb38-c1d5-4852-82dc-a910e951f864",
   "metadata": {},
   "outputs": [
    {
     "data": {
      "text/html": [
       "<div>\n",
       "<style scoped>\n",
       "    .dataframe tbody tr th:only-of-type {\n",
       "        vertical-align: middle;\n",
       "    }\n",
       "\n",
       "    .dataframe tbody tr th {\n",
       "        vertical-align: top;\n",
       "    }\n",
       "\n",
       "    .dataframe thead th {\n",
       "        text-align: right;\n",
       "    }\n",
       "</style>\n",
       "<table border=\"1\" class=\"dataframe\">\n",
       "  <thead>\n",
       "    <tr style=\"text-align: right;\">\n",
       "      <th></th>\n",
       "      <th>time</th>\n",
       "      <th>type</th>\n",
       "      <th>value</th>\n",
       "      <th>attackername</th>\n",
       "      <th>targetname</th>\n",
       "      <th>sourcename</th>\n",
       "      <th>targetsourcename</th>\n",
       "      <th>attackerhero</th>\n",
       "      <th>targethero</th>\n",
       "      <th>attackerillusion</th>\n",
       "      <th>targetillusion</th>\n",
       "      <th>inflictor</th>\n",
       "    </tr>\n",
       "  </thead>\n",
       "  <tbody>\n",
       "    <tr>\n",
       "      <th>0</th>\n",
       "      <td>487</td>\n",
       "      <td>DOTA_COMBATLOG_DEATH</td>\n",
       "      <td>131</td>\n",
       "      <td>npc_dota_hero_ember_spirit</td>\n",
       "      <td>npc_dota_hero_pangolier</td>\n",
       "      <td>npc_dota_hero_ember_spirit</td>\n",
       "      <td>npc_dota_hero_pangolier</td>\n",
       "      <td>True</td>\n",
       "      <td>True</td>\n",
       "      <td>False</td>\n",
       "      <td>False</td>\n",
       "      <td>dota_unknown</td>\n",
       "    </tr>\n",
       "    <tr>\n",
       "      <th>1</th>\n",
       "      <td>1263</td>\n",
       "      <td>DOTA_COMBATLOG_DEATH</td>\n",
       "      <td>22</td>\n",
       "      <td>npc_dota_hero_skywrath_mage</td>\n",
       "      <td>npc_dota_hero_pangolier</td>\n",
       "      <td>npc_dota_hero_skywrath_mage</td>\n",
       "      <td>npc_dota_hero_pangolier</td>\n",
       "      <td>True</td>\n",
       "      <td>True</td>\n",
       "      <td>False</td>\n",
       "      <td>False</td>\n",
       "      <td>skywrath_mage_mystic_flare</td>\n",
       "    </tr>\n",
       "    <tr>\n",
       "      <th>2</th>\n",
       "      <td>1412</td>\n",
       "      <td>DOTA_COMBATLOG_DEATH</td>\n",
       "      <td>237</td>\n",
       "      <td>npc_dota_hero_luna</td>\n",
       "      <td>npc_dota_hero_pangolier</td>\n",
       "      <td>npc_dota_hero_luna</td>\n",
       "      <td>npc_dota_hero_pangolier</td>\n",
       "      <td>True</td>\n",
       "      <td>True</td>\n",
       "      <td>False</td>\n",
       "      <td>False</td>\n",
       "      <td>luna_lucent_beam</td>\n",
       "    </tr>\n",
       "  </tbody>\n",
       "</table>\n",
       "</div>"
      ],
      "text/plain": [
       "   time                  type  value                 attackername  \\\n",
       "0   487  DOTA_COMBATLOG_DEATH    131   npc_dota_hero_ember_spirit   \n",
       "1  1263  DOTA_COMBATLOG_DEATH     22  npc_dota_hero_skywrath_mage   \n",
       "2  1412  DOTA_COMBATLOG_DEATH    237           npc_dota_hero_luna   \n",
       "\n",
       "                targetname                   sourcename  \\\n",
       "0  npc_dota_hero_pangolier   npc_dota_hero_ember_spirit   \n",
       "1  npc_dota_hero_pangolier  npc_dota_hero_skywrath_mage   \n",
       "2  npc_dota_hero_pangolier           npc_dota_hero_luna   \n",
       "\n",
       "          targetsourcename  attackerhero  targethero  attackerillusion  \\\n",
       "0  npc_dota_hero_pangolier          True        True             False   \n",
       "1  npc_dota_hero_pangolier          True        True             False   \n",
       "2  npc_dota_hero_pangolier          True        True             False   \n",
       "\n",
       "   targetillusion                   inflictor  \n",
       "0           False                dota_unknown  \n",
       "1           False  skywrath_mage_mystic_flare  \n",
       "2           False            luna_lucent_beam  "
      ]
     },
     "execution_count": 7,
     "metadata": {},
     "output_type": "execute_result"
    }
   ],
   "source": [
    "player.deaths"
   ]
  },
  {
   "cell_type": "code",
   "execution_count": 8,
   "id": "e83e5136-9ade-41b1-b611-2646bd635e5f",
   "metadata": {},
   "outputs": [
    {
     "data": {
      "image/png": "[encoded data removed]",
      "text/plain": [
       "<Figure size 432x288 with 1 Axes>"
      ]
     },
     "metadata": {
      "needs_background": "light"
     },
     "output_type": "display_data"
    }
   ],
   "source": [
    "fig, ax = plt.subplots()\n",
    "ax.plot(player.hp.index / 60, player.hp)\n",
    "ax.scatter(x=player.deaths['time'] / 60, y=np.full(player.deaths.shape[0], 0), color='r', marker='v', s=100)\n",
    "plt.show()"
   ]
  },
  {
   "cell_type": "markdown",
   "id": "5cf328fa-dd43-442b-8edb-3c618116a6a2",
   "metadata": {},
   "source": [
    "## YouTube"
   ]
  },
  {
   "cell_type": "code",
   "execution_count": 9,
   "id": "17c9a93b-8f8c-44b7-873b-efe268be0a53",
   "metadata": {},
   "outputs": [
    {
     "data": {
      "text/html": [
       "<div>\n",
       "<style scoped>\n",
       "    .dataframe tbody tr th:only-of-type {\n",
       "        vertical-align: middle;\n",
       "    }\n",
       "\n",
       "    .dataframe tbody tr th {\n",
       "        vertical-align: top;\n",
       "    }\n",
       "\n",
       "    .dataframe thead th {\n",
       "        text-align: right;\n",
       "    }\n",
       "</style>\n",
       "<table border=\"1\" class=\"dataframe\">\n",
       "  <thead>\n",
       "    <tr style=\"text-align: right;\">\n",
       "      <th></th>\n",
       "      <th>video_id</th>\n",
       "      <th>cluster</th>\n",
       "      <th>start</th>\n",
       "      <th>end</th>\n",
       "      <th>start_time</th>\n",
       "      <th>end_time</th>\n",
       "    </tr>\n",
       "  </thead>\n",
       "  <tbody>\n",
       "    <tr>\n",
       "      <th>0</th>\n",
       "      <td>XTngObUROMo</td>\n",
       "      <td>0</td>\n",
       "      <td>00:19</td>\n",
       "      <td>00:02</td>\n",
       "      <td>19</td>\n",
       "      <td>2</td>\n",
       "    </tr>\n",
       "    <tr>\n",
       "      <th>1</th>\n",
       "      <td>XTngObUROMo</td>\n",
       "      <td>1</td>\n",
       "      <td>01:00</td>\n",
       "      <td>01:19</td>\n",
       "      <td>60</td>\n",
       "      <td>79</td>\n",
       "    </tr>\n",
       "    <tr>\n",
       "      <th>2</th>\n",
       "      <td>XTngObUROMo</td>\n",
       "      <td>2</td>\n",
       "      <td>02:38</td>\n",
       "      <td>03:14</td>\n",
       "      <td>158</td>\n",
       "      <td>194</td>\n",
       "    </tr>\n",
       "    <tr>\n",
       "      <th>3</th>\n",
       "      <td>XTngObUROMo</td>\n",
       "      <td>3</td>\n",
       "      <td>04:30</td>\n",
       "      <td>05:35</td>\n",
       "      <td>270</td>\n",
       "      <td>335</td>\n",
       "    </tr>\n",
       "    <tr>\n",
       "      <th>4</th>\n",
       "      <td>XTngObUROMo</td>\n",
       "      <td>4</td>\n",
       "      <td>14:19</td>\n",
       "      <td>14:56</td>\n",
       "      <td>859</td>\n",
       "      <td>896</td>\n",
       "    </tr>\n",
       "    <tr>\n",
       "      <th>5</th>\n",
       "      <td>XTngObUROMo</td>\n",
       "      <td>5</td>\n",
       "      <td>15:53</td>\n",
       "      <td>16:13</td>\n",
       "      <td>953</td>\n",
       "      <td>973</td>\n",
       "    </tr>\n",
       "    <tr>\n",
       "      <th>6</th>\n",
       "      <td>XTngObUROMo</td>\n",
       "      <td>6</td>\n",
       "      <td>18:06</td>\n",
       "      <td>18:13</td>\n",
       "      <td>1086</td>\n",
       "      <td>1093</td>\n",
       "    </tr>\n",
       "    <tr>\n",
       "      <th>7</th>\n",
       "      <td>XTngObUROMo</td>\n",
       "      <td>7</td>\n",
       "      <td>18:47</td>\n",
       "      <td>18:56</td>\n",
       "      <td>1127</td>\n",
       "      <td>1136</td>\n",
       "    </tr>\n",
       "    <tr>\n",
       "      <th>8</th>\n",
       "      <td>XTngObUROMo</td>\n",
       "      <td>8</td>\n",
       "      <td>21:11</td>\n",
       "      <td>21:47</td>\n",
       "      <td>1271</td>\n",
       "      <td>1307</td>\n",
       "    </tr>\n",
       "    <tr>\n",
       "      <th>9</th>\n",
       "      <td>XTngObUROMo</td>\n",
       "      <td>9</td>\n",
       "      <td>22:34</td>\n",
       "      <td>24:25</td>\n",
       "      <td>1354</td>\n",
       "      <td>1465</td>\n",
       "    </tr>\n",
       "    <tr>\n",
       "      <th>10</th>\n",
       "      <td>XTngObUROMo</td>\n",
       "      <td>10</td>\n",
       "      <td>25:52</td>\n",
       "      <td>26:36</td>\n",
       "      <td>1552</td>\n",
       "      <td>1596</td>\n",
       "    </tr>\n",
       "    <tr>\n",
       "      <th>11</th>\n",
       "      <td>XTngObUROMo</td>\n",
       "      <td>11</td>\n",
       "      <td>27:26</td>\n",
       "      <td>27:59</td>\n",
       "      <td>1646</td>\n",
       "      <td>1679</td>\n",
       "    </tr>\n",
       "    <tr>\n",
       "      <th>12</th>\n",
       "      <td>XTngObUROMo</td>\n",
       "      <td>12</td>\n",
       "      <td>28:12</td>\n",
       "      <td>30:24</td>\n",
       "      <td>1692</td>\n",
       "      <td>1824</td>\n",
       "    </tr>\n",
       "  </tbody>\n",
       "</table>\n",
       "</div>"
      ],
      "text/plain": [
       "       video_id  cluster  start    end  start_time  end_time\n",
       "0   XTngObUROMo        0  00:19  00:02          19         2\n",
       "1   XTngObUROMo        1  01:00  01:19          60        79\n",
       "2   XTngObUROMo        2  02:38  03:14         158       194\n",
       "3   XTngObUROMo        3  04:30  05:35         270       335\n",
       "4   XTngObUROMo        4  14:19  14:56         859       896\n",
       "5   XTngObUROMo        5  15:53  16:13         953       973\n",
       "6   XTngObUROMo        6  18:06  18:13        1086      1093\n",
       "7   XTngObUROMo        7  18:47  18:56        1127      1136\n",
       "8   XTngObUROMo        8  21:11  21:47        1271      1307\n",
       "9   XTngObUROMo        9  22:34  24:25        1354      1465\n",
       "10  XTngObUROMo       10  25:52  26:36        1552      1596\n",
       "11  XTngObUROMo       11  27:26  27:59        1646      1679\n",
       "12  XTngObUROMo       12  28:12  30:24        1692      1824"
      ]
     },
     "execution_count": 9,
     "metadata": {},
     "output_type": "execute_result"
    }
   ],
   "source": [
    "df_youtube = pd.read_csv(YOUTUBE_DIR / 'XTngObUROMo.csv')\n",
    "df_youtube"
   ]
  },
  {
   "cell_type": "code",
   "execution_count": 10,
   "id": "370c7031-ff17-48ab-8ffe-f7fe74bc35db",
   "metadata": {},
   "outputs": [
    {
     "data": {
      "image/png": "[encoded data removed]",
      "text/plain": [
       "<Figure size 432x288 with 1 Axes>"
      ]
     },
     "metadata": {
      "needs_background": "light"
     },
     "output_type": "display_data"
    }
   ],
   "source": [
    "fig, ax = plt.subplots()\n",
    "ax.plot(player.hp.index / 60, player.hp)\n",
    "ax.scatter(x=player.deaths['time'] / 60, y=np.full(player.deaths.shape[0], 0), color='r', marker='v', s=100)\n",
    "ax.scatter(x=df_youtube['start_time'] / 60, y=np.full(df_youtube.shape[0], 0), color='g', marker='$[$', s=100)\n",
    "ax.scatter(x=df_youtube['end_time'] / 60, y=np.full(df_youtube.shape[0], 0), color='g', marker='$]$', s=100)\n",
    "plt.show()"
   ]
  },
  {
   "cell_type": "markdown",
   "id": "880dc938-385d-4a6c-abe0-ceb682ad3e9f",
   "metadata": {},
   "source": [
    "## Remove trend"
   ]
  },
  {
   "cell_type": "code",
   "execution_count": 11,
   "id": "c0a91677-5e97-4cd2-b4d7-863b66ff5e4c",
   "metadata": {},
   "outputs": [
    {
     "data": {
      "image/png": "[encoded data removed]",
      "text/plain": [
       "<Figure size 432x288 with 1 Axes>"
      ]
     },
     "metadata": {
      "needs_background": "light"
     },
     "output_type": "display_data"
    }
   ],
   "source": [
    "fig, ax = plt.subplots()\n",
    "# ax.plot(player.hp.index / 60, player.hp)\n",
    "ax.plot(player.dhp.index / 60, player.dhp)\n",
    "ax.scatter(x=player.deaths['time'] / 60, y=np.full(player.deaths.shape[0], -500), color='r', marker='v', s=100)\n",
    "ax.scatter(x=df_youtube['start_time'] / 60, y=np.full(df_youtube.shape[0], -500), color='g', marker='$[$', s=100)\n",
    "ax.scatter(x=df_youtube['end_time'] / 60, y=np.full(df_youtube.shape[0], -500), color='g', marker='$]$', s=100)\n",
    "plt.show()"
   ]
  },
  {
   "cell_type": "markdown",
   "id": "b4947884-8dbf-4b6f-bda6-fa88d9e78da7",
   "metadata": {},
   "source": [
    "## Zoom"
   ]
  },
  {
   "cell_type": "code",
   "execution_count": 12,
   "id": "c19fd496-b2c9-4e25-80db-210d81ddffcf",
   "metadata": {},
   "outputs": [],
   "source": [
    "# 11:09 - 11:30"
   ]
  },
  {
   "cell_type": "code",
   "execution_count": 13,
   "id": "3f149e7b-374d-4b2b-bfc5-2b7c53e23871",
   "metadata": {},
   "outputs": [],
   "source": [
    "zoom_start = 10.5 * 60\n",
    "zoom_end = 12 * 60\n",
    "df_youtube_slice = df_youtube[(df_youtube['start_time'] >= zoom_start) & (df_youtube['end_time'] <= zoom_end)]"
   ]
  },
  {
   "cell_type": "code",
   "execution_count": 14,
   "id": "122f8446-919d-4611-accf-b0e1e2e4ea8e",
   "metadata": {},
   "outputs": [
    {
     "data": {
      "image/png": "[encoded data removed]",
      "text/plain": [
       "<Figure size 432x288 with 1 Axes>"
      ]
     },
     "metadata": {
      "needs_background": "light"
     },
     "output_type": "display_data"
    }
   ],
   "source": [
    "fig, ax = plt.subplots()\n",
    "ax.plot(player.hp.t(zoom_start, zoom_end).index / 60, player.hp.t(zoom_start, zoom_end))\n",
    "ax.plot(player.sdhp.t(zoom_start, zoom_end).index / 60, player.sdhp.t(zoom_start, zoom_end))\n",
    "ax.scatter(\n",
    "    x=player.deaths.t(zoom_start, zoom_end)['time'] / 60, \n",
    "    y=np.full(player.deaths.t(zoom_start, zoom_end).shape[0], -500),\n",
    "    color='r', marker='v', s=100)\n",
    "ax.scatter(x=df_youtube_slice['start_time'] / 60, y=np.full(df_youtube_slice.shape[0], -500), color='g', marker='$[$', s=100)\n",
    "ax.scatter(x=df_youtube_slice['end_time'] / 60, y=np.full(df_youtube_slice.shape[0], -500), color='g', marker='$]$', s=100)\n",
    "plt.show()"
   ]
  },
  {
   "cell_type": "markdown",
   "id": "a2c96149-6b6b-43a0-8480-1c8dafcc6fa2",
   "metadata": {},
   "source": [
    "Начало\n",
    "\n",
    "- Отрицательная скорость (Может медленно убывать)\n",
    "- Абсолютное значение хп < 30%\n",
    "\n",
    "Конец\n",
    "- Конец падения хп"
   ]
  },
  {
   "cell_type": "code",
   "execution_count": 15,
   "id": "66ccb3cd-62d4-44f8-b58e-505b688c5dfc",
   "metadata": {},
   "outputs": [],
   "source": [
    "from utils import TimeSeries"
   ]
  },
  {
   "cell_type": "code",
   "execution_count": 16,
   "id": "3d2beba0-6dc6-426e-939b-d9f6cc904d8b",
   "metadata": {},
   "outputs": [
    {
     "data": {
      "text/plain": [
       "-89      1.000000\n",
       "-88      1.000000\n",
       "-87      1.000000\n",
       "-86      1.000000\n",
       "-85      1.000000\n",
       "           ...   \n",
       " 2076    0.993004\n",
       " 2077    1.000000\n",
       " 2078    1.000000\n",
       " 2079    0.998807\n",
       " 2080    0.990060\n",
       "Name: hp, Length: 2170, dtype: float64"
      ]
     },
     "execution_count": 16,
     "metadata": {},
     "output_type": "execute_result"
    }
   ],
   "source": [
    "player.hp / player.max_hp"
   ]
  },
  {
   "cell_type": "code",
   "execution_count": 17,
   "id": "55f6db12-5f80-4902-b41b-750b155f02bb",
   "metadata": {},
   "outputs": [
    {
     "data": {
      "text/plain": [
       "[<matplotlib.lines.Line2D at 0x28b013d30>]"
      ]
     },
     "execution_count": 17,
     "metadata": {},
     "output_type": "execute_result"
    },
    {
     "data": {
      "image/png": "[encoded data removed]",
      "text/plain": [
       "<Figure size 432x288 with 1 Axes>"
      ]
     },
     "metadata": {
      "needs_background": "light"
     },
     "output_type": "display_data"
    }
   ],
   "source": [
    "plt.plot(player.hp.rolling(120).max())"
   ]
  },
  {
   "cell_type": "code",
   "execution_count": 18,
   "id": "91f77b58-34c0-47c7-a695-8eace3924a28",
   "metadata": {},
   "outputs": [],
   "source": [
    "signal_sdhp = player.sdhp < -20\n",
    "signal_sdhp = TimeSeries(signal_sdhp)"
   ]
  },
  {
   "cell_type": "code",
   "execution_count": 19,
   "id": "06ccb63e-c9bd-4895-a0d1-3cbac1521ea3",
   "metadata": {},
   "outputs": [
    {
     "data": {
      "image/png": "[encoded data removed]",
      "text/plain": [
       "<Figure size 432x288 with 1 Axes>"
      ]
     },
     "metadata": {
      "needs_background": "light"
     },
     "output_type": "display_data"
    }
   ],
   "source": [
    "fig, ax = plt.subplots()\n",
    "ax.plot(player.hp.t(zoom_start, zoom_end).index / 60, player.hp.t(zoom_start, zoom_end))\n",
    "ax.plot(player.sdhp.t(zoom_start, zoom_end).index / 60, player.sdhp.t(zoom_start, zoom_end))\n",
    "ax.scatter(\n",
    "    x=player.deaths.t(zoom_start, zoom_end)['time'] / 60, \n",
    "    y=np.full(player.deaths.t(zoom_start, zoom_end).shape[0], -500),\n",
    "    color='r', marker='v', s=100)\n",
    "ax.scatter(x=df_youtube_slice['start_time'] / 60, y=np.full(df_youtube_slice.shape[0], -500), color='g', marker='$[$', s=100)\n",
    "ax.scatter(x=df_youtube_slice['end_time'] / 60, y=np.full(df_youtube_slice.shape[0], -500), color='g', marker='$]$', s=100)\n",
    "ax.scatter(x=signal_sdhp.t(zoom_start, zoom_end).index / 60, y=signal_sdhp.t(zoom_start, zoom_end) * 50, color='r', marker='$*$', s=5)\n",
    "ax.scatter(x=signal_sdhp.t(zoom_start, zoom_end).index / 60, y=signal_sdhp.t(zoom_start, zoom_end))\n",
    "plt.show()"
   ]
  },
  {
   "cell_type": "markdown",
   "id": "0c3a0c8c-2a78-4216-b691-6e8116120b64",
   "metadata": {},
   "source": [
    "# Detector"
   ]
  },
  {
   "cell_type": "code",
   "execution_count": 50,
   "id": "cdcf0859-a4aa-4f68-b217-8b3573c67a87",
   "metadata": {},
   "outputs": [
    {
     "data": {
      "text/html": [
       "<div>\n",
       "<style scoped>\n",
       "    .dataframe tbody tr th:only-of-type {\n",
       "        vertical-align: middle;\n",
       "    }\n",
       "\n",
       "    .dataframe tbody tr th {\n",
       "        vertical-align: top;\n",
       "    }\n",
       "\n",
       "    .dataframe thead th {\n",
       "        text-align: right;\n",
       "    }\n",
       "</style>\n",
       "<table border=\"1\" class=\"dataframe\">\n",
       "  <thead>\n",
       "    <tr style=\"text-align: right;\">\n",
       "      <th></th>\n",
       "      <th>start</th>\n",
       "      <th>end</th>\n",
       "    </tr>\n",
       "  </thead>\n",
       "  <tbody>\n",
       "    <tr>\n",
       "      <th>0</th>\n",
       "      <td>62</td>\n",
       "      <td>66</td>\n",
       "    </tr>\n",
       "    <tr>\n",
       "      <th>1</th>\n",
       "      <td>120</td>\n",
       "      <td>123</td>\n",
       "    </tr>\n",
       "    <tr>\n",
       "      <th>2</th>\n",
       "      <td>133</td>\n",
       "      <td>143</td>\n",
       "    </tr>\n",
       "    <tr>\n",
       "      <th>3</th>\n",
       "      <td>165</td>\n",
       "      <td>171</td>\n",
       "    </tr>\n",
       "    <tr>\n",
       "      <th>4</th>\n",
       "      <td>185</td>\n",
       "      <td>188</td>\n",
       "    </tr>\n",
       "    <tr>\n",
       "      <th>5</th>\n",
       "      <td>328</td>\n",
       "      <td>337</td>\n",
       "    </tr>\n",
       "    <tr>\n",
       "      <th>6</th>\n",
       "      <td>456</td>\n",
       "      <td>468</td>\n",
       "    </tr>\n",
       "    <tr>\n",
       "      <th>7</th>\n",
       "      <td>482</td>\n",
       "      <td>491</td>\n",
       "    </tr>\n",
       "    <tr>\n",
       "      <th>8</th>\n",
       "      <td>671</td>\n",
       "      <td>682</td>\n",
       "    </tr>\n",
       "    <tr>\n",
       "      <th>9</th>\n",
       "      <td>1261</td>\n",
       "      <td>1267</td>\n",
       "    </tr>\n",
       "    <tr>\n",
       "      <th>10</th>\n",
       "      <td>1410</td>\n",
       "      <td>1416</td>\n",
       "    </tr>\n",
       "  </tbody>\n",
       "</table>\n",
       "</div>"
      ],
      "text/plain": [
       "    start   end\n",
       "0      62    66\n",
       "1     120   123\n",
       "2     133   143\n",
       "3     165   171\n",
       "4     185   188\n",
       "5     328   337\n",
       "6     456   468\n",
       "7     482   491\n",
       "8     671   682\n",
       "9    1261  1267\n",
       "10   1410  1416"
      ]
     },
     "execution_count": 50,
     "metadata": {},
     "output_type": "execute_result"
    }
   ],
   "source": [
    "df_attacks = find_low_and_decreasing_hp_intervals(player)\n",
    "df_attacks = pd.DataFrame(df_attacks)\n",
    "df_attacks"
   ]
  },
  {
   "cell_type": "code",
   "execution_count": 53,
   "id": "a0d097da-6759-4c8d-9f85-40de5b7c49c7",
   "metadata": {},
   "outputs": [
    {
     "data": {
      "image/png": "[encoded data removed]",
      "text/plain": [
       "<Figure size 432x288 with 1 Axes>"
      ]
     },
     "metadata": {
      "needs_background": "light"
     },
     "output_type": "display_data"
    }
   ],
   "source": [
    "fig, ax = plt.subplots()\n",
    "ax.plot(player.hp.index / 60, player.hp)\n",
    "ax.scatter(x=player.deaths['time'] / 60, y=np.full(player.deaths.shape[0], 0), color='r', marker='v', s=100)\n",
    "ax.scatter(x=df_attacks['start'] / 60, y=np.full(df_attacks.shape[0], 0), color='black', marker='$($', s=100)\n",
    "ax.scatter(x=df_attacks['end'] / 60, y=np.full(df_attacks.shape[0], 0), color='black', marker='$)$', s=100)\n",
    "ax.scatter(x=df_youtube['start_time'] / 60, y=np.full(df_youtube.shape[0], 0), color='green', marker='$[$', s=200)\n",
    "ax.scatter(x=df_youtube['end_time'] / 60, y=np.full(df_youtube.shape[0], 0), color='green', marker='$]$', s=200)\n",
    "plt.show()"
   ]
  },
  {
   "cell_type": "code",
   "execution_count": null,
   "id": "f98183d2-0849-435c-bb9c-0096a0e1f9d2",
   "metadata": {},
   "outputs": [],
   "source": []
  }
 ],
 "metadata": {
  "kernelspec": {
   "display_name": "Python 3 (ipykernel)",
   "language": "python",
   "name": "python3"
  },
  "language_info": {
   "codemirror_mode": {
    "name": "ipython",
    "version": 3
   },
   "file_extension": ".py",
   "mimetype": "text/x-python",
   "name": "python",
   "nbconvert_exporter": "python",
   "pygments_lexer": "ipython3",
   "version": "3.10.5"
  }
 },
 "nbformat": 4,
 "nbformat_minor": 5
}
