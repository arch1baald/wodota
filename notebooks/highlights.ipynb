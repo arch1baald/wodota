{
 "cells": [
  {
   "cell_type": "code",
   "execution_count": 2,
   "id": "23ce7523-3151-4835-9cd9-1bdc5d22b77a",
   "metadata": {},
   "outputs": [
    {
     "name": "stdout",
     "output_type": "stream",
     "text": [
      "The autoreload extension is already loaded. To reload it, use:\n",
      "  %reload_ext autoreload\n"
     ]
    }
   ],
   "source": [
    "%load_ext autoreload\n",
    "%autoreload 2\n",
    "\n",
    "import os\n",
    "import sys\n",
    "import json\n",
    "from pathlib import Path\n",
    "\n",
    "import requests\n",
    "import numpy as np\n",
    "import pandas as pd\n",
    "import matplotlib.pyplot as plt\n",
    "\n",
    "sys.path.append('../src')\n",
    "from settings import REPLAY_DIR, YOUTUBE_DIR, TIMESTAMPS_DIR\n",
    "from youtube import convert_to_timestamp\n",
    "from dota import Match\n",
    "\n",
    "pd.options.display.max_columns = 60"
   ]
  },
  {
   "cell_type": "code",
   "execution_count": 69,
   "id": "6eb3dcb5-683b-4ca3-9eb3-8fbe75eea6e0",
   "metadata": {},
   "outputs": [
    {
     "data": {
      "text/plain": [
       "Match: 6676393091, parsed: True"
      ]
     },
     "execution_count": 69,
     "metadata": {},
     "output_type": "execute_result"
    }
   ],
   "source": [
    "match = Match(6676393091, Path(REPLAY_DIR) / '6676393091.jsonlines')\n",
    "match._parse_events()\n",
    "match"
   ]
  },
  {
   "cell_type": "code",
   "execution_count": 70,
   "id": "e12f1146-4b17-4803-922b-15b3c6663903",
   "metadata": {},
   "outputs": [
    {
     "data": {
      "text/plain": [
       "MatchPlayer at match: 6676393091, slot: 1, hero_name: npc_dota_hero_pangolier, steam_id: 76561198134243802"
      ]
     },
     "execution_count": 70,
     "metadata": {},
     "output_type": "execute_result"
    }
   ],
   "source": [
    "player = match.players[1]\n",
    "player"
   ]
  },
  {
   "cell_type": "code",
   "execution_count": 76,
   "id": "329f3d2c-acbe-4b5f-b57b-4ec158e160be",
   "metadata": {},
   "outputs": [
    {
     "data": {
      "text/plain": [
       "900    1250\n",
       "901    1250\n",
       "902    1238\n",
       "903    1239\n",
       "904    1278\n",
       "       ... \n",
       "956    1290\n",
       "957    1290\n",
       "958    1290\n",
       "959    1258\n",
       "960    1138\n",
       "Name: hp, Length: 61, dtype: int64"
      ]
     },
     "execution_count": 76,
     "metadata": {},
     "output_type": "execute_result"
    }
   ],
   "source": [
    "player.hp.t(15 * 60, 16 * 60)"
   ]
  },
  {
   "cell_type": "code",
   "execution_count": null,
   "id": "9af4b88f-aa1d-4cc0-969e-78a27cb86d59",
   "metadata": {},
   "outputs": [],
   "source": []
  },
  {
   "cell_type": "code",
   "execution_count": null,
   "id": "2250bb38-c1d5-4852-82dc-a910e951f864",
   "metadata": {},
   "outputs": [],
   "source": []
  }
 ],
 "metadata": {
  "kernelspec": {
   "display_name": "Python 3 (ipykernel)",
   "language": "python",
   "name": "python3"
  },
  "language_info": {
   "codemirror_mode": {
    "name": "ipython",
    "version": 3
   },
   "file_extension": ".py",
   "mimetype": "text/x-python",
   "name": "python",
   "nbconvert_exporter": "python",
   "pygments_lexer": "ipython3",
   "version": "3.10.5"
  }
 },
 "nbformat": 4,
 "nbformat_minor": 5
}
