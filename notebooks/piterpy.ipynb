{
 "cells": [
  {
   "cell_type": "code",
   "execution_count": 1,
   "id": "bb76d2ce-2d0c-4e40-8a1f-664335aba070",
   "metadata": {},
   "outputs": [
    {
     "name": "stderr",
     "output_type": "stream",
     "text": [
      "2022-10-10 10:51:45.890 | INFO     | settings:<module>:10 - .env file exists: True\n",
      "2022-10-10 10:51:45.891 | INFO     | settings:<module>:13 - ROOT_DIR='/Users/dsavostianov/proj/morphling'\n",
      "2022-10-10 10:51:45.892 | INFO     | settings:<module>:19 - REPLAY_DIR='/Users/dsavostianov/proj/morphling/replays'\n",
      "2022-10-10 10:51:45.899 | INFO     | settings:<module>:22 - REDIS_URL='redis://dota_redis'\n",
      "2022-10-10 10:51:45.910 | INFO     | settings:<module>:26 - CLARITY_HOST='dota_clarity', CLARITY_PORT=5600\n"
     ]
    }
   ],
   "source": [
    "%load_ext autoreload\n",
    "%autoreload 2\n",
    "\n",
    "import sys\n",
    "\n",
    "sys.path.append('../src')\n",
    "from dota import Match"
   ]
  },
  {
   "cell_type": "code",
   "execution_count": 2,
   "id": "e11ccbe2-a0ab-4742-a7a8-969ae8006d41",
   "metadata": {},
   "outputs": [],
   "source": [
    "match = Match.from_id(6216665747)\n",
    "match.parse()"
   ]
  },
  {
   "cell_type": "code",
   "execution_count": 3,
   "id": "bf04c643-a260-4e00-af85-660dae6c238b",
   "metadata": {},
   "outputs": [
    {
     "data": {
      "text/plain": [
       "[{'start': 68, 'end': 75, 'clock_start': '01:08', 'clock_end': '01:15'},\n",
       " {'start': 135, 'end': 153, 'clock_start': '02:15', 'clock_end': '02:33'},\n",
       " {'start': 257, 'end': 283, 'clock_start': '04:17', 'clock_end': '04:43'},\n",
       " {'start': 329, 'end': 336, 'clock_start': '05:29', 'clock_end': '05:36'},\n",
       " {'start': 386, 'end': 396, 'clock_start': '06:26', 'clock_end': '06:36'},\n",
       " {'start': 437, 'end': 457, 'clock_start': '07:17', 'clock_end': '07:37'},\n",
       " {'start': 496, 'end': 501, 'clock_start': '08:16', 'clock_end': '08:21'},\n",
       " {'start': 559, 'end': 567, 'clock_start': '09:19', 'clock_end': '09:27'},\n",
       " {'start': 634, 'end': 651, 'clock_start': '10:34', 'clock_end': '10:51'},\n",
       " {'start': 716, 'end': 727, 'clock_start': '11:56', 'clock_end': '12:07'},\n",
       " {'start': 740, 'end': 768, 'clock_start': '12:20', 'clock_end': '12:48'},\n",
       " {'start': 833, 'end': 839, 'clock_start': '13:53', 'clock_end': '13:59'},\n",
       " {'start': 891, 'end': 927, 'clock_start': '14:51', 'clock_end': '15:27'},\n",
       " {'start': 941, 'end': 949, 'clock_start': '15:41', 'clock_end': '15:49'},\n",
       " {'start': 1024, 'end': 1051, 'clock_start': '17:04', 'clock_end': '17:31'},\n",
       " {'start': 1069, 'end': 1081, 'clock_start': '17:49', 'clock_end': '18:01'},\n",
       " {'start': 1142, 'end': 1157, 'clock_start': '19:02', 'clock_end': '19:17'},\n",
       " {'start': 1215, 'end': 1271, 'clock_start': '20:15', 'clock_end': '21:11'},\n",
       " {'start': 1347, 'end': 1378, 'clock_start': '22:27', 'clock_end': '22:58'},\n",
       " {'start': 1445, 'end': 1497, 'clock_start': '24:05', 'clock_end': '24:57'},\n",
       " {'start': 1602, 'end': 1611, 'clock_start': '26:42', 'clock_end': '26:51'},\n",
       " {'start': 1893, 'end': 1915, 'clock_start': '31:33', 'clock_end': '31:55'},\n",
       " {'start': 1945, 'end': 2012, 'clock_start': '32:25', 'clock_end': '33:32'}]"
      ]
     },
     "execution_count": 3,
     "metadata": {},
     "output_type": "execute_result"
    }
   ],
   "source": [
    "match.get_action_moments()"
   ]
  },
  {
   "cell_type": "code",
   "execution_count": null,
   "id": "e8099307-6c1b-4862-96b9-8fc7a7f06f22",
   "metadata": {},
   "outputs": [],
   "source": []
  }
 ],
 "metadata": {
  "kernelspec": {
   "display_name": "Python 3 (ipykernel)",
   "language": "python",
   "name": "python3"
  },
  "language_info": {
   "codemirror_mode": {
    "name": "ipython",
    "version": 3
   },
   "file_extension": ".py",
   "mimetype": "text/x-python",
   "name": "python",
   "nbconvert_exporter": "python",
   "pygments_lexer": "ipython3",
   "version": "3.10.6"
  }
 },
 "nbformat": 4,
 "nbformat_minor": 5
}
