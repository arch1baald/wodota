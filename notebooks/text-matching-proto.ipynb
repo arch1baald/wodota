{
 "cells": [
  {
   "cell_type": "code",
   "execution_count": 13,
   "id": "ebddf6df-e7aa-4bb3-89dc-826e00ebe47c",
   "metadata": {},
   "outputs": [
    {
     "name": "stdout",
     "output_type": "stream",
     "text": [
      "The autoreload extension is already loaded. To reload it, use:\n",
      "  %reload_ext autoreload\n"
     ]
    }
   ],
   "source": [
    "%load_ext autoreload\n",
    "%autoreload 2\n",
    "\n",
    "import sys\n",
    "from datetime import datetime, timedelta\n",
    "\n",
    "import requests\n",
    "import torch\n",
    "import torch.nn.functional as F\n",
    "from tenacity import retry, stop_after_attempt, wait_fixed\n",
    "from loguru import logger\n",
    "from transformers import DistilBertTokenizer, DistilBertModel\n",
    "\n",
    "sys.path.append('../src')\n",
    "from youtube import get_video_metadata\n",
    "from settings import YOUTUBE_DIR"
   ]
  },
  {
   "cell_type": "markdown",
   "id": "b708c8ad-81d3-47a8-b5f4-55f5bbcf33b1",
   "metadata": {},
   "source": [
    "# Query Matches"
   ]
  },
  {
   "cell_type": "code",
   "execution_count": 14,
   "id": "914ad4b3-e06a-4983-8949-517dda37cf85",
   "metadata": {},
   "outputs": [],
   "source": [
    "@retry(stop=stop_after_attempt(3), wait=wait_fixed(2))\n",
    "def query_opendota(sql, **kwargs):\n",
    "    query = sql.format(**kwargs)\n",
    "    logger.debug(query)\n",
    "    query = query.replace('\\n', ' ').replace('\\t', ' ')\n",
    "    query = ' '.join(word for word in query.split(' ') if word)\n",
    "    r = requests.get('https://api.opendota.com/api/explorer', params=dict(sql=query))\n",
    "    r.raise_for_status()\n",
    "    result = r.json()\n",
    "    rows = result['rows']\n",
    "    return rows"
   ]
  },
  {
   "cell_type": "code",
   "execution_count": 15,
   "id": "f5c36089-4e45-4eb1-aedf-8ea0b5945cef",
   "metadata": {},
   "outputs": [],
   "source": [
    "query = '''\n",
    "SELECT\n",
    "    match_id,\n",
    "    start_time,\n",
    "    matches.leagueid,\n",
    "    leagues.name as league,\n",
    "    radiant_team_id,\n",
    "    radiant_team.name as radiant_name,\n",
    "    radiant_team.tag as radiant_tag,\n",
    "    dire_team_id,\n",
    "    dire_team.name as dire_name,\n",
    "    dire_team.tag as dire_tag\n",
    "FROM\n",
    "    matches\n",
    "    join teams as dire_team on matches.dire_team_id = dire_team.team_id\n",
    "    join teams as radiant_team on matches.radiant_team_id = radiant_team.team_id\n",
    "    join leagues on matches.leagueid = leagues.leagueid\n",
    "WHERE\n",
    "    start_time >= extract(epoch from timestamp '{start_time}')\n",
    "    and start_time <= extract(epoch from timestamp '{end_time}')\n",
    "ORDER BY\n",
    "    start_time desc\n",
    "LIMIT\n",
    "    100\n",
    "'''"
   ]
  },
  {
   "cell_type": "code",
   "execution_count": 16,
   "id": "4f12b532-9c3d-45cf-b7df-9a683f6721e7",
   "metadata": {},
   "outputs": [
    {
     "name": "stderr",
     "output_type": "stream",
     "text": [
      "2022-08-04 12:18:46.157 | DEBUG    | __main__:query_opendota:4 - \n",
      "SELECT\n",
      "    match_id,\n",
      "    start_time,\n",
      "    matches.leagueid,\n",
      "    leagues.name as league,\n",
      "    radiant_team_id,\n",
      "    radiant_team.name as radiant_name,\n",
      "    radiant_team.tag as radiant_tag,\n",
      "    dire_team_id,\n",
      "    dire_team.name as dire_name,\n",
      "    dire_team.tag as dire_tag\n",
      "FROM\n",
      "    matches\n",
      "    join teams as dire_team on matches.dire_team_id = dire_team.team_id\n",
      "    join teams as radiant_team on matches.radiant_team_id = radiant_team.team_id\n",
      "    join leagues on matches.leagueid = leagues.leagueid\n",
      "WHERE\n",
      "    start_time >= extract(epoch from timestamp '04-07-2022')\n",
      "    and start_time <= extract(epoch from timestamp '05-07-2022')\n",
      "ORDER BY\n",
      "    start_time desc\n",
      "LIMIT\n",
      "    100\n",
      "\n"
     ]
    },
    {
     "data": {
      "text/plain": [
       "[{'match_id': 6558371729,\n",
       "  'start_time': 1651880157,\n",
       "  'leagueid': 14132,\n",
       "  'league': 'BTC Joy Race',\n",
       "  'radiant_team_id': 7121518,\n",
       "  'radiant_name': 'Unknown Team',\n",
       "  'radiant_tag': 'Unknown',\n",
       "  'dire_team_id': 8254112,\n",
       "  'dire_name': 'Omega Gaming',\n",
       "  'dire_tag': 'Ωmega'},\n",
       " {'match_id': 6558357364,\n",
       "  'start_time': 1651878656,\n",
       "  'leagueid': 14166,\n",
       "  'league': 'BTS Pro Series 11',\n",
       "  'radiant_team_id': 8376426,\n",
       "  'radiant_name': 'Wildcard Gaming',\n",
       "  'radiant_tag': 'WC',\n",
       "  'dire_team_id': 8604954,\n",
       "  'dire_name': 'DogChamp',\n",
       "  'dire_tag': 'Dog'},\n",
       " {'match_id': 6558318351,\n",
       "  'start_time': 1651875582,\n",
       "  'leagueid': 14166,\n",
       "  'league': 'BTS Pro Series 11',\n",
       "  'radiant_team_id': 8604954,\n",
       "  'radiant_name': 'DogChamp',\n",
       "  'radiant_tag': 'Dog',\n",
       "  'dire_team_id': 8376426,\n",
       "  'dire_name': 'Wildcard Gaming',\n",
       "  'dire_tag': 'WC'}]"
      ]
     },
     "execution_count": 16,
     "metadata": {},
     "output_type": "execute_result"
    }
   ],
   "source": [
    "query_opendota(query, start_time='04-07-2022', end_time='05-07-2022')[:3]"
   ]
  },
  {
   "cell_type": "markdown",
   "id": "175e2bab-5b09-4be7-abff-d5426a00561b",
   "metadata": {},
   "source": [
    "# Get Titles"
   ]
  },
  {
   "cell_type": "code",
   "execution_count": 17,
   "id": "2cd524d5-bdf0-4eb7-ae77-af2b09c8c8c7",
   "metadata": {},
   "outputs": [
    {
     "data": {
      "text/plain": [
       "(['https://www.youtube.com/watch?v=G4UcPjn7YFQ',\n",
       "  'https://www.youtube.com/watch?v=r4rbY6zliTQ',\n",
       "  'https://www.youtube.com/watch?v=ieh5x4uz-OE'],\n",
       " 1964)"
      ]
     },
     "execution_count": 17,
     "metadata": {},
     "output_type": "execute_result"
    }
   ],
   "source": [
    "with open(YOUTUBE_DIR / 'urls.txt', 'r') as fin:\n",
    "    urls = [line.strip() for line in fin]\n",
    "urls[:3], len(urls)"
   ]
  },
  {
   "cell_type": "code",
   "execution_count": 18,
   "id": "d0551c75-daa3-4012-89f4-41fcae845ca1",
   "metadata": {},
   "outputs": [
    {
     "data": {
      "text/plain": [
       "('RNG vs XTREME - MATCH for ARLINGTON MAJOR! - DPC 2022 CN TOUR 3 SUMMER Dota 2 Highlights',\n",
       " datetime.datetime(2022, 7, 8, 0, 0))"
      ]
     },
     "execution_count": 18,
     "metadata": {},
     "output_type": "execute_result"
    }
   ],
   "source": [
    "video_id, metadata = get_video_metadata(urls[40])\n",
    "title = metadata['fulltitle']\n",
    "upload_date = metadata['upload_date']\n",
    "upload_date = datetime.strptime(upload_date, '%Y%m%d')\n",
    "title, upload_date"
   ]
  },
  {
   "cell_type": "markdown",
   "id": "b1b45cce-d569-4da2-bea6-10747d2dca22",
   "metadata": {},
   "source": [
    "# Search"
   ]
  },
  {
   "cell_type": "code",
   "execution_count": 19,
   "id": "1a646e5b-b784-4895-88a7-11f8bc0a9f6d",
   "metadata": {},
   "outputs": [
    {
     "name": "stderr",
     "output_type": "stream",
     "text": [
      "Some weights of the model checkpoint at distilbert-base-uncased were not used when initializing DistilBertModel: ['vocab_layer_norm.weight', 'vocab_projector.weight', 'vocab_layer_norm.bias', 'vocab_transform.bias', 'vocab_transform.weight', 'vocab_projector.bias']\n",
      "- This IS expected if you are initializing DistilBertModel from the checkpoint of a model trained on another task or with another architecture (e.g. initializing a BertForSequenceClassification model from a BertForPreTraining model).\n",
      "- This IS NOT expected if you are initializing DistilBertModel from the checkpoint of a model that you expect to be exactly identical (initializing a BertForSequenceClassification model from a BertForSequenceClassification model).\n"
     ]
    }
   ],
   "source": [
    "tokenizer = DistilBertTokenizer.from_pretrained(\"distilbert-base-uncased\")\n",
    "model = DistilBertModel.from_pretrained(\"distilbert-base-uncased\")"
   ]
  },
  {
   "cell_type": "markdown",
   "id": "21a6738f-909d-477a-a7ec-c457a87e409f",
   "metadata": {},
   "source": [
    "Dota Digest Format"
   ]
  },
  {
   "cell_type": "code",
   "execution_count": 20,
   "id": "72628a57-b8df-411c-81fc-d0661060fbde",
   "metadata": {},
   "outputs": [
    {
     "data": {
      "text/plain": [
       "('RNG vs XTREME', 'DPC 2022 CN TOUR 3 SUMMER')"
      ]
     },
     "execution_count": 20,
     "metadata": {},
     "output_type": "execute_result"
    }
   ],
   "source": [
    "teams, comment, tournament = [t.strip() for t in title.split('-')]\n",
    "tournament = tournament.replace(' Dota 2 Highlights', '')\n",
    "teams, tournament"
   ]
  },
  {
   "cell_type": "code",
   "execution_count": 21,
   "id": "100266ed-79c6-4b2c-b50c-fcde60fd3efd",
   "metadata": {},
   "outputs": [
    {
     "name": "stderr",
     "output_type": "stream",
     "text": [
      "2022-08-04 12:19:05.447 | DEBUG    | __main__:query_opendota:4 - \n",
      "SELECT\n",
      "    match_id,\n",
      "    start_time,\n",
      "    matches.leagueid,\n",
      "    leagues.name as league,\n",
      "    radiant_team_id,\n",
      "    radiant_team.name as radiant_name,\n",
      "    radiant_team.tag as radiant_tag,\n",
      "    dire_team_id,\n",
      "    dire_team.name as dire_name,\n",
      "    dire_team.tag as dire_tag\n",
      "FROM\n",
      "    matches\n",
      "    join teams as dire_team on matches.dire_team_id = dire_team.team_id\n",
      "    join teams as radiant_team on matches.radiant_team_id = radiant_team.team_id\n",
      "    join leagues on matches.leagueid = leagues.leagueid\n",
      "WHERE\n",
      "    start_time >= extract(epoch from timestamp '07-06-2022')\n",
      "    and start_time <= extract(epoch from timestamp '07-09-2022')\n",
      "ORDER BY\n",
      "    start_time desc\n",
      "LIMIT\n",
      "    100\n",
      "\n"
     ]
    }
   ],
   "source": [
    "end_time = upload_date + timedelta(days=1)\n",
    "start_time = upload_date - timedelta(days=2)\n",
    "matches = query_opendota(\n",
    "    query,\n",
    "    start_time=datetime.strftime(start_time, '%m-%d-%Y'),\n",
    "    end_time=datetime.strftime(end_time, '%m-%d-%Y')\n",
    ")"
   ]
  },
  {
   "cell_type": "markdown",
   "id": "50b855f2-792f-4ba4-b61b-a26060be7fcd",
   "metadata": {},
   "source": [
    "## Tournament Only"
   ]
  },
  {
   "cell_type": "code",
   "execution_count": 22,
   "id": "fae73dfa-567a-4a91-abba-4abfd5c57088",
   "metadata": {},
   "outputs": [
    {
     "data": {
      "text/plain": [
       "['Ultras Dota Pro League ',\n",
       " 'Destiny league',\n",
       " 'DPC CN Division II Summer Tour - 2021/2022 presented by Perfect World Esports',\n",
       " 'DPC NA Division II Summer Tour - 2021/2022 - ESL One Summer presented by Intel',\n",
       " 'DPC SA Division I  Summer Tour – 2021/2022 by 4D Esports',\n",
       " 'Chaos Realm League',\n",
       " 'DPC SA Division II Summer Tour – 2021/2022 by 4D Esports',\n",
       " 'DPC 2021-2022 Summer Tour (EEU) Division I by Beyond The Summit',\n",
       " 'DPC CN Division I Summer Tour - 2021/2022 presented by Perfect World Esports',\n",
       " 'DPC 2021-2022 Summer Tour (EEU) Division II by Beyond The Summit',\n",
       " 'Nepal E-Sports Championship 2022',\n",
       " 'Dota 2 Champions League 2021-2022 Season',\n",
       " 'DPC SEA Division II Tour 3 - 2021/2022 by Beyond The Summit',\n",
       " 'DPC SEA Division I Tour 3 - 2021/2022 by Beyond The Summit',\n",
       " 'Titus Colosseum Cup',\n",
       " 'Knights Arena']"
      ]
     },
     "execution_count": 22,
     "metadata": {},
     "output_type": "execute_result"
    }
   ],
   "source": [
    "tournaments = list(set(m['league'] for m in matches))\n",
    "tournaments"
   ]
  },
  {
   "cell_type": "code",
   "execution_count": 23,
   "id": "106e6ad5-19b7-4bd0-b2ad-896aa324505b",
   "metadata": {},
   "outputs": [],
   "source": [
    "inputs = tokenizer([tournament] + tournaments, return_tensors='pt', padding=True)\n",
    "outputs = model(**inputs)\n",
    "last_hidden_states = outputs.last_hidden_state"
   ]
  },
  {
   "cell_type": "code",
   "execution_count": 47,
   "id": "92e2fb37-b4d8-4d85-bd13-7b91dda06711",
   "metadata": {},
   "outputs": [
    {
     "name": "stdout",
     "output_type": "stream",
     "text": [
      "\n",
      "DPC SA Division II Summer Tour – 2021/2022 by 4D Esports\n",
      "DPC SA Division I  Summer Tour – 2021/2022 by 4D Esports\n",
      "DPC SEA Division I Tour 3 - 2021/2022 by Beyond The Summit\n",
      "DPC CN Division II Summer Tour - 2021/2022 presented by Perfect World Esports\n",
      "Nepal E-Sports Championship 2022\n"
     ]
    }
   ],
   "source": [
    "with torch.no_grad():\n",
    "    tournaments_embeddings = torch.mean(last_hidden_states, dim=1)\n",
    "    similarities = F.cosine_similarity(tournaments_embeddings[0:1], tournaments_embeddings[1:], dim=1)\n",
    "    idx_closest = torch.argmax(similarities)\n",
    "    tournament_top_ids = torch.topk(similarities, k=5).indices\n",
    "print()\n",
    "for idx in tournament_top_ids:\n",
    "    print(tournaments[idx])"
   ]
  },
  {
   "cell_type": "code",
   "execution_count": 48,
   "id": "a7b828e4-41e7-49e4-9302-1317822eca6b",
   "metadata": {},
   "outputs": [
    {
     "data": {
      "text/plain": [
       "'DPC SA Division II Summer Tour – 2021/2022 by 4D Esports'"
      ]
     },
     "execution_count": 48,
     "metadata": {},
     "output_type": "execute_result"
    }
   ],
   "source": [
    "tournaments[idx_closest]"
   ]
  },
  {
   "cell_type": "markdown",
   "id": "c8601413-2b83-4543-95f3-7d31f0aff074",
   "metadata": {},
   "source": [
    "## Full Title"
   ]
  },
  {
   "cell_type": "code",
   "execution_count": 49,
   "id": "9be22d24-7534-4fb0-87d5-9cd64403dcc0",
   "metadata": {},
   "outputs": [
    {
     "data": {
      "text/plain": [
       "'RNG vs XTREME | DPC 2022 CN TOUR 3 SUMMER'"
      ]
     },
     "execution_count": 49,
     "metadata": {},
     "output_type": "execute_result"
    }
   ],
   "source": [
    "formatted_title = f'{teams} | {tournament}'\n",
    "formatted_title"
   ]
  },
  {
   "cell_type": "code",
   "execution_count": 50,
   "id": "7bfdd0b6-c024-473a-8be4-3fd4d3aa4e0a",
   "metadata": {},
   "outputs": [],
   "source": [
    "title_candidates = dict()\n",
    "for m in matches:    \n",
    "    match_id = m['match_id']\n",
    "    league = m['league']\n",
    "    \n",
    "    radiant_tag = m['radiant_tag']\n",
    "    dire_tag = m['dire_tag']\n",
    "    candidate_on_tag_1 = f'{radiant_tag} vs {dire_tag} | {league}'\n",
    "    title_candidates[candidate_on_tag_1] = match_id\n",
    "    candidate_on_tag_2 = f'{dire_tag} vs {radiant_tag} | {league}'\n",
    "    title_candidates[candidate_on_tag_2] = match_id\n",
    "    \n",
    "    radiant_name = m['radiant_name']\n",
    "    dire_name = m['dire_name']\n",
    "    candidate_on_name_1 = f'{radiant_name} vs {dire_name} | {league}'\n",
    "    title_candidates[candidate_on_name_1] = match_id\n",
    "    candidate_on_name_2 = f'{dire_name} vs {radiant_name} | {league}'\n",
    "    title_candidates[candidate_on_name_2] = match_id\n",
    "title_candidates_keys = list(title_candidates.keys())"
   ]
  },
  {
   "cell_type": "code",
   "execution_count": 51,
   "id": "96f3656f-5c74-4247-86a3-e65bd89c88da",
   "metadata": {},
   "outputs": [],
   "source": [
    "inputs = tokenizer([formatted_title] + title_candidates_keys, return_tensors='pt', padding=True)\n",
    "outputs = model(**inputs)\n",
    "hidden_state = outputs.last_hidden_state"
   ]
  },
  {
   "cell_type": "code",
   "execution_count": 52,
   "id": "63b6aa2e-e4c0-4918-a799-96fef7b815d6",
   "metadata": {},
   "outputs": [
    {
     "name": "stdout",
     "output_type": "stream",
     "text": [
      "RNG vs XTREME | DPC 2022 CN TOUR 3 SUMMER\n",
      "\n",
      "BOOM vs T1 | DPC SEA Division I Tour 3 - 2021/2022 by Beyond The Summit\n",
      "T1 vs BOOM | DPC SEA Division I Tour 3 - 2021/2022 by Beyond The Summit\n",
      "RNG vs XG | DPC CN Division I Summer Tour - 2021/2022 presented by Perfect World Esports\n",
      "XG vs RNG | DPC CN Division I Summer Tour - 2021/2022 presented by Perfect World Esports\n",
      "BOOM Esports vs T1 | DPC SEA Division I Tour 3 - 2021/2022 by Beyond The Summit\n"
     ]
    }
   ],
   "source": [
    "with torch.no_grad():\n",
    "    embeddings = torch.mean(hidden_state, dim=1)\n",
    "    similarities = F.cosine_similarity(embeddings[0:1], embeddings[1:], dim=1)\n",
    "    top_ids = torch.topk(similarities, k=5).indices\n",
    "\n",
    "print(formatted_title)\n",
    "print()\n",
    "for idx in top_ids:\n",
    "    print(title_candidates_keys[idx])"
   ]
  },
  {
   "cell_type": "markdown",
   "id": "47de84f7-7a61-45de-93a5-29596ea4dcc1",
   "metadata": {},
   "source": [
    "## Names"
   ]
  },
  {
   "cell_type": "code",
   "execution_count": 56,
   "id": "f5724f06-9a64-408b-8b16-91180f922da0",
   "metadata": {},
   "outputs": [],
   "source": [
    "team_candidates = dict()\n",
    "for m in matches:\n",
    "    league = m['league']\n",
    "    # Filter only tournament\n",
    "    # if league != tournaments[idx_closest]:\n",
    "    # if league not in ((tournaments[idx] for idx in tournament_top_ids)):\n",
    "        # continue\n",
    "    match_id = m['match_id']\n",
    "    \n",
    "    radiant_tag = m['radiant_tag']\n",
    "    dire_tag = m['dire_tag']\n",
    "    candidate_on_tag_1 = f'{radiant_tag} vs {dire_tag}'\n",
    "    team_candidates[candidate_on_tag_1] = match_id\n",
    "    candidate_on_tag_2 = f'{dire_tag} vs {radiant_tag}'\n",
    "    team_candidates[candidate_on_tag_2] = match_id\n",
    "    \n",
    "    radiant_name = m['radiant_name']\n",
    "    dire_name = m['dire_name']\n",
    "    candidate_on_name_1 = f'{radiant_name} vs {dire_name}'\n",
    "    team_candidates[candidate_on_name_1] = match_id\n",
    "    candidate_on_name_2 = f'{dire_name} vs {radiant_name}'\n",
    "    team_candidates[candidate_on_name_2] = match_id\n",
    "team_candidates_keys = list(team_candidates.keys())"
   ]
  },
  {
   "cell_type": "code",
   "execution_count": 57,
   "id": "9fc63320-89c3-4928-a0ee-5bd0078a0606",
   "metadata": {},
   "outputs": [],
   "source": [
    "inputs = tokenizer([teams] + team_candidates_keys, return_tensors='pt', padding=True)\n",
    "outputs = model(**inputs)\n",
    "hidden_state = outputs.last_hidden_state"
   ]
  },
  {
   "cell_type": "code",
   "execution_count": 58,
   "id": "6c1d3501-0108-4df8-8132-2d3d4be8c64a",
   "metadata": {},
   "outputs": [
    {
     "name": "stdout",
     "output_type": "stream",
     "text": [
      "RNG vs XTREME | DPC 2022 CN TOUR 3 SUMMER\n",
      "\n",
      "RNG vs XG\n",
      "Royal Never Give Up vs Xtreme  Gaming | DPC CN Division I Summer Tour - 2021/2022 presented by Perfect World Esports\n",
      "\n",
      "XG vs RNG\n",
      "Royal Never Give Up vs Xtreme  Gaming | DPC CN Division I Summer Tour - 2021/2022 presented by Perfect World Esports\n",
      "\n",
      "SG esports vs beastcoast\n",
      "beastcoast vs SG esports | DPC SA Division I  Summer Tour – 2021/2022 by 4D Esports\n",
      "\n"
     ]
    }
   ],
   "source": [
    "with torch.no_grad():\n",
    "    embeddings = torch.mean(hidden_state, dim=1)\n",
    "    similarities = F.cosine_similarity(embeddings[0:1], embeddings[1:], dim=1)\n",
    "    top_ids = torch.topk(similarities, k=3).indices\n",
    "\n",
    "print(formatted_title)\n",
    "print()\n",
    "for idx in top_ids:\n",
    "    print(team_candidates_keys[idx])\n",
    "    match_id = team_candidates[team_candidates_keys[idx]]\n",
    "    for m in matches:\n",
    "        if m['match_id'] == match_id:\n",
    "            radiant_name = m['radiant_name']\n",
    "            dire_name = m['dire_name']\n",
    "            league = m['league']\n",
    "            found = f'{radiant_name} vs {dire_name} | {league}'\n",
    "            print(found)\n",
    "            print()"
   ]
  },
  {
   "cell_type": "markdown",
   "id": "5b2bfe34-652d-40e1-a021-53416d7c3817",
   "metadata": {},
   "source": [
    "### Use all strategies\n",
    "1. Teams + Tournament\n",
    "2. Teams -> Tournament\n",
    "3. Tournament -> Teams"
   ]
  },
  {
   "cell_type": "code",
   "execution_count": 61,
   "id": "c8156d60-1d96-4b05-b843-3fbca6fbaa93",
   "metadata": {},
   "outputs": [
    {
     "data": {
      "text/plain": [
       "torch.Size([167, 13, 768])"
      ]
     },
     "execution_count": 61,
     "metadata": {},
     "output_type": "execute_result"
    }
   ],
   "source": [
    "hidden_state.shape"
   ]
  },
  {
   "cell_type": "code",
   "execution_count": null,
   "id": "600327d5-b0cb-401d-80ed-ce5b7360b7e8",
   "metadata": {},
   "outputs": [],
   "source": []
  }
 ],
 "metadata": {
  "kernelspec": {
   "display_name": "Python 3 (ipykernel)",
   "language": "python",
   "name": "python3"
  },
  "language_info": {
   "codemirror_mode": {
    "name": "ipython",
    "version": 3
   },
   "file_extension": ".py",
   "mimetype": "text/x-python",
   "name": "python",
   "nbconvert_exporter": "python",
   "pygments_lexer": "ipython3",
   "version": "3.10.5"
  }
 },
 "nbformat": 4,
 "nbformat_minor": 5
}
